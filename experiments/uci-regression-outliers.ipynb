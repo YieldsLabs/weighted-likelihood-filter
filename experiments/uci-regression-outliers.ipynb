{
 "cells": [
  {
   "cell_type": "markdown",
   "id": "6d972ef2-135e-4fcc-abf1-f6625f1f1687",
   "metadata": {},
   "source": [
    "# UCI regression with outliers"
   ]
  },
  {
   "cell_type": "code",
   "execution_count": 2,
   "id": "59893632-5ed8-4d8f-83ae-976ebfe54d48",
   "metadata": {
    "tags": []
   },
   "outputs": [],
   "source": [
    "import jax\n",
    "import optax\n",
    "import pickle\n",
    "import datagen\n",
    "import pandas as pd\n",
    "import numpy as np\n",
    "import jax.numpy as jnp\n",
    "import seaborn as sns\n",
    "import flax.linen as nn\n",
    "import matplotlib.pyplot as plt\n",
    "\n",
    "from tqdm import tqdm\n",
    "from time import time\n",
    "from functools import partial\n",
    "from rebayes_mini import callbacks\n",
    "from bayes_opt import BayesianOptimization\n",
    "from rebayes_mini.methods import replay_sgd\n",
    "from rebayes_mini.methods import student_t_filter as stf\n",
    "from rebayes_mini.methods import gauss_filter as kf\n",
    "from rebayes_mini.methods import robust_filter as rkf\n",
    "from rebayes_mini.methods import generalised_bayes_filter as gbf"
   ]
  },
  {
   "cell_type": "code",
   "execution_count": 3,
   "id": "65d8c388-243d-41e4-9977-151d5809a946",
   "metadata": {
    "tags": []
   },
   "outputs": [],
   "source": [
    "%load_ext autoreload\n",
    "%autoreload 2\n",
    "%config InlineBackend.figure_format = \"retina\"\n",
    "\n",
    "plt.rcParams[\"font.size\"] = 18\n",
    "cmap = {\n",
    "    \"KF-IW\": \"crimson\",\n",
    "    \"WLF-IMQ\": \"dodgerblue\",\n",
    "    \"KF\": \"lightseagreen\",\n",
    "    \"WLF-MD\": \"gold\",\n",
    "    \"KF-B\": \"darkorange\",\n",
    "    \"OGD\": \"blueviolet\",\n",
    "    \"WLF-OGD\": \"silver\",\n",
    "}"
   ]
  },
  {
   "cell_type": "markdown",
   "id": "f2d53263-b138-4d2e-b929-f3afaaddac09",
   "metadata": {},
   "source": [
    "## Load dataset"
   ]
  },
  {
   "cell_type": "code",
   "execution_count": 4,
   "id": "be0f591b-9ba0-4798-8983-96cb18ca7df1",
   "metadata": {
    "tags": []
   },
   "outputs": [
    {
     "name": "stdout",
     "output_type": "stream",
     "text": [
      "protein-tertiary-structure (45731, 10)\n",
      "naval-propulsion-plant (11935, 18)\n",
      "wine-quality-red (1600, 12)\n",
      "bostonHousing (507, 14)\n",
      "power-plant (9569, 5)\n",
      "concrete (1031, 9)\n",
      "energy (769, 9)\n",
      "kin8nm (8193, 9)\n",
      "yacht (309, 7)\n"
     ]
    }
   ],
   "source": [
    "uci = datagen.UCIDatasets(\"./data\")\n",
    "for dataset_name in sorted(uci.datasets, key=lambda x: -len(x)):\n",
    "    dataset = uci.load_dataset(dataset_name)\n",
    "    print(dataset_name, dataset.shape)"
   ]
  },
  {
   "cell_type": "code",
   "execution_count": 5,
   "id": "8d0ba2bc-29d5-4aa1-9414-16fe4fc1f5e2",
   "metadata": {
    "tags": []
   },
   "outputs": [],
   "source": [
    "dataset_name = \"kin8nm\"\n",
    "dataset_name = \"naval-propulsion-plant\"\n",
    "noise_type = \"target\" # or \"covariate\"\n",
    "\n",
    "X_collection= []\n",
    "y_collection = []\n",
    "ix_clean_collection = []\n",
    "\n",
    "n_runs = 100\n",
    "v_error = 50\n",
    "seed_init = 314\n",
    "p_error = 0.10\n",
    "for i in range(n_runs):\n",
    "    if noise_type == \"target\":\n",
    "        data = uci.sample_one_sided_noisy_dataset(dataset_name, p_error=p_error, seed=seed_init + i, v_error=v_error)\n",
    "        ix_clean = ~data[\"err_where\"].astype(bool)\n",
    "    elif noise_type == \"covariate\":\n",
    "        data = uci.sample_noisy_covariates(dataset_name, p_error=p_error, seed=seed_init + i, v_error=v_error)\n",
    "        ix_clean = ~data[\"err_where\"].any(axis=1).astype(bool)\n",
    "    else:\n",
    "        raise KeyError(f\"Noise {noise_type} not available\")\n",
    "        \n",
    "    X = data[\"X\"]\n",
    "    y = data[\"y\"]\n",
    "    \n",
    "    \n",
    "    X_collection.append(X)\n",
    "    y_collection.append(y)\n",
    "    ix_clean_collection.append(ix_clean)"
   ]
  },
  {
   "cell_type": "code",
   "execution_count": 6,
   "id": "c19818d1-6b69-4c6c-98f0-6fe2a5ba051c",
   "metadata": {
    "tags": []
   },
   "outputs": [
    {
     "data": {
      "text/plain": [
       "(100, 10742, 17)"
      ]
     },
     "execution_count": 6,
     "metadata": {},
     "output_type": "execute_result"
    }
   ],
   "source": [
    "n_samples = y.shape[0]\n",
    "X_collection = jnp.array(X_collection)\n",
    "y_collection = jnp.array(y_collection)\n",
    "mask_clean = np.array(ix_clean_collection).T\n",
    "X_collection.shape"
   ]
  },
  {
   "cell_type": "markdown",
   "id": "43bfa109-8bb2-4d52-a260-87acf845dfb7",
   "metadata": {},
   "source": [
    "## Setup"
   ]
  },
  {
   "cell_type": "code",
   "execution_count": 7,
   "id": "13a7263b-fa9e-45ed-9761-5f6497a6c202",
   "metadata": {
    "tags": []
   },
   "outputs": [],
   "source": [
    "class MLP(nn.Module):\n",
    "    @nn.compact\n",
    "    def __call__(self, x):\n",
    "        x = nn.Dense(20)(x)\n",
    "        x = nn.relu(x)\n",
    "        x = nn.Dense(1)(x)\n",
    "        return x"
   ]
  },
  {
   "cell_type": "code",
   "execution_count": 8,
   "id": "700f9f97-cb16-492e-a901-15798ed2138c",
   "metadata": {
    "tags": []
   },
   "outputs": [],
   "source": [
    "def callback_fn(bel, bel_pred, y, x, applyfn):\n",
    "    yhat = applyfn(bel_pred.mean, x[None])\n",
    "    return yhat"
   ]
  },
  {
   "cell_type": "code",
   "execution_count": 9,
   "id": "c9242364-c509-46be-b90d-0c73dd6d1d6c",
   "metadata": {
    "tags": []
   },
   "outputs": [],
   "source": [
    "y, X = y_collection[0], X_collection[0]\n",
    "ix_clean = ix_clean_collection[0]"
   ]
  },
  {
   "cell_type": "code",
   "execution_count": 10,
   "id": "c32becd5-df29-4eb1-a571-e6156693b054",
   "metadata": {
    "tags": []
   },
   "outputs": [],
   "source": [
    "Q = 0.0\n",
    "observation_covariance = 1.0"
   ]
  },
  {
   "cell_type": "code",
   "execution_count": 11,
   "id": "f1697cb2-4e1e-49c9-9089-4314002d81e8",
   "metadata": {
    "tags": []
   },
   "outputs": [],
   "source": [
    "key = jax.random.PRNGKey(314)\n",
    "model = MLP()\n",
    "def latent_fn(x): return x\n",
    "measurement_fn = model.apply\n",
    "params_init = model.init(key, X[:1])"
   ]
  },
  {
   "cell_type": "markdown",
   "id": "abe60f6b-669f-478e-a93f-71e57e267a45",
   "metadata": {},
   "source": [
    "# Run experiments"
   ]
  },
  {
   "cell_type": "code",
   "execution_count": 12,
   "id": "1ede94f5-9cd4-4524-8b76-b3496e2cf887",
   "metadata": {
    "tags": []
   },
   "outputs": [],
   "source": [
    "time_methods = {}\n",
    "hist_methods = {}\n",
    "configs = {}"
   ]
  },
  {
   "cell_type": "code",
   "execution_count": 13,
   "id": "6d2e4c1a-bb78-467b-82d4-81b9355f2ceb",
   "metadata": {},
   "outputs": [],
   "source": [
    "observation_covariance = jnp.eye(1) * 1.0"
   ]
  },
  {
   "cell_type": "markdown",
   "id": "e6154f3a-ff48-420e-81e4-6e38d9f4fd94",
   "metadata": {},
   "source": [
    "## Kalman Filter"
   ]
  },
  {
   "cell_type": "code",
   "execution_count": 14,
   "id": "8bbc272b-ccb5-43d6-8f9a-43cf7773eaed",
   "metadata": {
    "tags": []
   },
   "outputs": [],
   "source": [
    "@jax.jit\n",
    "def filter_kf(log_lr, measurements, covariates):\n",
    "    lr = jnp.exp(log_lr)\n",
    "    nsteps = len(measurements)\n",
    "    agent = rkf.ExtendedKalmanFilterIMQ(\n",
    "        latent_fn, measurement_fn,\n",
    "        dynamics_covariance=Q,\n",
    "        observation_covariance=observation_covariance,\n",
    "        soft_threshold=1e8,\n",
    "    )\n",
    "    \n",
    "    init_bel = agent.init_bel(params_init, cov=lr)\n",
    "    callback = partial(callback_fn, applyfn=agent.vobs_fn)\n",
    "    bel, yhat_pp = agent.scan(init_bel, measurements, covariates, callback_fn=callback)\n",
    "    \n",
    "    # out = (agent, bel)\n",
    "    return yhat_pp.squeeze()\n",
    "\n",
    "\n",
    "@jax.jit\n",
    "def opt_step(log_lr):\n",
    "    yhat_pp = filter_kf(log_lr, y, X)\n",
    "    err = jnp.power(yhat_pp - y, 2)\n",
    "    err = jnp.median(err)\n",
    "    err = jax.lax.cond(jnp.isnan(err), lambda: 1e6, lambda: err)\n",
    "    return -err"
   ]
  },
  {
   "cell_type": "code",
   "execution_count": 15,
   "id": "ea1c3775-8325-461c-865a-6e45217f2ac6",
   "metadata": {
    "tags": []
   },
   "outputs": [
    {
     "name": "stdout",
     "output_type": "stream",
     "text": [
      "|   iter    |  target   |  log_lr   |\n",
      "-------------------------------------\n",
      "| \u001b[0m1        \u001b[0m | \u001b[0m-0.5188  \u001b[0m | \u001b[0m-0.4156  \u001b[0m |\n",
      "| \u001b[0m2        \u001b[0m | \u001b[0m-0.9546  \u001b[0m | \u001b[0m-2.057   \u001b[0m |\n",
      "| \u001b[0m3        \u001b[0m | \u001b[0m-0.6848  \u001b[0m | \u001b[0m-3.675   \u001b[0m |\n",
      "| \u001b[0m4        \u001b[0m | \u001b[0m-0.8802  \u001b[0m | \u001b[0m-1.084   \u001b[0m |\n",
      "| \u001b[0m5        \u001b[0m | \u001b[0m-1.155   \u001b[0m | \u001b[0m-0.41    \u001b[0m |\n",
      "| \u001b[95m6        \u001b[0m | \u001b[95m-0.3959  \u001b[0m | \u001b[95m-2.846   \u001b[0m |\n",
      "| \u001b[0m7        \u001b[0m | \u001b[0m-0.3959  \u001b[0m | \u001b[0m-2.846   \u001b[0m |\n",
      "| \u001b[0m8        \u001b[0m | \u001b[0m-0.5557  \u001b[0m | \u001b[0m-0.4199  \u001b[0m |\n",
      "| \u001b[0m9        \u001b[0m | \u001b[0m-0.9356  \u001b[0m | \u001b[0m-2.84    \u001b[0m |\n",
      "| \u001b[0m10       \u001b[0m | \u001b[0m-0.5763  \u001b[0m | \u001b[0m-2.85    \u001b[0m |\n",
      "| \u001b[0m11       \u001b[0m | \u001b[0m-0.9268  \u001b[0m | \u001b[0m-0.4255  \u001b[0m |\n",
      "| \u001b[0m12       \u001b[0m | \u001b[0m-0.6364  \u001b[0m | \u001b[0m-2.857   \u001b[0m |\n",
      "| \u001b[0m13       \u001b[0m | \u001b[0m-0.6552  \u001b[0m | \u001b[0m-2.863   \u001b[0m |\n",
      "| \u001b[0m14       \u001b[0m | \u001b[0m-0.5006  \u001b[0m | \u001b[0m-2.87    \u001b[0m |\n",
      "| \u001b[0m15       \u001b[0m | \u001b[0m-0.4834  \u001b[0m | \u001b[0m-2.874   \u001b[0m |\n",
      "=====================================\n"
     ]
    }
   ],
   "source": [
    "bo = BayesianOptimization(\n",
    "    opt_step,\n",
    "    pbounds={\n",
    "        \"log_lr\": (-5, 0),\n",
    "    },\n",
    "    verbose=2,\n",
    "    random_state=314,\n",
    "    allow_duplicate_points=True\n",
    ")\n",
    "\n",
    "bo.maximize(init_points=5, n_iter=10)"
   ]
  },
  {
   "cell_type": "code",
   "execution_count": 16,
   "id": "8f40a89e-5029-487b-be5a-272771367394",
   "metadata": {
    "tags": []
   },
   "outputs": [
    {
     "name": "stderr",
     "output_type": "stream",
     "text": [
      "100%|██████████████████████████████████████████████████████████████████████████████████████████████████████████████████████████████| 100/100 [00:24<00:00,  4.05it/s]\n"
     ]
    }
   ],
   "source": [
    "method = \"KF\"\n",
    "log_lr = bo.max[\"params\"][\"log_lr\"]\n",
    "configs[method] = bo.max[\"params\"]\n",
    "\n",
    "hist_bel = []\n",
    "times = []\n",
    "\n",
    "for yc, Xc in tqdm(zip(y_collection, X_collection), total=n_runs): \n",
    "    tinit = time()\n",
    "    run = filter_kf(log_lr, y, X)\n",
    "    run = jax.block_until_ready(run)\n",
    "    tend = time()\n",
    "    \n",
    "    hist_bel.append(run)\n",
    "    times.append(tend - tinit)\n",
    "\n",
    "hist_bel = np.stack(hist_bel)\n",
    "\n",
    "hist_methods[method] = hist_bel\n",
    "time_methods[method] = times"
   ]
  },
  {
   "cell_type": "markdown",
   "id": "bd0e5432-33e3-4319-a6df-c789d380d104",
   "metadata": {},
   "source": [
    "## KF-B"
   ]
  },
  {
   "cell_type": "code",
   "execution_count": 17,
   "id": "3c921da7-cfd4-4c65-9b9f-cf13838089aa",
   "metadata": {
    "tags": []
   },
   "outputs": [],
   "source": [
    "@jax.jit\n",
    "def filter_kfb(log_lr, alpha, beta, n_inner, measurements, covariates):\n",
    "    lr = jnp.exp(log_lr)\n",
    "    n_inner = n_inner.astype(int)\n",
    "    \n",
    "    agent = rkf.ExtendedKalmanFilterBernoulli(\n",
    "        latent_fn, measurement_fn,\n",
    "        dynamics_covariance=Q,\n",
    "        observation_covariance=observation_covariance,\n",
    "        alpha=alpha,\n",
    "        beta=beta,\n",
    "        tol_inlier=1e-7,\n",
    "        n_inner=n_inner\n",
    "    )\n",
    "    \n",
    "    init_bel = agent.init_bel(params_init, cov=lr)\n",
    "    callback = partial(callback_fn, applyfn=agent.vobs_fn)\n",
    "    bel, yhat_pp = agent.scan(init_bel, measurements, covariates, callback_fn=callback)\n",
    "    \n",
    "    return yhat_pp.squeeze()\n",
    "\n",
    "\n",
    "@jax.jit\n",
    "def opt_step(log_lr, alpha, beta, n_inner):\n",
    "    yhat_pp = filter_kfb(log_lr, alpha, beta, n_inner, y, X)\n",
    "    err = jnp.power(yhat_pp - y, 2)\n",
    "    err = jnp.median(err)\n",
    "    err = jax.lax.cond(jnp.isnan(err), lambda: 1e6, lambda: err)\n",
    "    return -err"
   ]
  },
  {
   "cell_type": "code",
   "execution_count": 18,
   "id": "8feb4a62-02db-40e3-a42e-41116458e189",
   "metadata": {
    "tags": []
   },
   "outputs": [
    {
     "name": "stdout",
     "output_type": "stream",
     "text": [
      "|   iter    |  target   |   alpha   |   beta    |  log_lr   |  n_inner  |\n",
      "-------------------------------------------------------------------------\n",
      "| \u001b[95m2        \u001b[0m | \u001b[95m-0.05594 \u001b[0m | \u001b[95m4.59     \u001b[0m | \u001b[95m4.137    \u001b[0m | \u001b[95m-1.36    \u001b[0m | \u001b[95m3.344    \u001b[0m |\n",
      "| \u001b[95m3        \u001b[0m | \u001b[95m-0.03985 \u001b[0m | \u001b[95m4.559    \u001b[0m | \u001b[95m1.304    \u001b[0m | \u001b[95m-1.168   \u001b[0m | \u001b[95m3.354    \u001b[0m |\n",
      "| \u001b[95m7        \u001b[0m | \u001b[95m-0.03929 \u001b[0m | \u001b[95m2.853    \u001b[0m | \u001b[95m2.399    \u001b[0m | \u001b[95m-0.6946  \u001b[0m | \u001b[95m8.513    \u001b[0m |\n",
      "| \u001b[95m25       \u001b[0m | \u001b[95m-0.0185  \u001b[0m | \u001b[95m3.087    \u001b[0m | \u001b[95m0.04429  \u001b[0m | \u001b[95m-0.3136  \u001b[0m | \u001b[95m5.678    \u001b[0m |\n",
      "| \u001b[95m28       \u001b[0m | \u001b[95m-0.01524 \u001b[0m | \u001b[95m4.583    \u001b[0m | \u001b[95m0.7123   \u001b[0m | \u001b[95m0.0      \u001b[0m | \u001b[95m10.0     \u001b[0m |\n",
      "=========================================================================\n"
     ]
    }
   ],
   "source": [
    "bo = BayesianOptimization(\n",
    "    opt_step,\n",
    "    pbounds={\n",
    "        \"log_lr\": (-5, 0),\n",
    "        \"alpha\": (0.0, 5.0),\n",
    "        \"beta\": (0.0, 5.0),\n",
    "\n",
    "        \"n_inner\":  (1, 10),\n",
    "    },\n",
    "    random_state=314,\n",
    "    verbose=1\n",
    ")\n",
    "bo.maximize(init_points=20, n_iter=30)"
   ]
  },
  {
   "cell_type": "code",
   "execution_count": 19,
   "id": "4305d03c-fd20-49b4-8960-eddf92e12a55",
   "metadata": {
    "tags": []
   },
   "outputs": [
    {
     "name": "stderr",
     "output_type": "stream",
     "text": [
      "100%|██████████████████████████████████████████████████████████████████████████████████████████████████████████████████████████████| 100/100 [04:19<00:00,  2.59s/it]\n"
     ]
    }
   ],
   "source": [
    "method = \"KF-B\"\n",
    "configs[method] = bo.max[\"params\"]\n",
    "\n",
    "hist_bel = []\n",
    "times = []\n",
    "\n",
    "for yc, Xc in tqdm(zip(y_collection, X_collection), total=n_runs): \n",
    "    tinit = time()\n",
    "    run = filter_kfb(**bo.max[\"params\"], measurements=y, covariates=X)\n",
    "    run = jax.block_until_ready(run)\n",
    "    tend = time()\n",
    "    \n",
    "    hist_bel.append(run)\n",
    "    times.append(tend - tinit)\n",
    "\n",
    "hist_bel = np.stack(hist_bel)\n",
    "\n",
    "hist_methods[method] = hist_bel\n",
    "time_methods[method] = times"
   ]
  },
  {
   "cell_type": "markdown",
   "id": "76aa6c7d-78b4-408e-98e6-cb689d3cdc68",
   "metadata": {},
   "source": [
    "## KF-IW"
   ]
  },
  {
   "cell_type": "code",
   "execution_count": 20,
   "id": "e4c6573d-b63e-4c94-b70f-7c811df15736",
   "metadata": {
    "tags": []
   },
   "outputs": [],
   "source": [
    "@jax.jit\n",
    "def filter_kfiw(log_lr, noise_scaling, n_inner, measurements, covariates):\n",
    "    lr = jnp.exp(log_lr)\n",
    "    n_inner = n_inner.astype(int)\n",
    "    \n",
    "    agent = rkf.ExtendedKalmanFilterInverseWishart(\n",
    "        latent_fn, measurement_fn,\n",
    "        dynamics_covariance=Q,\n",
    "        prior_observation_covariance=observation_covariance,\n",
    "        n_inner=n_inner,\n",
    "        noise_scaling=noise_scaling\n",
    "    )\n",
    "    \n",
    "    init_bel = agent.init_bel(params_init, cov=lr)\n",
    "    callback = partial(callback_fn, applyfn=agent.vobs_fn)\n",
    "    bel, yhat_pp = agent.scan(init_bel, measurements, covariates, callback_fn=callback)\n",
    "    \n",
    "    return yhat_pp.squeeze()\n",
    "\n",
    "\n",
    "@jax.jit\n",
    "def opt_step(log_lr, noise_scaling, n_inner):\n",
    "    yhat_pp = filter_kfiw(log_lr, noise_scaling, n_inner, y, X)\n",
    "    err = jnp.power(yhat_pp - y, 2)\n",
    "    err = jnp.median(err)\n",
    "    err = jax.lax.cond(jnp.isnan(err), lambda: 1e6, lambda: err)\n",
    "    return -err"
   ]
  },
  {
   "cell_type": "code",
   "execution_count": 21,
   "id": "283694c5-dfcb-41e5-adff-04d51c26ecac",
   "metadata": {
    "tags": []
   },
   "outputs": [
    {
     "name": "stdout",
     "output_type": "stream",
     "text": [
      "|   iter    |  target   |  log_lr   |  n_inner  | noise_... |\n",
      "-------------------------------------------------------------\n",
      "=============================================================\n"
     ]
    }
   ],
   "source": [
    "bo = BayesianOptimization(\n",
    "    opt_step,\n",
    "    pbounds={\n",
    "        \"log_lr\": (-5, 0),\n",
    "        \"noise_scaling\": (1e-6, 20),\n",
    "        \"n_inner\":  (1, 10),\n",
    "    },\n",
    "    random_state=314,\n",
    "    verbose=1\n",
    ")\n",
    "bo.maximize(init_points=20, n_iter=30)"
   ]
  },
  {
   "cell_type": "code",
   "execution_count": 22,
   "id": "029a242d-4304-419e-b7c8-c409896ab4c0",
   "metadata": {
    "tags": []
   },
   "outputs": [
    {
     "name": "stderr",
     "output_type": "stream",
     "text": [
      "100%|██████████████████████████████████████████████████████████████████████████████████████████████████████████████████████████████| 100/100 [02:39<00:00,  1.59s/it]\n"
     ]
    }
   ],
   "source": [
    "method = \"KF-IW\"\n",
    "configs[method] = bo.max[\"params\"]\n",
    "\n",
    "hist_bel = []\n",
    "times = []\n",
    "\n",
    "for yc, Xc in tqdm(zip(y_collection, X_collection), total=n_runs): \n",
    "    tinit = time()\n",
    "    run = filter_kfiw(**bo.max[\"params\"], measurements=y, covariates=X)\n",
    "    run = jax.block_until_ready(run)\n",
    "    tend = time()\n",
    "    \n",
    "    hist_bel.append(run)\n",
    "    times.append(tend - tinit)\n",
    "\n",
    "hist_bel = np.stack(hist_bel)\n",
    "\n",
    "hist_methods[method] = hist_bel\n",
    "time_methods[method] = times"
   ]
  },
  {
   "cell_type": "markdown",
   "id": "2d337752-351e-471c-84bf-3798ed13fae8",
   "metadata": {},
   "source": [
    "## WLF-IMQ"
   ]
  },
  {
   "cell_type": "code",
   "execution_count": 23,
   "id": "f1dd7593-8280-490d-920e-89a37399d8a7",
   "metadata": {
    "tags": []
   },
   "outputs": [],
   "source": [
    "@jax.jit\n",
    "def filter_wlfimq(log_lr, soft_threshold, measurements, covariates):\n",
    "    lr = jnp.exp(log_lr)\n",
    "    nsteps = len(measurements)\n",
    "    agent = rkf.ExtendedKalmanFilterIMQ(\n",
    "        latent_fn, measurement_fn,\n",
    "        dynamics_covariance=Q,\n",
    "        observation_covariance=observation_covariance,\n",
    "        soft_threshold=soft_threshold,\n",
    "    )\n",
    "    \n",
    "    init_bel = agent.init_bel(params_init, cov=lr)\n",
    "    callback = partial(callback_fn, applyfn=agent.vobs_fn)\n",
    "    bel, yhat_pp = agent.scan(init_bel, measurements, covariates, callback_fn=callback)\n",
    "    \n",
    "    # out = (agent, bel)\n",
    "    return yhat_pp.squeeze()\n",
    "\n",
    "\n",
    "@jax.jit\n",
    "def opt_step(log_lr, soft_threshold):\n",
    "    yhat_pp = filter_wlfimq(log_lr, soft_threshold, y, X)\n",
    "    err = jnp.power(yhat_pp - y, 2)\n",
    "    err = jnp.median(err)\n",
    "    err = jax.lax.cond(jnp.isnan(err), lambda: 1e6, lambda: err)\n",
    "    return -err"
   ]
  },
  {
   "cell_type": "code",
   "execution_count": 24,
   "id": "f5c40895-6960-4861-a78b-416f8ee1bcfb",
   "metadata": {
    "tags": []
   },
   "outputs": [
    {
     "name": "stdout",
     "output_type": "stream",
     "text": [
      "|   iter    |  target   |  log_lr   | soft_t... |\n",
      "-------------------------------------------------\n",
      "| \u001b[0m1        \u001b[0m | \u001b[0m-0.05871 \u001b[0m | \u001b[0m-0.4156  \u001b[0m | \u001b[0m11.77    \u001b[0m |\n",
      "| \u001b[0m2        \u001b[0m | \u001b[0m-0.08106 \u001b[0m | \u001b[0m-3.675   \u001b[0m | \u001b[0m15.66    \u001b[0m |\n",
      "| \u001b[0m3        \u001b[0m | \u001b[0m-0.07878 \u001b[0m | \u001b[0m-0.41    \u001b[0m | \u001b[0m16.55    \u001b[0m |\n",
      "| \u001b[95m4        \u001b[0m | \u001b[95m-0.03827 \u001b[0m | \u001b[95m-1.36    \u001b[0m | \u001b[95m5.21     \u001b[0m |\n",
      "| \u001b[95m5        \u001b[0m | \u001b[95m-0.02445 \u001b[0m | \u001b[95m-0.4412  \u001b[0m | \u001b[95m5.215    \u001b[0m |\n",
      "| \u001b[0m6        \u001b[0m | \u001b[0m-0.03685 \u001b[0m | \u001b[0m-1.168   \u001b[0m | \u001b[0m5.231    \u001b[0m |\n",
      "| \u001b[0m7        \u001b[0m | \u001b[0m-0.08144 \u001b[0m | \u001b[0m-4.389   \u001b[0m | \u001b[0m7.72     \u001b[0m |\n",
      "| \u001b[0m8        \u001b[0m | \u001b[0m-0.03124 \u001b[0m | \u001b[0m-0.7996  \u001b[0m | \u001b[0m5.564    \u001b[0m |\n",
      "| \u001b[0m9        \u001b[0m | \u001b[0m-0.0819  \u001b[0m | \u001b[0m-4.65    \u001b[0m | \u001b[0m12.66    \u001b[0m |\n",
      "| \u001b[0m10       \u001b[0m | \u001b[0m-0.07644 \u001b[0m | \u001b[0m-2.076   \u001b[0m | \u001b[0m11.62    \u001b[0m |\n",
      "| \u001b[0m11       \u001b[0m | \u001b[0m-0.07536 \u001b[0m | \u001b[0m-1.614   \u001b[0m | \u001b[0m13.74    \u001b[0m |\n",
      "| \u001b[0m12       \u001b[0m | \u001b[0m-0.07104 \u001b[0m | \u001b[0m-2.805   \u001b[0m | \u001b[0m6.419    \u001b[0m |\n",
      "| \u001b[0m13       \u001b[0m | \u001b[0m-0.06424 \u001b[0m | \u001b[0m-2.147   \u001b[0m | \u001b[0m9.597    \u001b[0m |\n",
      "| \u001b[0m14       \u001b[0m | \u001b[0m-0.08664 \u001b[0m | \u001b[0m-0.6946  \u001b[0m | \u001b[0m16.7     \u001b[0m |\n",
      "| \u001b[0m15       \u001b[0m | \u001b[0m-0.08226 \u001b[0m | \u001b[0m-4.471   \u001b[0m | \u001b[0m1.208    \u001b[0m |\n",
      "| \u001b[0m16       \u001b[0m | \u001b[0m-0.08511 \u001b[0m | \u001b[0m-2.016   \u001b[0m | \u001b[0m15.85    \u001b[0m |\n",
      "| \u001b[0m17       \u001b[0m | \u001b[0m-0.08039 \u001b[0m | \u001b[0m-3.868   \u001b[0m | \u001b[0m10.7     \u001b[0m |\n",
      "| \u001b[0m18       \u001b[0m | \u001b[0m-0.08123 \u001b[0m | \u001b[0m-4.32    \u001b[0m | \u001b[0m7.445    \u001b[0m |\n",
      "| \u001b[0m19       \u001b[0m | \u001b[0m-0.08126 \u001b[0m | \u001b[0m-4.24    \u001b[0m | \u001b[0m8.596    \u001b[0m |\n",
      "| \u001b[0m20       \u001b[0m | \u001b[0m-0.05024 \u001b[0m | \u001b[0m-1.036   \u001b[0m | \u001b[0m8.139    \u001b[0m |\n",
      "| \u001b[95m21       \u001b[0m | \u001b[95m-0.01347 \u001b[0m | \u001b[95m0.0      \u001b[0m | \u001b[95m3.454    \u001b[0m |\n",
      "| \u001b[95m22       \u001b[0m | \u001b[95m-0.01101 \u001b[0m | \u001b[95m0.0      \u001b[0m | \u001b[95m1.562    \u001b[0m |\n",
      "| \u001b[0m23       \u001b[0m | \u001b[0m-0.09676 \u001b[0m | \u001b[0m-0.08503 \u001b[0m | \u001b[0m0.03104  \u001b[0m |\n",
      "| \u001b[0m24       \u001b[0m | \u001b[0m-0.02362 \u001b[0m | \u001b[0m-0.9083  \u001b[0m | \u001b[0m2.402    \u001b[0m |\n",
      "| \u001b[0m25       \u001b[0m | \u001b[0m-0.01234 \u001b[0m | \u001b[0m0.0      \u001b[0m | \u001b[0m2.38     \u001b[0m |\n",
      "| \u001b[0m26       \u001b[0m | \u001b[0m-0.02859 \u001b[0m | \u001b[0m0.0      \u001b[0m | \u001b[0m6.709    \u001b[0m |\n",
      "| \u001b[0m27       \u001b[0m | \u001b[0m-0.08414 \u001b[0m | \u001b[0m-5.0     \u001b[0m | \u001b[0m20.0     \u001b[0m |\n",
      "| \u001b[0m28       \u001b[0m | \u001b[0m-0.0158  \u001b[0m | \u001b[0m0.0      \u001b[0m | \u001b[0m4.313    \u001b[0m |\n",
      "| \u001b[0m29       \u001b[0m | \u001b[0m-0.1085  \u001b[0m | \u001b[0m-2.22e-16\u001b[0m | \u001b[0m20.0     \u001b[0m |\n",
      "| \u001b[0m30       \u001b[0m | \u001b[0m-0.07102 \u001b[0m | \u001b[0m-2.849   \u001b[0m | \u001b[0m3.628    \u001b[0m |\n",
      "| \u001b[0m31       \u001b[0m | \u001b[0m-0.03597 \u001b[0m | \u001b[0m0.0      \u001b[0m | \u001b[0m9.547    \u001b[0m |\n",
      "| \u001b[0m32       \u001b[0m | \u001b[0m-0.01479 \u001b[0m | \u001b[0m-0.3403  \u001b[0m | \u001b[0m1.781    \u001b[0m |\n",
      "| \u001b[0m33       \u001b[0m | \u001b[0m-0.02116 \u001b[0m | \u001b[0m-0.5816  \u001b[0m | \u001b[0m3.649    \u001b[0m |\n",
      "| \u001b[0m34       \u001b[0m | \u001b[0m-0.02265 \u001b[0m | \u001b[0m0.0      \u001b[0m | \u001b[0m5.628    \u001b[0m |\n",
      "| \u001b[0m35       \u001b[0m | \u001b[0m-0.01164 \u001b[0m | \u001b[0m-0.004572\u001b[0m | \u001b[0m1.899    \u001b[0m |\n",
      "| \u001b[0m36       \u001b[0m | \u001b[0m-0.0123  \u001b[0m | \u001b[0m0.0      \u001b[0m | \u001b[0m2.919    \u001b[0m |\n",
      "| \u001b[0m37       \u001b[0m | \u001b[0m-0.01443 \u001b[0m | \u001b[0m-0.2613  \u001b[0m | \u001b[0m2.762    \u001b[0m |\n",
      "| \u001b[95m38       \u001b[0m | \u001b[95m-0.01092 \u001b[0m | \u001b[95m-0.04834 \u001b[0m | \u001b[95m1.573    \u001b[0m |\n",
      "| \u001b[0m39       \u001b[0m | \u001b[0m-0.07484 \u001b[0m | \u001b[0m0.0      \u001b[0m | \u001b[0m14.23    \u001b[0m |\n",
      "| \u001b[0m40       \u001b[0m | \u001b[0m-0.04606 \u001b[0m | \u001b[0m0.0      \u001b[0m | \u001b[0m8.161    \u001b[0m |\n",
      "| \u001b[0m41       \u001b[0m | \u001b[0m-0.08246 \u001b[0m | \u001b[0m-5.0     \u001b[0m | \u001b[0m4.695    \u001b[0m |\n",
      "| \u001b[0m42       \u001b[0m | \u001b[0m-0.01118 \u001b[0m | \u001b[0m-0.03714 \u001b[0m | \u001b[0m1.737    \u001b[0m |\n",
      "| \u001b[0m43       \u001b[0m | \u001b[0m-0.0132  \u001b[0m | \u001b[0m-0.1274  \u001b[0m | \u001b[0m1.506    \u001b[0m |\n",
      "| \u001b[0m44       \u001b[0m | \u001b[0m-0.08301 \u001b[0m | \u001b[0m-5.0     \u001b[0m | \u001b[0m17.46    \u001b[0m |\n",
      "| \u001b[0m45       \u001b[0m | \u001b[0m-0.08836 \u001b[0m | \u001b[0m-2.702   \u001b[0m | \u001b[0m20.0     \u001b[0m |\n",
      "| \u001b[0m46       \u001b[0m | \u001b[0m-0.2566  \u001b[0m | \u001b[0m-2.805   \u001b[0m | \u001b[0m0.01718  \u001b[0m |\n",
      "| \u001b[0m47       \u001b[0m | \u001b[0m-0.08285 \u001b[0m | \u001b[0m-5.0     \u001b[0m | \u001b[0m2.627    \u001b[0m |\n",
      "| \u001b[0m48       \u001b[0m | \u001b[0m-0.08273 \u001b[0m | \u001b[0m-4.984   \u001b[0m | \u001b[0m14.76    \u001b[0m |\n",
      "| \u001b[0m49       \u001b[0m | \u001b[0m-0.04818 \u001b[0m | \u001b[0m-0.02374 \u001b[0m | \u001b[0m10.75    \u001b[0m |\n",
      "| \u001b[0m50       \u001b[0m | \u001b[0m-0.04148 \u001b[0m | \u001b[0m-1.123   \u001b[0m | \u001b[0m6.786    \u001b[0m |\n",
      "=================================================\n"
     ]
    }
   ],
   "source": [
    "bo = BayesianOptimization(\n",
    "    opt_step,\n",
    "    pbounds={\n",
    "        \"log_lr\": (-5, 0),\n",
    "        \"soft_threshold\": (1e-6, 20)\n",
    "    },\n",
    "    verbose=2,\n",
    "    random_state=314,\n",
    "    allow_duplicate_points=True\n",
    ")\n",
    "\n",
    "bo.maximize(init_points=20, n_iter=30)"
   ]
  },
  {
   "cell_type": "code",
   "execution_count": 25,
   "id": "89f2b189-9b66-4136-a95e-854524b7070e",
   "metadata": {
    "tags": []
   },
   "outputs": [
    {
     "name": "stderr",
     "output_type": "stream",
     "text": [
      "100%|██████████████████████████████████████████████████████████████████████████████████████████████████████████████████████████████| 100/100 [00:23<00:00,  4.33it/s]\n"
     ]
    }
   ],
   "source": [
    "method = \"WLF-IMQ\"\n",
    "log_lr = bo.max[\"params\"][\"log_lr\"]\n",
    "configs[method] = bo.max[\"params\"]\n",
    "\n",
    "hist_bel = []\n",
    "times = []\n",
    "\n",
    "for yc, Xc in tqdm(zip(y_collection, X_collection), total=n_runs): \n",
    "    tinit = time()\n",
    "    run = filter_wlfimq(**bo.max[\"params\"], measurements=y, covariates=X)\n",
    "    run = jax.block_until_ready(run)\n",
    "    tend = time()\n",
    "    \n",
    "    hist_bel.append(run)\n",
    "    times.append(tend - tinit)\n",
    "\n",
    "hist_bel = np.stack(hist_bel)\n",
    "\n",
    "hist_methods[method] = hist_bel\n",
    "time_methods[method] = times"
   ]
  },
  {
   "cell_type": "markdown",
   "id": "45e1930e-3197-4df4-9ba5-b00336904da2",
   "metadata": {},
   "source": [
    "## WLF-MD"
   ]
  },
  {
   "cell_type": "code",
   "execution_count": 26,
   "id": "111fece7-4678-47c3-8eab-7f8015ec0fdb",
   "metadata": {
    "tags": []
   },
   "outputs": [],
   "source": [
    "@jax.jit\n",
    "def filter_wlfmd(log_lr, threshold, measurements, covariates):\n",
    "    lr = jnp.exp(log_lr)\n",
    "    nsteps = len(measurements)\n",
    "    agent = rkf.ExtendedKalmanFilterMD(\n",
    "        latent_fn, measurement_fn,\n",
    "        dynamics_covariance=Q,\n",
    "        observation_covariance=observation_covariance,\n",
    "        threshold=threshold,\n",
    "    )\n",
    "    \n",
    "    init_bel = agent.init_bel(params_init, cov=lr)\n",
    "    callback = partial(callback_fn, applyfn=agent.vobs_fn)\n",
    "    bel, yhat_pp = agent.scan(init_bel, measurements, covariates, callback_fn=callback)\n",
    "    \n",
    "    # out = (agent, bel)\n",
    "    return yhat_pp.squeeze()\n",
    "\n",
    "\n",
    "@jax.jit\n",
    "def opt_step(log_lr, threshold):\n",
    "    yhat_pp = filter_wlfmd(log_lr, threshold, y, X)\n",
    "    err = jnp.power(yhat_pp - y, 2)\n",
    "    err = jnp.median(err)\n",
    "    err = jax.lax.cond(jnp.isnan(err), lambda: 1e6, lambda: err)\n",
    "    return -err"
   ]
  },
  {
   "cell_type": "code",
   "execution_count": 27,
   "id": "9ec0e25b-e549-4a37-bf39-3f75135f8050",
   "metadata": {
    "tags": []
   },
   "outputs": [
    {
     "name": "stdout",
     "output_type": "stream",
     "text": [
      "|   iter    |  target   |  log_lr   | threshold |\n",
      "-------------------------------------------------\n",
      "| \u001b[0m1        \u001b[0m | \u001b[0m-0.01525 \u001b[0m | \u001b[0m-0.4156  \u001b[0m | \u001b[0m11.77    \u001b[0m |\n",
      "| \u001b[0m2        \u001b[0m | \u001b[0m-0.07926 \u001b[0m | \u001b[0m-3.675   \u001b[0m | \u001b[0m15.66    \u001b[0m |\n",
      "| \u001b[0m3        \u001b[0m | \u001b[0m-0.01566 \u001b[0m | \u001b[0m-0.41    \u001b[0m | \u001b[0m16.55    \u001b[0m |\n",
      "| \u001b[0m4        \u001b[0m | \u001b[0m-0.03223 \u001b[0m | \u001b[0m-1.36    \u001b[0m | \u001b[0m5.21     \u001b[0m |\n",
      "| \u001b[0m5        \u001b[0m | \u001b[0m-0.01679 \u001b[0m | \u001b[0m-0.4412  \u001b[0m | \u001b[0m5.215    \u001b[0m |\n",
      "| \u001b[0m6        \u001b[0m | \u001b[0m-0.02883 \u001b[0m | \u001b[0m-1.168   \u001b[0m | \u001b[0m5.231    \u001b[0m |\n",
      "| \u001b[0m7        \u001b[0m | \u001b[0m-0.08164 \u001b[0m | \u001b[0m-4.389   \u001b[0m | \u001b[0m7.72     \u001b[0m |\n",
      "| \u001b[0m8        \u001b[0m | \u001b[0m-0.02147 \u001b[0m | \u001b[0m-0.7996  \u001b[0m | \u001b[0m5.564    \u001b[0m |\n",
      "| \u001b[0m9        \u001b[0m | \u001b[0m-0.08219 \u001b[0m | \u001b[0m-4.65    \u001b[0m | \u001b[0m12.66    \u001b[0m |\n",
      "| \u001b[0m10       \u001b[0m | \u001b[0m-0.05334 \u001b[0m | \u001b[0m-2.076   \u001b[0m | \u001b[0m11.62    \u001b[0m |\n",
      "| \u001b[0m11       \u001b[0m | \u001b[0m-0.0413  \u001b[0m | \u001b[0m-1.614   \u001b[0m | \u001b[0m13.74    \u001b[0m |\n",
      "| \u001b[0m12       \u001b[0m | \u001b[0m-0.06977 \u001b[0m | \u001b[0m-2.805   \u001b[0m | \u001b[0m6.419    \u001b[0m |\n",
      "| \u001b[0m13       \u001b[0m | \u001b[0m-0.05536 \u001b[0m | \u001b[0m-2.147   \u001b[0m | \u001b[0m9.597    \u001b[0m |\n",
      "| \u001b[0m14       \u001b[0m | \u001b[0m-0.02074 \u001b[0m | \u001b[0m-0.6946  \u001b[0m | \u001b[0m16.7     \u001b[0m |\n",
      "| \u001b[0m15       \u001b[0m | \u001b[0m-0.08182 \u001b[0m | \u001b[0m-4.471   \u001b[0m | \u001b[0m1.208    \u001b[0m |\n",
      "| \u001b[0m16       \u001b[0m | \u001b[0m-0.05176 \u001b[0m | \u001b[0m-2.016   \u001b[0m | \u001b[0m15.85    \u001b[0m |\n",
      "| \u001b[0m17       \u001b[0m | \u001b[0m-0.08029 \u001b[0m | \u001b[0m-3.868   \u001b[0m | \u001b[0m10.7     \u001b[0m |\n",
      "| \u001b[0m18       \u001b[0m | \u001b[0m-0.0813  \u001b[0m | \u001b[0m-4.32    \u001b[0m | \u001b[0m7.445    \u001b[0m |\n",
      "| \u001b[0m19       \u001b[0m | \u001b[0m-0.08113 \u001b[0m | \u001b[0m-4.24    \u001b[0m | \u001b[0m8.596    \u001b[0m |\n",
      "| \u001b[0m20       \u001b[0m | \u001b[0m-0.02394 \u001b[0m | \u001b[0m-1.036   \u001b[0m | \u001b[0m8.139    \u001b[0m |\n",
      "| \u001b[95m21       \u001b[0m | \u001b[95m-0.01104 \u001b[0m | \u001b[95m0.0      \u001b[0m | \u001b[95m20.0     \u001b[0m |\n",
      "| \u001b[0m22       \u001b[0m | \u001b[0m-0.01104 \u001b[0m | \u001b[0m0.0      \u001b[0m | \u001b[0m9.072    \u001b[0m |\n",
      "| \u001b[0m23       \u001b[0m | \u001b[0m-0.1123  \u001b[0m | \u001b[0m-0.02248 \u001b[0m | \u001b[0m0.1449   \u001b[0m |\n",
      "| \u001b[0m24       \u001b[0m | \u001b[0m-0.01104 \u001b[0m | \u001b[0m0.0      \u001b[0m | \u001b[0m13.85    \u001b[0m |\n",
      "| \u001b[0m25       \u001b[0m | \u001b[0m-0.01104 \u001b[0m | \u001b[0m0.0      \u001b[0m | \u001b[0m18.31    \u001b[0m |\n",
      "| \u001b[0m26       \u001b[0m | \u001b[0m-0.01104 \u001b[0m | \u001b[0m0.0      \u001b[0m | \u001b[0m7.195    \u001b[0m |\n",
      "| \u001b[0m27       \u001b[0m | \u001b[0m-0.08281 \u001b[0m | \u001b[0m-5.0     \u001b[0m | \u001b[0m20.0     \u001b[0m |\n",
      "| \u001b[0m28       \u001b[0m | \u001b[0m-0.01104 \u001b[0m | \u001b[0m0.0      \u001b[0m | \u001b[0m10.76    \u001b[0m |\n",
      "| \u001b[95m29       \u001b[0m | \u001b[95m-0.0104  \u001b[0m | \u001b[95m-0.005542\u001b[0m | \u001b[95m12.66    \u001b[0m |\n",
      "| \u001b[0m30       \u001b[0m | \u001b[0m-0.01104 \u001b[0m | \u001b[0m0.0      \u001b[0m | \u001b[0m15.3     \u001b[0m |\n",
      "| \u001b[0m31       \u001b[0m | \u001b[0m-0.01104 \u001b[0m | \u001b[0m0.0      \u001b[0m | \u001b[0m17.19    \u001b[0m |\n",
      "| \u001b[0m32       \u001b[0m | \u001b[0m-0.01147 \u001b[0m | \u001b[0m-0.01698 \u001b[0m | \u001b[0m5.936    \u001b[0m |\n",
      "| \u001b[0m33       \u001b[0m | \u001b[0m-0.02223 \u001b[0m | \u001b[0m-0.9128  \u001b[0m | \u001b[0m19.99    \u001b[0m |\n",
      "| \u001b[0m34       \u001b[0m | \u001b[0m-0.01104 \u001b[0m | \u001b[0m0.0      \u001b[0m | \u001b[0m8.16     \u001b[0m |\n",
      "| \u001b[0m35       \u001b[0m | \u001b[0m-0.01104 \u001b[0m | \u001b[0m0.0      \u001b[0m | \u001b[0m19.27    \u001b[0m |\n",
      "| \u001b[0m36       \u001b[0m | \u001b[0m-0.01104 \u001b[0m | \u001b[0m-0.00133 \u001b[0m | \u001b[0m12.0     \u001b[0m |\n",
      "| \u001b[0m37       \u001b[0m | \u001b[0m-0.01147 \u001b[0m | \u001b[0m-0.01588 \u001b[0m | \u001b[0m15.86    \u001b[0m |\n",
      "| \u001b[0m38       \u001b[0m | \u001b[0m-0.01104 \u001b[0m | \u001b[0m0.0      \u001b[0m | \u001b[0m9.936    \u001b[0m |\n",
      "| \u001b[0m39       \u001b[0m | \u001b[0m-0.01104 \u001b[0m | \u001b[0m0.0      \u001b[0m | \u001b[0m13.19    \u001b[0m |\n",
      "| \u001b[0m40       \u001b[0m | \u001b[0m-0.01104 \u001b[0m | \u001b[0m0.0      \u001b[0m | \u001b[0m14.58    \u001b[0m |\n",
      "| \u001b[0m41       \u001b[0m | \u001b[0m-0.01104 \u001b[0m | \u001b[0m0.0      \u001b[0m | \u001b[0m16.6     \u001b[0m |\n",
      "| \u001b[0m42       \u001b[0m | \u001b[0m-0.01104 \u001b[0m | \u001b[0m0.0      \u001b[0m | \u001b[0m5.295    \u001b[0m |\n",
      "| \u001b[0m43       \u001b[0m | \u001b[0m-0.01104 \u001b[0m | \u001b[0m0.0      \u001b[0m | \u001b[0m7.652    \u001b[0m |\n",
      "| \u001b[0m44       \u001b[0m | \u001b[0m-0.0104  \u001b[0m | \u001b[0m-0.002038\u001b[0m | \u001b[0m17.77    \u001b[0m |\n",
      "| \u001b[0m45       \u001b[0m | \u001b[0m-0.01104 \u001b[0m | \u001b[0m0.0      \u001b[0m | \u001b[0m4.58     \u001b[0m |\n",
      "| \u001b[0m46       \u001b[0m | \u001b[0m-0.01104 \u001b[0m | \u001b[0m0.0      \u001b[0m | \u001b[0m6.584    \u001b[0m |\n",
      "| \u001b[0m47       \u001b[0m | \u001b[0m-0.01104 \u001b[0m | \u001b[0m0.0      \u001b[0m | \u001b[0m11.31    \u001b[0m |\n",
      "| \u001b[0m48       \u001b[0m | \u001b[0m-0.01104 \u001b[0m | \u001b[0m0.0      \u001b[0m | \u001b[0m4.882    \u001b[0m |\n",
      "| \u001b[0m49       \u001b[0m | \u001b[0m-0.01104 \u001b[0m | \u001b[0m0.0      \u001b[0m | \u001b[0m19.67    \u001b[0m |\n",
      "| \u001b[0m50       \u001b[0m | \u001b[0m-0.01104 \u001b[0m | \u001b[0m0.0      \u001b[0m | \u001b[0m3.968    \u001b[0m |\n",
      "=================================================\n"
     ]
    }
   ],
   "source": [
    "bo = BayesianOptimization(\n",
    "    opt_step,\n",
    "    pbounds={\n",
    "        \"log_lr\": (-5, 0),\n",
    "        \"threshold\": (1e-6, 20)\n",
    "    },\n",
    "    verbose=2,\n",
    "    random_state=314,\n",
    "    allow_duplicate_points=True\n",
    ")\n",
    "\n",
    "bo.maximize(init_points=20, n_iter=30)"
   ]
  },
  {
   "cell_type": "code",
   "execution_count": 28,
   "id": "7c98a06e-07a0-4348-8cc3-c5d314086cef",
   "metadata": {
    "tags": []
   },
   "outputs": [
    {
     "name": "stderr",
     "output_type": "stream",
     "text": [
      "100%|██████████████████████████████████████████████████████████████████████████████████████████████████████████████████████████████| 100/100 [00:23<00:00,  4.32it/s]\n"
     ]
    }
   ],
   "source": [
    "method = \"WLF-MD\"\n",
    "configs[method] = bo.max[\"params\"]\n",
    "\n",
    "hist_bel = []\n",
    "times = []\n",
    "\n",
    "for yc, Xc in tqdm(zip(y_collection, X_collection), total=n_runs): \n",
    "    tinit = time()\n",
    "    run = filter_wlfmd(**bo.max[\"params\"], measurements=y, covariates=X)\n",
    "    run = jax.block_until_ready(run)\n",
    "    tend = time()\n",
    "    \n",
    "    hist_bel.append(run)\n",
    "    times.append(tend - tinit)\n",
    "\n",
    "hist_bel = np.stack(hist_bel)\n",
    "\n",
    "hist_methods[method] = hist_bel\n",
    "time_methods[method] = times"
   ]
  },
  {
   "cell_type": "markdown",
   "id": "d5902110-06c6-475a-b986-105047e810a7",
   "metadata": {},
   "source": [
    "## OGD"
   ]
  },
  {
   "cell_type": "code",
   "execution_count": 29,
   "id": "618b4770-cbfe-4264-a058-ee66abda6289",
   "metadata": {
    "tags": []
   },
   "outputs": [],
   "source": [
    "def lossfn(params, counter, x, y, applyfn):\n",
    "    yhat = applyfn(params, x)\n",
    "    return jnp.sum(counter * (y - yhat) ** 2) / counter.sum()"
   ]
  },
  {
   "cell_type": "code",
   "execution_count": 30,
   "id": "bef75e72-eaa0-4c78-abab-f74c30d8b60f",
   "metadata": {
    "tags": []
   },
   "outputs": [],
   "source": [
    "@jax.jit\n",
    "def filter_ogd(log_lr, n_inner, measurements, covariates):\n",
    "    lr = jnp.exp(log_lr)\n",
    "    n_inner = n_inner.astype(int)\n",
    "    \n",
    "    agent = replay_sgd.FifoSGD(\n",
    "        measurement_fn,\n",
    "        lossfn,\n",
    "        optax.adam(lr),\n",
    "        buffer_size=1,\n",
    "        dim_features=covariates.shape[-1],\n",
    "        dim_output=1,\n",
    "        n_inner=n_inner,\n",
    "    )\n",
    "    \n",
    "    callback = partial(callback_fn, applyfn=measurement_fn)\n",
    "    \n",
    "    init_bel = agent.init_bel(params_init)\n",
    "    bel, yhat_pp = agent.scan(init_bel, measurements, covariates, callback_fn=callback)\n",
    "    \n",
    "    # out = (agent, bel)\n",
    "    return yhat_pp.squeeze()\n",
    "\n",
    "\n",
    "@jax.jit\n",
    "def opt_step(log_lr, n_inner):\n",
    "    yhat_pp = filter_ogd(log_lr, n_inner, y, X)\n",
    "    err = jnp.power(yhat_pp - y, 2)\n",
    "    err = jnp.median(err)\n",
    "    err = jax.lax.cond(jnp.isnan(err), lambda: 1e6, lambda: err)\n",
    "    return -err"
   ]
  },
  {
   "cell_type": "code",
   "execution_count": 31,
   "id": "f4098ad6-97e3-40a2-93c9-c6e0166ec9cf",
   "metadata": {
    "tags": []
   },
   "outputs": [
    {
     "name": "stdout",
     "output_type": "stream",
     "text": [
      "|   iter    |  target   |  log_lr   |  n_inner  |\n",
      "-------------------------------------------------\n",
      "| \u001b[0m1        \u001b[0m | \u001b[0m-12.84   \u001b[0m | \u001b[0m-0.4156  \u001b[0m | \u001b[0m6.297    \u001b[0m |\n",
      "| \u001b[95m2        \u001b[0m | \u001b[95m-0.9411  \u001b[0m | \u001b[95m-3.675   \u001b[0m | \u001b[95m8.049    \u001b[0m |\n",
      "| \u001b[0m3        \u001b[0m | \u001b[0m-11.36   \u001b[0m | \u001b[0m-0.41    \u001b[0m | \u001b[0m8.446    \u001b[0m |\n",
      "| \u001b[0m4        \u001b[0m | \u001b[0m-3.269   \u001b[0m | \u001b[0m-1.36    \u001b[0m | \u001b[0m3.344    \u001b[0m |\n",
      "| \u001b[0m5        \u001b[0m | \u001b[0m-8.369   \u001b[0m | \u001b[0m-0.4412  \u001b[0m | \u001b[0m3.347    \u001b[0m |\n",
      "| \u001b[0m6        \u001b[0m | \u001b[0m-3.894   \u001b[0m | \u001b[0m-1.168   \u001b[0m | \u001b[0m3.354    \u001b[0m |\n",
      "| \u001b[95m7        \u001b[0m | \u001b[95m-0.2925  \u001b[0m | \u001b[95m-4.389   \u001b[0m | \u001b[95m4.474    \u001b[0m |\n",
      "| \u001b[0m8        \u001b[0m | \u001b[0m-5.603   \u001b[0m | \u001b[0m-0.7996  \u001b[0m | \u001b[0m3.504    \u001b[0m |\n",
      "| \u001b[0m9        \u001b[0m | \u001b[0m-0.3191  \u001b[0m | \u001b[0m-4.65    \u001b[0m | \u001b[0m6.698    \u001b[0m |\n",
      "| \u001b[0m10       \u001b[0m | \u001b[0m-3.221   \u001b[0m | \u001b[0m-2.076   \u001b[0m | \u001b[0m6.231    \u001b[0m |\n",
      "| \u001b[0m11       \u001b[0m | \u001b[0m-5.563   \u001b[0m | \u001b[0m-1.614   \u001b[0m | \u001b[0m7.184    \u001b[0m |\n",
      "| \u001b[0m12       \u001b[0m | \u001b[0m-0.8762  \u001b[0m | \u001b[0m-2.805   \u001b[0m | \u001b[0m3.888    \u001b[0m |\n",
      "| \u001b[0m13       \u001b[0m | \u001b[0m-2.554   \u001b[0m | \u001b[0m-2.147   \u001b[0m | \u001b[0m5.319    \u001b[0m |\n",
      "| \u001b[0m14       \u001b[0m | \u001b[0m-11.9    \u001b[0m | \u001b[0m-0.6946  \u001b[0m | \u001b[0m8.513    \u001b[0m |\n",
      "| \u001b[95m15       \u001b[0m | \u001b[95m-0.1267  \u001b[0m | \u001b[95m-4.471   \u001b[0m | \u001b[95m1.544    \u001b[0m |\n",
      "| \u001b[0m16       \u001b[0m | \u001b[0m-4.375   \u001b[0m | \u001b[0m-2.016   \u001b[0m | \u001b[0m8.132    \u001b[0m |\n",
      "| \u001b[0m17       \u001b[0m | \u001b[0m-0.5146  \u001b[0m | \u001b[0m-3.868   \u001b[0m | \u001b[0m5.817    \u001b[0m |\n",
      "| \u001b[0m18       \u001b[0m | \u001b[0m-0.3035  \u001b[0m | \u001b[0m-4.32    \u001b[0m | \u001b[0m4.35     \u001b[0m |\n",
      "| \u001b[0m19       \u001b[0m | \u001b[0m-0.3279  \u001b[0m | \u001b[0m-4.24    \u001b[0m | \u001b[0m4.868    \u001b[0m |\n",
      "| \u001b[0m20       \u001b[0m | \u001b[0m-5.851   \u001b[0m | \u001b[0m-1.036   \u001b[0m | \u001b[0m4.663    \u001b[0m |\n",
      "| \u001b[0m21       \u001b[0m | \u001b[0m-0.3662  \u001b[0m | \u001b[0m-5.0     \u001b[0m | \u001b[0m10.0     \u001b[0m |\n",
      "| \u001b[0m22       \u001b[0m | \u001b[0m-0.3465  \u001b[0m | \u001b[0m-2.788   \u001b[0m | \u001b[0m1.009    \u001b[0m |\n",
      "| \u001b[0m23       \u001b[0m | \u001b[0m-0.1582  \u001b[0m | \u001b[0m-4.984   \u001b[0m | \u001b[0m2.904    \u001b[0m |\n",
      "| \u001b[0m24       \u001b[0m | \u001b[0m-0.3152  \u001b[0m | \u001b[0m-5.0     \u001b[0m | \u001b[0m8.459    \u001b[0m |\n",
      "| \u001b[0m25       \u001b[0m | \u001b[0m-0.3466  \u001b[0m | \u001b[0m-3.474   \u001b[0m | \u001b[0m2.317    \u001b[0m |\n",
      "| \u001b[0m26       \u001b[0m | \u001b[0m-1.337   \u001b[0m | \u001b[0m-3.519   \u001b[0m | \u001b[0m10.0     \u001b[0m |\n",
      "| \u001b[95m27       \u001b[0m | \u001b[95m-0.1093  \u001b[0m | \u001b[95m-5.0     \u001b[0m | \u001b[95m1.0      \u001b[0m |\n",
      "| \u001b[0m28       \u001b[0m | \u001b[0m-0.2199  \u001b[0m | \u001b[0m-5.0     \u001b[0m | \u001b[0m5.656    \u001b[0m |\n",
      "| \u001b[0m29       \u001b[0m | \u001b[0m-0.1912  \u001b[0m | \u001b[0m-3.654   \u001b[0m | \u001b[0m1.004    \u001b[0m |\n",
      "| \u001b[0m30       \u001b[0m | \u001b[0m-1.268   \u001b[0m | \u001b[0m-1.314   \u001b[0m | \u001b[0m1.0      \u001b[0m |\n",
      "| \u001b[0m31       \u001b[0m | \u001b[0m-1.152   \u001b[0m | \u001b[0m-3.166   \u001b[0m | \u001b[0m6.993    \u001b[0m |\n",
      "| \u001b[0m32       \u001b[0m | \u001b[0m-0.5698  \u001b[0m | \u001b[0m-4.309   \u001b[0m | \u001b[0m9.237    \u001b[0m |\n",
      "| \u001b[0m33       \u001b[0m | \u001b[0m-0.2896  \u001b[0m | \u001b[0m-4.13    \u001b[0m | \u001b[0m3.038    \u001b[0m |\n",
      "| \u001b[0m34       \u001b[0m | \u001b[0m-0.3073  \u001b[0m | \u001b[0m-5.0     \u001b[0m | \u001b[0m7.465    \u001b[0m |\n",
      "| \u001b[0m35       \u001b[0m | \u001b[0m-0.1979  \u001b[0m | \u001b[0m-5.0     \u001b[0m | \u001b[0m3.86     \u001b[0m |\n",
      "| \u001b[0m36       \u001b[0m | \u001b[0m-0.4889  \u001b[0m | \u001b[0m-2.342   \u001b[0m | \u001b[0m1.868    \u001b[0m |\n",
      "| \u001b[0m37       \u001b[0m | \u001b[0m-0.1093  \u001b[0m | \u001b[0m-5.0     \u001b[0m | \u001b[0m1.955    \u001b[0m |\n",
      "| \u001b[0m38       \u001b[0m | \u001b[0m-0.7295  \u001b[0m | \u001b[0m-3.238   \u001b[0m | \u001b[0m4.945    \u001b[0m |\n",
      "| \u001b[0m39       \u001b[0m | \u001b[0m-0.3358  \u001b[0m | \u001b[0m-5.0     \u001b[0m | \u001b[0m9.288    \u001b[0m |\n",
      "| \u001b[0m40       \u001b[0m | \u001b[0m-0.2562  \u001b[0m | \u001b[0m-3.229   \u001b[0m | \u001b[0m1.56     \u001b[0m |\n",
      "| \u001b[0m41       \u001b[0m | \u001b[0m-0.2646  \u001b[0m | \u001b[0m-5.0     \u001b[0m | \u001b[0m6.435    \u001b[0m |\n",
      "| \u001b[0m42       \u001b[0m | \u001b[0m-0.197   \u001b[0m | \u001b[0m-5.0     \u001b[0m | \u001b[0m4.826    \u001b[0m |\n",
      "| \u001b[0m43       \u001b[0m | \u001b[0m-0.1881  \u001b[0m | \u001b[0m-4.384   \u001b[0m | \u001b[0m2.309    \u001b[0m |\n",
      "| \u001b[0m44       \u001b[0m | \u001b[0m-0.6094  \u001b[0m | \u001b[0m-2.077   \u001b[0m | \u001b[0m1.008    \u001b[0m |\n",
      "| \u001b[0m45       \u001b[0m | \u001b[0m-0.1343  \u001b[0m | \u001b[0m-4.399   \u001b[0m | \u001b[0m1.0      \u001b[0m |\n",
      "| \u001b[0m46       \u001b[0m | \u001b[0m-0.5878  \u001b[0m | \u001b[0m-4.366   \u001b[0m | \u001b[0m10.0     \u001b[0m |\n",
      "| \u001b[0m47       \u001b[0m | \u001b[0m-0.5548  \u001b[0m | \u001b[0m-2.883   \u001b[0m | \u001b[0m2.839    \u001b[0m |\n",
      "| \u001b[0m48       \u001b[0m | \u001b[0m-0.4385  \u001b[0m | \u001b[0m-3.578   \u001b[0m | \u001b[0m3.604    \u001b[0m |\n",
      "| \u001b[0m49       \u001b[0m | \u001b[0m-0.3993  \u001b[0m | \u001b[0m-4.5     \u001b[0m | \u001b[0m7.873    \u001b[0m |\n",
      "| \u001b[0m50       \u001b[0m | \u001b[0m-0.2095  \u001b[0m | \u001b[0m-4.583   \u001b[0m | \u001b[0m3.488    \u001b[0m |\n",
      "=================================================\n"
     ]
    }
   ],
   "source": [
    "bo = BayesianOptimization(\n",
    "    opt_step,\n",
    "    pbounds={\n",
    "        \"log_lr\": (-5, 0),\n",
    "        \"n_inner\": (1, 10),\n",
    "    },\n",
    "    verbose=2,\n",
    "    random_state=314,\n",
    "    allow_duplicate_points=True\n",
    ")\n",
    "\n",
    "bo.maximize(init_points=20, n_iter=30)"
   ]
  },
  {
   "cell_type": "code",
   "execution_count": 32,
   "id": "1052110a-417d-4414-a8db-f204c5b426b2",
   "metadata": {
    "tags": []
   },
   "outputs": [
    {
     "name": "stderr",
     "output_type": "stream",
     "text": [
      "100%|██████████████████████████████████████████████████████████████████████████████████████████████████████████████████████████████| 100/100 [00:09<00:00, 10.55it/s]\n"
     ]
    }
   ],
   "source": [
    "method = \"OGD\"\n",
    "configs[method] = bo.max[\"params\"]\n",
    "\n",
    "hist_bel = []\n",
    "times = []\n",
    "\n",
    "for yc, Xc in tqdm(zip(y_collection, X_collection), total=n_runs): \n",
    "    tinit = time()\n",
    "    run = filter_ogd(**bo.max[\"params\"], measurements=y, covariates=X)\n",
    "    run = jax.block_until_ready(run)\n",
    "    tend = time()\n",
    "    \n",
    "    hist_bel.append(run)\n",
    "    times.append(tend - tinit)\n",
    "\n",
    "hist_bel = np.stack(hist_bel)\n",
    "\n",
    "hist_methods[method] = hist_bel\n",
    "time_methods[method] = times"
   ]
  },
  {
   "cell_type": "markdown",
   "id": "847227fc-bbdd-473e-ba79-75945acd219c",
   "metadata": {},
   "source": [
    "## WLF-OGD"
   ]
  },
  {
   "cell_type": "code",
   "execution_count": 41,
   "id": "139ef7d5-4077-463b-b4de-cc42b3347f30",
   "metadata": {
    "tags": []
   },
   "outputs": [],
   "source": [
    "@jax.jit\n",
    "def filter_wlf_ogd(log_lr, soft_threshold, n_inner, measurements, covariates):\n",
    "    lr = jnp.exp(log_lr)\n",
    "    n_inner = n_inner.astype(int)\n",
    "    \n",
    "    agent = rkf.FifoSGDIMQ(\n",
    "        measurement_fn,\n",
    "        optax.adam(lr),\n",
    "        buffer_size=1,\n",
    "        dim_features=covariates.shape[-1],\n",
    "        dim_output=1,\n",
    "        soft_threshold=soft_threshold,\n",
    "        n_inner=n_inner,\n",
    "    )\n",
    "    \n",
    "    callback = partial(callback_fn, applyfn=measurement_fn)\n",
    "    \n",
    "    init_bel = agent.init_bel(params_init)\n",
    "    bel, yhat_pp = agent.scan(init_bel, measurements, covariates, callback_fn=callback)\n",
    "    \n",
    "    # out = (agent, bel)\n",
    "    return yhat_pp.squeeze()\n",
    "\n",
    "\n",
    "@jax.jit\n",
    "def opt_step(log_lr, soft_threshold, n_inner):\n",
    "    yhat_pp = filter_wlf_ogd(log_lr, soft_threshold, n_inner, y, X)\n",
    "    err = jnp.power(yhat_pp - y, 2)\n",
    "    err = jnp.median(err)\n",
    "    err = jax.lax.cond(jnp.isnan(err), lambda: 1e6, lambda: err)\n",
    "    return -err"
   ]
  },
  {
   "cell_type": "code",
   "execution_count": 42,
   "id": "34467ae8-32ec-4d1f-b92d-07207b9547eb",
   "metadata": {
    "tags": []
   },
   "outputs": [
    {
     "name": "stdout",
     "output_type": "stream",
     "text": [
      "|   iter    |  target   |  log_lr   |  n_inner  | soft_t... |\n",
      "-------------------------------------------------------------\n",
      "(1,)\n",
      "| \u001b[0m1        \u001b[0m | \u001b[0m-0.2351  \u001b[0m | \u001b[0m-0.8313  \u001b[0m | \u001b[0m6.297    \u001b[0m | \u001b[0m5.301    \u001b[0m |\n",
      "| \u001b[0m2        \u001b[0m | \u001b[0m-0.243   \u001b[0m | \u001b[0m-2.168   \u001b[0m | \u001b[0m9.262    \u001b[0m | \u001b[0m16.55    \u001b[0m |\n",
      "| \u001b[95m3        \u001b[0m | \u001b[95m-0.167   \u001b[0m | \u001b[95m-2.72    \u001b[0m | \u001b[95m3.344    \u001b[0m | \u001b[95m18.24    \u001b[0m |\n",
      "| \u001b[95m4        \u001b[0m | \u001b[95m-0.08375 \u001b[0m | \u001b[95m-7.392   \u001b[0m | \u001b[95m7.897    \u001b[0m | \u001b[95m5.231    \u001b[0m |\n",
      "| \u001b[0m5        \u001b[0m | \u001b[0m-0.08583 \u001b[0m | \u001b[0m-8.777   \u001b[0m | \u001b[0m4.474    \u001b[0m | \u001b[0m16.8     \u001b[0m |\n",
      "| \u001b[0m6        \u001b[0m | \u001b[0m-0.08407 \u001b[0m | \u001b[0m-7.218   \u001b[0m | \u001b[0m1.629    \u001b[0m | \u001b[0m12.66    \u001b[0m |\n",
      "| \u001b[0m7        \u001b[0m | \u001b[0m-0.1008  \u001b[0m | \u001b[0m-4.152   \u001b[0m | \u001b[0m6.231    \u001b[0m | \u001b[0m13.54    \u001b[0m |\n",
      "| \u001b[0m8        \u001b[0m | \u001b[0m-0.09443 \u001b[0m | \u001b[0m-3.128   \u001b[0m | \u001b[0m4.95     \u001b[0m | \u001b[0m6.419    \u001b[0m |\n",
      "| \u001b[0m9        \u001b[0m | \u001b[0m-0.1044  \u001b[0m | \u001b[0m-4.294   \u001b[0m | \u001b[0m5.319    \u001b[0m | \u001b[0m17.22    \u001b[0m |\n",
      "| \u001b[0m10       \u001b[0m | \u001b[0m-0.0884  \u001b[0m | \u001b[0m-1.652   \u001b[0m | \u001b[0m1.952    \u001b[0m | \u001b[0m1.208    \u001b[0m |\n",
      "| \u001b[0m11       \u001b[0m | \u001b[0m-0.08886 \u001b[0m | \u001b[0m-4.031   \u001b[0m | \u001b[0m8.132    \u001b[0m | \u001b[0m4.527    \u001b[0m |\n",
      "| \u001b[0m12       \u001b[0m | \u001b[0m-0.08388 \u001b[0m | \u001b[0m-4.648   \u001b[0m | \u001b[0m2.225    \u001b[0m | \u001b[0m7.445    \u001b[0m |\n",
      "| \u001b[0m13       \u001b[0m | \u001b[0m-0.08573 \u001b[0m | \u001b[0m-8.48    \u001b[0m | \u001b[0m4.868    \u001b[0m | \u001b[0m15.85    \u001b[0m |\n",
      "| \u001b[0m14       \u001b[0m | \u001b[0m-0.08574 \u001b[0m | \u001b[0m-5.93    \u001b[0m | \u001b[0m2.601    \u001b[0m | \u001b[0m18.19    \u001b[0m |\n",
      "| \u001b[95m15       \u001b[0m | \u001b[95m-0.08363 \u001b[0m | \u001b[95m-4.547   \u001b[0m | \u001b[95m1.904    \u001b[0m | \u001b[95m14.37    \u001b[0m |\n",
      "| \u001b[0m16       \u001b[0m | \u001b[0m-0.2071  \u001b[0m | \u001b[0m-0.2157  \u001b[0m | \u001b[0m3.788    \u001b[0m | \u001b[0m5.203    \u001b[0m |\n",
      "| \u001b[95m17       \u001b[0m | \u001b[95m-0.08348 \u001b[0m | \u001b[95m-3.371   \u001b[0m | \u001b[95m2.257    \u001b[0m | \u001b[95m1.674    \u001b[0m |\n",
      "| \u001b[0m18       \u001b[0m | \u001b[0m-0.09848 \u001b[0m | \u001b[0m-4.732   \u001b[0m | \u001b[0m6.492    \u001b[0m | \u001b[0m17.35    \u001b[0m |\n",
      "| \u001b[95m19       \u001b[0m | \u001b[95m-0.08293 \u001b[0m | \u001b[95m-8.511   \u001b[0m | \u001b[95m8.777    \u001b[0m | \u001b[95m8.998    \u001b[0m |\n",
      "| \u001b[0m20       \u001b[0m | \u001b[0m-0.09181 \u001b[0m | \u001b[0m-2.732   \u001b[0m | \u001b[0m2.396    \u001b[0m | \u001b[0m8.341    \u001b[0m |\n",
      "| \u001b[0m21       \u001b[0m | \u001b[0m-0.08375 \u001b[0m | \u001b[0m-5.816   \u001b[0m | \u001b[0m5.615    \u001b[0m | \u001b[0m8.922    \u001b[0m |\n",
      "| \u001b[95m22       \u001b[0m | \u001b[95m-0.08125 \u001b[0m | \u001b[95m-7.306   \u001b[0m | \u001b[95m3.824    \u001b[0m | \u001b[95m3.682    \u001b[0m |\n",
      "| \u001b[0m23       \u001b[0m | \u001b[0m-0.08391 \u001b[0m | \u001b[0m-6.185   \u001b[0m | \u001b[0m7.097    \u001b[0m | \u001b[0m0.08452  \u001b[0m |\n",
      "| \u001b[0m24       \u001b[0m | \u001b[0m-0.6885  \u001b[0m | \u001b[0m-8.027   \u001b[0m | \u001b[0m1.0      \u001b[0m | \u001b[0m1e-06    \u001b[0m |\n",
      "| \u001b[0m25       \u001b[0m | \u001b[0m-0.08773 \u001b[0m | \u001b[0m-10.0    \u001b[0m | \u001b[0m10.0     \u001b[0m | \u001b[0m20.0     \u001b[0m |\n",
      "| \u001b[0m26       \u001b[0m | \u001b[0m-0.08539 \u001b[0m | \u001b[0m-9.959   \u001b[0m | \u001b[0m9.89     \u001b[0m | \u001b[0m14.38    \u001b[0m |\n",
      "| \u001b[0m27       \u001b[0m | \u001b[0m-0.533   \u001b[0m | \u001b[0m-2.362   \u001b[0m | \u001b[0m10.0     \u001b[0m | \u001b[0m1e-06    \u001b[0m |\n",
      "| \u001b[0m28       \u001b[0m | \u001b[0m-0.08384 \u001b[0m | \u001b[0m-10.0    \u001b[0m | \u001b[0m10.0     \u001b[0m | \u001b[0m0.2749   \u001b[0m |\n",
      "| \u001b[0m29       \u001b[0m | \u001b[0m-0.08695 \u001b[0m | \u001b[0m-10.0    \u001b[0m | \u001b[0m3.684    \u001b[0m | \u001b[0m8.397    \u001b[0m |\n",
      "| \u001b[0m30       \u001b[0m | \u001b[0m-0.138   \u001b[0m | \u001b[0m-10.0    \u001b[0m | \u001b[0m1.0      \u001b[0m | \u001b[0m20.0     \u001b[0m |\n",
      "| \u001b[0m31       \u001b[0m | \u001b[0m-0.302   \u001b[0m | \u001b[0m0.0      \u001b[0m | \u001b[0m1.0      \u001b[0m | \u001b[0m12.51    \u001b[0m |\n",
      "| \u001b[0m32       \u001b[0m | \u001b[0m-0.1043  \u001b[0m | \u001b[0m-3.968   \u001b[0m | \u001b[0m10.0     \u001b[0m | \u001b[0m9.368    \u001b[0m |\n",
      "| \u001b[0m33       \u001b[0m | \u001b[0m-0.09073 \u001b[0m | \u001b[0m-7.732   \u001b[0m | \u001b[0m6.471    \u001b[0m | \u001b[0m20.0     \u001b[0m |\n",
      "| \u001b[0m34       \u001b[0m | \u001b[0m-0.08245 \u001b[0m | \u001b[0m-5.056   \u001b[0m | \u001b[0m5.407    \u001b[0m | \u001b[0m3.365    \u001b[0m |\n",
      "| \u001b[0m35       \u001b[0m | \u001b[0m-0.08486 \u001b[0m | \u001b[0m-10.0    \u001b[0m | \u001b[0m6.927    \u001b[0m | \u001b[0m2.832    \u001b[0m |\n",
      "| \u001b[0m36       \u001b[0m | \u001b[0m-0.08523 \u001b[0m | \u001b[0m-10.0    \u001b[0m | \u001b[0m6.179    \u001b[0m | \u001b[0m11.86    \u001b[0m |\n",
      "| \u001b[0m37       \u001b[0m | \u001b[0m-0.114   \u001b[0m | \u001b[0m-9.867   \u001b[0m | \u001b[0m1.068    \u001b[0m | \u001b[0m15.84    \u001b[0m |\n",
      "| \u001b[0m38       \u001b[0m | \u001b[0m-0.08343 \u001b[0m | \u001b[0m-6.664   \u001b[0m | \u001b[0m9.907    \u001b[0m | \u001b[0m12.65    \u001b[0m |\n",
      "| \u001b[0m39       \u001b[0m | \u001b[0m-0.08347 \u001b[0m | \u001b[0m-10.0    \u001b[0m | \u001b[0m10.0     \u001b[0m | \u001b[0m5.14     \u001b[0m |\n",
      "| \u001b[0m40       \u001b[0m | \u001b[0m-0.09242 \u001b[0m | \u001b[0m-7.405   \u001b[0m | \u001b[0m10.0     \u001b[0m | \u001b[0m17.34    \u001b[0m |\n",
      "| \u001b[0m41       \u001b[0m | \u001b[0m-0.08357 \u001b[0m | \u001b[0m-2.563   \u001b[0m | \u001b[0m1.081    \u001b[0m | \u001b[0m4.188    \u001b[0m |\n",
      "| \u001b[0m42       \u001b[0m | \u001b[0m-0.09878 \u001b[0m | \u001b[0m-9.918   \u001b[0m | \u001b[0m1.042    \u001b[0m | \u001b[0m10.3     \u001b[0m |\n",
      "| \u001b[0m43       \u001b[0m | \u001b[0m-0.4509  \u001b[0m | \u001b[0m0.0      \u001b[0m | \u001b[0m10.0     \u001b[0m | \u001b[0m10.56    \u001b[0m |\n",
      "| \u001b[0m44       \u001b[0m | \u001b[0m-0.08259 \u001b[0m | \u001b[0m-5.751   \u001b[0m | \u001b[0m10.0     \u001b[0m | \u001b[0m6.873    \u001b[0m |\n",
      "| \u001b[0m45       \u001b[0m | \u001b[0m-0.1079  \u001b[0m | \u001b[0m-5.108   \u001b[0m | \u001b[0m10.0     \u001b[0m | \u001b[0m20.0     \u001b[0m |\n",
      "| \u001b[0m46       \u001b[0m | \u001b[0m-0.08435 \u001b[0m | \u001b[0m-10.0    \u001b[0m | \u001b[0m10.0     \u001b[0m | \u001b[0m10.93    \u001b[0m |\n",
      "| \u001b[0m47       \u001b[0m | \u001b[0m-0.08183 \u001b[0m | \u001b[0m-7.691   \u001b[0m | \u001b[0m9.73     \u001b[0m | \u001b[0m2.308    \u001b[0m |\n",
      "| \u001b[0m48       \u001b[0m | \u001b[0m-0.08698 \u001b[0m | \u001b[0m-9.974   \u001b[0m | \u001b[0m7.55     \u001b[0m | \u001b[0m17.88    \u001b[0m |\n",
      "| \u001b[0m49       \u001b[0m | \u001b[0m-0.08151 \u001b[0m | \u001b[0m-7.559   \u001b[0m | \u001b[0m4.501    \u001b[0m | \u001b[0m6.07     \u001b[0m |\n",
      "| \u001b[0m50       \u001b[0m | \u001b[0m-0.08464 \u001b[0m | \u001b[0m-6.544   \u001b[0m | \u001b[0m4.884    \u001b[0m | \u001b[0m12.35    \u001b[0m |\n",
      "=============================================================\n"
     ]
    }
   ],
   "source": [
    "bo = BayesianOptimization(\n",
    "    opt_step,\n",
    "    pbounds={\n",
    "        \"log_lr\": (-10, 0),\n",
    "        \"soft_threshold\": (1e-6, 20),\n",
    "        \"n_inner\": (1, 10),\n",
    "    },\n",
    "    verbose=2,\n",
    "    random_state=314,\n",
    "    allow_duplicate_points=True\n",
    ")\n",
    "\n",
    "bo.maximize(init_points=20, n_iter=30)"
   ]
  },
  {
   "cell_type": "code",
   "execution_count": 43,
   "id": "d6ba27a2-6848-4a54-961a-6cce08fa5c7c",
   "metadata": {
    "tags": []
   },
   "outputs": [
    {
     "name": "stderr",
     "output_type": "stream",
     "text": [
      "100%|██████████████████████████████████████████████████████████████████████████████████████████████████████████████████████████████| 100/100 [00:21<00:00,  4.61it/s]\n"
     ]
    }
   ],
   "source": [
    "method = \"WLF-OGD\"\n",
    "configs[method] = bo.max[\"params\"]\n",
    "\n",
    "hist_bel = []\n",
    "times = []\n",
    "\n",
    "for yc, Xc in tqdm(zip(y_collection, X_collection), total=n_runs): \n",
    "    tinit = time()\n",
    "    run = filter_wlf_ogd(**bo.max[\"params\"], measurements=y, covariates=X)\n",
    "    run = jax.block_until_ready(run)\n",
    "    tend = time()\n",
    "    \n",
    "    hist_bel.append(run)\n",
    "    times.append(tend - tinit)\n",
    "\n",
    "hist_bel = np.stack(hist_bel)\n",
    "\n",
    "hist_methods[method] = hist_bel\n",
    "time_methods[method] = times"
   ]
  },
  {
   "cell_type": "markdown",
   "id": "a78cd47b-fcd0-4dbb-8f34-c467191de311",
   "metadata": {},
   "source": [
    "# Summary"
   ]
  },
  {
   "cell_type": "code",
   "execution_count": 44,
   "id": "5b4bc5a3-ff0d-444e-8623-2ddc0e62caee",
   "metadata": {
    "tags": []
   },
   "outputs": [
    {
     "data": {
      "text/html": [
       "<div>\n",
       "<style scoped>\n",
       "    .dataframe tbody tr th:only-of-type {\n",
       "        vertical-align: middle;\n",
       "    }\n",
       "\n",
       "    .dataframe tbody tr th {\n",
       "        vertical-align: top;\n",
       "    }\n",
       "\n",
       "    .dataframe thead th {\n",
       "        text-align: right;\n",
       "    }\n",
       "</style>\n",
       "<table border=\"1\" class=\"dataframe\">\n",
       "  <thead>\n",
       "    <tr style=\"text-align: right;\">\n",
       "      <th></th>\n",
       "      <th>run</th>\n",
       "      <th>method</th>\n",
       "      <th>err</th>\n",
       "    </tr>\n",
       "  </thead>\n",
       "  <tbody>\n",
       "    <tr>\n",
       "      <th>0</th>\n",
       "      <td>0</td>\n",
       "      <td>KF</td>\n",
       "      <td>0.629167</td>\n",
       "    </tr>\n",
       "    <tr>\n",
       "      <th>1</th>\n",
       "      <td>1</td>\n",
       "      <td>KF</td>\n",
       "      <td>0.609327</td>\n",
       "    </tr>\n",
       "    <tr>\n",
       "      <th>2</th>\n",
       "      <td>2</td>\n",
       "      <td>KF</td>\n",
       "      <td>0.637677</td>\n",
       "    </tr>\n",
       "    <tr>\n",
       "      <th>3</th>\n",
       "      <td>3</td>\n",
       "      <td>KF</td>\n",
       "      <td>0.629919</td>\n",
       "    </tr>\n",
       "    <tr>\n",
       "      <th>4</th>\n",
       "      <td>4</td>\n",
       "      <td>KF</td>\n",
       "      <td>0.625758</td>\n",
       "    </tr>\n",
       "  </tbody>\n",
       "</table>\n",
       "</div>"
      ],
      "text/plain": [
       "   run method       err\n",
       "0    0     KF  0.629167\n",
       "1    1     KF  0.609327\n",
       "2    2     KF  0.637677\n",
       "3    3     KF  0.629919\n",
       "4    4     KF  0.625758"
      ]
     },
     "execution_count": 44,
     "metadata": {},
     "output_type": "execute_result"
    }
   ],
   "source": [
    "rmedse_df = pd.DataFrame(jax.tree_map(\n",
    "    lambda x: np.sqrt(np.median(np.power(x - y_collection, 2), 1)),\n",
    "    hist_methods\n",
    "))\n",
    "rmedse_df = rmedse_df.reset_index().melt(\"index\")\n",
    "rmedse_df = rmedse_df.rename({\n",
    "    \"index\": \"run\",\n",
    "    \"variable\": \"method\",\n",
    "    \"value\": \"err\"\n",
    "}, axis=1)\n",
    "rmedse_df.head()"
   ]
  },
  {
   "cell_type": "code",
   "execution_count": 45,
   "id": "3cfcba1c-a74f-4a54-ae2f-8f6b208bca50",
   "metadata": {
    "tags": []
   },
   "outputs": [
    {
     "data": {
      "text/html": [
       "<div>\n",
       "<style scoped>\n",
       "    .dataframe tbody tr th:only-of-type {\n",
       "        vertical-align: middle;\n",
       "    }\n",
       "\n",
       "    .dataframe tbody tr th {\n",
       "        vertical-align: top;\n",
       "    }\n",
       "\n",
       "    .dataframe thead th {\n",
       "        text-align: right;\n",
       "    }\n",
       "</style>\n",
       "<table border=\"1\" class=\"dataframe\">\n",
       "  <thead>\n",
       "    <tr style=\"text-align: right;\">\n",
       "      <th></th>\n",
       "      <th>run</th>\n",
       "      <th>method</th>\n",
       "      <th>time</th>\n",
       "    </tr>\n",
       "  </thead>\n",
       "  <tbody>\n",
       "    <tr>\n",
       "      <th>0</th>\n",
       "      <td>0</td>\n",
       "      <td>KF</td>\n",
       "      <td>0.626341</td>\n",
       "    </tr>\n",
       "    <tr>\n",
       "      <th>1</th>\n",
       "      <td>1</td>\n",
       "      <td>KF</td>\n",
       "      <td>0.221473</td>\n",
       "    </tr>\n",
       "    <tr>\n",
       "      <th>2</th>\n",
       "      <td>2</td>\n",
       "      <td>KF</td>\n",
       "      <td>0.220953</td>\n",
       "    </tr>\n",
       "    <tr>\n",
       "      <th>3</th>\n",
       "      <td>3</td>\n",
       "      <td>KF</td>\n",
       "      <td>0.221535</td>\n",
       "    </tr>\n",
       "    <tr>\n",
       "      <th>4</th>\n",
       "      <td>4</td>\n",
       "      <td>KF</td>\n",
       "      <td>0.221535</td>\n",
       "    </tr>\n",
       "  </tbody>\n",
       "</table>\n",
       "</div>"
      ],
      "text/plain": [
       "   run method      time\n",
       "0    0     KF  0.626341\n",
       "1    1     KF  0.221473\n",
       "2    2     KF  0.220953\n",
       "3    3     KF  0.221535\n",
       "4    4     KF  0.221535"
      ]
     },
     "execution_count": 45,
     "metadata": {},
     "output_type": "execute_result"
    }
   ],
   "source": [
    "time_df = pd.DataFrame(time_methods).reset_index().melt(\"index\")\n",
    "time_df = time_df.rename({\n",
    "    \"index\": \"run\",\n",
    "    \"variable\": \"method\",\n",
    "    \"value\": \"time\"\n",
    "}, axis=1)\n",
    "\n",
    "time_df.head()"
   ]
  },
  {
   "cell_type": "code",
   "execution_count": 46,
   "id": "50d4e3d4-ae4e-49c8-97ff-f3dbe53927cf",
   "metadata": {
    "tags": []
   },
   "outputs": [],
   "source": [
    "df = rmedse_df.merge(time_df, on=[\"method\", \"run\"]).query(\"run > 0\")"
   ]
  },
  {
   "cell_type": "code",
   "execution_count": 47,
   "id": "3ce6aaac-28cb-4b68-8292-43088f4c1714",
   "metadata": {
    "tags": []
   },
   "outputs": [
    {
     "data": {
      "text/plain": [
       "<matplotlib.legend.Legend at 0x7f806af71450>"
      ]
     },
     "execution_count": 47,
     "metadata": {},
     "output_type": "execute_result"
    },
    {
     "data": {
      "image/png": "[encoded data removed]",
      "text/plain": [
       "<Figure size 640x480 with 1 Axes>"
      ]
     },
     "metadata": {
      "image/png": {
       "height": 452,
       "width": 611
      }
     },
     "output_type": "display_data"
    }
   ],
   "source": [
    "sns.scatterplot(\n",
    "    x=\"time\",\n",
    "    y=\"err\",\n",
    "    hue=\"method\",\n",
    "    data=df.query(\"~method.str.startswith('KF')\"),\n",
    "    palette=cmap,\n",
    "    linewidth=0.0,\n",
    ")\n",
    "# plt.yscale(\"log\")\n",
    "# plt.xscale(\"log\")\n",
    "plt.legend(bbox_to_anchor=(1,1))"
   ]
  },
  {
   "cell_type": "markdown",
   "id": "475d79f6-401f-4b86-986c-402537caeba7",
   "metadata": {},
   "source": [
    "## Store data"
   ]
  },
  {
   "cell_type": "code",
   "execution_count": 48,
   "id": "155fd384-583c-4743-a316-3157a147c643",
   "metadata": {
    "tags": []
   },
   "outputs": [
    {
     "name": "stdout",
     "output_type": "stream",
     "text": [
      "              err      time\n",
      "method                     \n",
      "KF       0.625485  0.221471\n",
      "KF-B     0.303418  2.582501\n",
      "KF-IW    0.308743  1.588609\n",
      "OGD      0.336644  0.089173\n",
      "WLF-IMQ  0.306937  0.224707\n",
      "WLF-MD   0.307080  0.224942\n",
      "WLF-OGD  0.289039  0.210791\n"
     ]
    }
   ],
   "source": [
    "print(df.groupby(\"method\").median().drop(\"run\", axis=1))"
   ]
  },
  {
   "cell_type": "code",
   "execution_count": 49,
   "id": "d10b6df4-49c9-4a8f-b01d-8633edcac3d1",
   "metadata": {
    "tags": []
   },
   "outputs": [
    {
     "data": {
      "text/plain": [
       "method\n",
       "KF         0.221880\n",
       "KF-B       2.585697\n",
       "KF-IW      1.585076\n",
       "OGD        0.089408\n",
       "WLF-IMQ    0.224838\n",
       "WLF-MD     0.225476\n",
       "WLF-OGD    0.210749\n",
       "Name: time, dtype: float64"
      ]
     },
     "execution_count": 49,
     "metadata": {},
     "output_type": "execute_result"
    }
   ],
   "source": [
    "df.groupby(\"method\")[\"time\"].mean()"
   ]
  },
  {
   "cell_type": "code",
   "execution_count": 194,
   "id": "894a18db-e9de-4084-ad97-3577a8dd85ba",
   "metadata": {
    "tags": []
   },
   "outputs": [],
   "source": [
    "data = {\n",
    "    \"datasets\": {\n",
    "        \"X\": np.array(X_collection),\n",
    "        \"y\": np.array(y_collection),\n",
    "    },\n",
    "    \"time\": {k: np.array(v) for k, v in time_methods.items()},\n",
    "    \"posterior-states\": hist_methods,\n",
    "    \"config\": configs,\n",
    "    \"dataset-name\": dataset_name,\n",
    "    \"p-error\": p_error,\n",
    "}"
   ]
  },
  {
   "cell_type": "code",
   "execution_count": 195,
   "id": "e0392219-6cda-4698-ab2e-6b1631337b07",
   "metadata": {
    "tags": []
   },
   "outputs": [
    {
     "name": "stdout",
     "output_type": "stream",
     "text": [
      "Storing in naval-propulsion-plant-target-p-error10.pkl\n"
     ]
    }
   ],
   "source": [
    "p_error_str = format(p_error * 100, \"0.0f\")\n",
    "filename = f\"{dataset_name}-{noise_type}-p-error{p_error_str}.pkl\"\n",
    "print(f\"Storing in {filename}\")\n",
    "with open(filename, \"wb\") as f:\n",
    "    pickle.dump(data, f)"
   ]
  }
 ],
 "metadata": {
  "kernelspec": {
   "display_name": "research",
   "language": "python",
   "name": "research"
  },
  "language_info": {
   "codemirror_mode": {
    "name": "ipython",
    "version": 3
   },
   "file_extension": ".py",
   "mimetype": "text/x-python",
   "name": "python",
   "nbconvert_exporter": "python",
   "pygments_lexer": "ipython3",
   "version": "3.10.12"
  }
 },
 "nbformat": 4,
 "nbformat_minor": 5
}
