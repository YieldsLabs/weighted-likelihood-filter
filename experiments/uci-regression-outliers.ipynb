{
 "cells": [
  {
   "cell_type": "markdown",
   "id": "6d972ef2-135e-4fcc-abf1-f6625f1f1687",
   "metadata": {},
   "source": [
    "# UCI regression with outliers"
   ]
  },
  {
   "cell_type": "code",
   "execution_count": 2,
   "id": "59893632-5ed8-4d8f-83ae-976ebfe54d48",
   "metadata": {
    "tags": []
   },
   "outputs": [],
   "source": [
    "import jax\n",
    "import optax\n",
    "import pickle\n",
    "import datagen\n",
    "import pandas as pd\n",
    "import numpy as np\n",
    "import jax.numpy as jnp\n",
    "import seaborn as sns\n",
    "import flax.linen as nn\n",
    "import matplotlib.pyplot as plt\n",
    "\n",
    "from tqdm import tqdm\n",
    "from time import time\n",
    "from functools import partial\n",
    "from rebayes_mini import callbacks\n",
    "from bayes_opt import BayesianOptimization\n",
    "from rebayes_mini.methods import replay_sgd\n",
    "from rebayes_mini.methods import student_t_filter as stf\n",
    "from rebayes_mini.methods import gauss_filter as kf\n",
    "from rebayes_mini.methods import robust_filter as rkf\n",
    "from rebayes_mini.methods import generalised_bayes_filter as gbf"
   ]
  },
  {
   "cell_type": "code",
   "execution_count": 3,
   "id": "65d8c388-243d-41e4-9977-151d5809a946",
   "metadata": {
    "tags": []
   },
   "outputs": [],
   "source": [
    "%load_ext autoreload\n",
    "%autoreload 2\n",
    "%config InlineBackend.figure_format = \"retina\"\n",
    "\n",
    "plt.rcParams[\"font.size\"] = 18\n",
    "cmap = {\n",
    "    \"KF-IW\": \"crimson\",\n",
    "    \"WLF-IMQ\": \"dodgerblue\",\n",
    "    \"KF\": \"lightseagreen\",\n",
    "    \"WLF-MD\": \"gold\",\n",
    "    \"KF-B\": \"darkorange\",\n",
    "    \"OGD\": \"blueviolet\",\n",
    "    \"WLF-OGD\": \"silver\",\n",
    "}"
   ]
  },
  {
   "cell_type": "markdown",
   "id": "f2d53263-b138-4d2e-b929-f3afaaddac09",
   "metadata": {},
   "source": [
    "## Load dataset"
   ]
  },
  {
   "cell_type": "code",
   "execution_count": 4,
   "id": "a2eb654d-b469-48f1-b88d-b19d8da39f4c",
   "metadata": {
    "tags": []
   },
   "outputs": [],
   "source": [
    "uci = datagen.UCIDatasets(\"./data\")"
   ]
  },
  {
   "cell_type": "code",
   "execution_count": 5,
   "id": "353529d2-ae42-42c1-ba34-7fa93646adba",
   "metadata": {
    "tags": []
   },
   "outputs": [
    {
     "name": "stdout",
     "output_type": "stream",
     "text": [
      "protein-tertiary-structure (45730, 10)\n",
      "naval-propulsion-plant (11934, 18)\n",
      "wine-quality-red (1599, 12)\n",
      "bostonHousing (506, 14)\n",
      "power-plant (9568, 5)\n",
      "concrete (1030, 9)\n",
      "energy (768, 9)\n",
      "kin8nm (8192, 9)\n",
      "yacht (308, 7)\n"
     ]
    }
   ],
   "source": [
    "uci = datagen.UCIDatasets(\"./data\")\n",
    "for dataset_name in sorted(uci.datasets, key=lambda x: -len(x)):\n",
    "    dataset = uci.load_dataset(dataset_name)\n",
    "    print(dataset_name, dataset.shape)"
   ]
  },
  {
   "cell_type": "code",
   "execution_count": 6,
   "id": "8d0ba2bc-29d5-4aa1-9414-16fe4fc1f5e2",
   "metadata": {
    "tags": []
   },
   "outputs": [],
   "source": [
    "dataset_name = \"kin8nm\"\n",
    "# dataset_name = \"naval-propulsion-plant\"\n",
    "noise_type = \"target\" # or \"covariate\"\n",
    "\n",
    "X_collection= []\n",
    "y_collection = []\n",
    "ix_clean_collection = []\n",
    "\n",
    "n_runs = 100\n",
    "v_error = 50\n",
    "seed_init = 314\n",
    "p_error = 0.10\n",
    "for i in range(n_runs):\n",
    "    if noise_type == \"target\":\n",
    "        data = uci.sample_one_sided_noisy_dataset(dataset_name, p_error=p_error, seed=seed_init + i, v_error=v_error)\n",
    "        ix_clean = ~data[\"err_where\"].astype(bool)\n",
    "    elif noise_type == \"covariate\":\n",
    "        data = uci.sample_noisy_covariates(dataset_name, p_error=p_error, seed=seed_init + i, v_error=v_error)\n",
    "        ix_clean = ~data[\"err_where\"].any(axis=1).astype(bool)\n",
    "    else:\n",
    "        raise KeyError(f\"Noise {noise_type} not available\")\n",
    "        \n",
    "    X = data[\"X\"]\n",
    "    y = data[\"y\"]\n",
    "    \n",
    "    \n",
    "    X_collection.append(X)\n",
    "    y_collection.append(y)\n",
    "    ix_clean_collection.append(ix_clean)"
   ]
  },
  {
   "cell_type": "code",
   "execution_count": 7,
   "id": "1dfd9259-f578-4cf3-8b4a-e9ca5eebda7f",
   "metadata": {
    "tags": []
   },
   "outputs": [
    {
     "data": {
      "text/plain": [
       "(100, 7373, 8)"
      ]
     },
     "execution_count": 7,
     "metadata": {},
     "output_type": "execute_result"
    }
   ],
   "source": [
    "n_samples = y.shape[0]\n",
    "X_collection = jnp.array(X_collection)\n",
    "y_collection = jnp.array(y_collection)\n",
    "mask_clean = np.array(ix_clean_collection).T\n",
    "X_collection.shape"
   ]
  },
  {
   "cell_type": "markdown",
   "id": "43bfa109-8bb2-4d52-a260-87acf845dfb7",
   "metadata": {},
   "source": [
    "## Setup"
   ]
  },
  {
   "cell_type": "code",
   "execution_count": 9,
   "id": "13a7263b-fa9e-45ed-9761-5f6497a6c202",
   "metadata": {
    "tags": []
   },
   "outputs": [],
   "source": [
    "n_hidden = 20\n",
    "class MLP(nn.Module):\n",
    "    @nn.compact\n",
    "    def __call__(self, x):\n",
    "        x = nn.Dense(n_hidden)(x)\n",
    "        x = nn.relu(x)\n",
    "        x = nn.Dense(1)(x)\n",
    "        return x"
   ]
  },
  {
   "cell_type": "code",
   "execution_count": 10,
   "id": "700f9f97-cb16-492e-a901-15798ed2138c",
   "metadata": {
    "tags": []
   },
   "outputs": [],
   "source": [
    "def callback_fn(bel, bel_pred, y, x, applyfn):\n",
    "    yhat = applyfn(bel_pred.mean, x[None])\n",
    "    return yhat"
   ]
  },
  {
   "cell_type": "code",
   "execution_count": 11,
   "id": "c9242364-c509-46be-b90d-0c73dd6d1d6c",
   "metadata": {
    "tags": []
   },
   "outputs": [],
   "source": [
    "y, X = y_collection[0], X_collection[0]\n",
    "ix_clean = ix_clean_collection[0]"
   ]
  },
  {
   "cell_type": "code",
   "execution_count": 12,
   "id": "c32becd5-df29-4eb1-a571-e6156693b054",
   "metadata": {
    "tags": []
   },
   "outputs": [],
   "source": [
    "Q = 0.0\n",
    "observation_covariance = 1.0"
   ]
  },
  {
   "cell_type": "code",
   "execution_count": 13,
   "id": "f1697cb2-4e1e-49c9-9089-4314002d81e8",
   "metadata": {
    "tags": []
   },
   "outputs": [],
   "source": [
    "key = jax.random.PRNGKey(314)\n",
    "model = MLP()\n",
    "def latent_fn(x): return x\n",
    "measurement_fn = model.apply\n",
    "params_init = model.init(key, X[:1])"
   ]
  },
  {
   "cell_type": "markdown",
   "id": "abe60f6b-669f-478e-a93f-71e57e267a45",
   "metadata": {},
   "source": [
    "# Run experiments"
   ]
  },
  {
   "cell_type": "code",
   "execution_count": 14,
   "id": "1ede94f5-9cd4-4524-8b76-b3496e2cf887",
   "metadata": {
    "tags": []
   },
   "outputs": [],
   "source": [
    "time_methods = {}\n",
    "hist_methods = {}\n",
    "configs = {}"
   ]
  },
  {
   "cell_type": "code",
   "execution_count": 15,
   "id": "6d2e4c1a-bb78-467b-82d4-81b9355f2ceb",
   "metadata": {},
   "outputs": [],
   "source": [
    "observation_covariance = jnp.eye(1) * 1.0"
   ]
  },
  {
   "cell_type": "markdown",
   "id": "e6154f3a-ff48-420e-81e4-6e38d9f4fd94",
   "metadata": {},
   "source": [
    "## Kalman Filter"
   ]
  },
  {
   "cell_type": "code",
   "execution_count": 16,
   "id": "8bbc272b-ccb5-43d6-8f9a-43cf7773eaed",
   "metadata": {
    "tags": []
   },
   "outputs": [],
   "source": [
    "@jax.jit\n",
    "def filter_kf(log_lr, measurements, covariates):\n",
    "    lr = jnp.exp(log_lr)\n",
    "    nsteps = len(measurements)\n",
    "    agent = rkf.ExtendedKalmanFilterIMQ(\n",
    "        latent_fn, measurement_fn,\n",
    "        dynamics_covariance=Q,\n",
    "        observation_covariance=observation_covariance,\n",
    "        soft_threshold=1e8,\n",
    "    )\n",
    "    \n",
    "    init_bel = agent.init_bel(params_init, cov=lr)\n",
    "    callback = partial(callback_fn, applyfn=agent.vobs_fn)\n",
    "    bel, yhat_pp = agent.scan(init_bel, measurements, covariates, callback_fn=callback)\n",
    "    \n",
    "    # out = (agent, bel)\n",
    "    return yhat_pp.squeeze()\n",
    "\n",
    "\n",
    "@jax.jit\n",
    "def opt_step(log_lr):\n",
    "    yhat_pp = filter_kf(log_lr, y, X)\n",
    "    err = jnp.power(yhat_pp - y, 2)\n",
    "    err = jnp.median(err)\n",
    "    err = jax.lax.cond(jnp.isnan(err), lambda: 1e6, lambda: err)\n",
    "    return -err"
   ]
  },
  {
   "cell_type": "code",
   "execution_count": 17,
   "id": "ea1c3775-8325-461c-865a-6e45217f2ac6",
   "metadata": {
    "tags": []
   },
   "outputs": [
    {
     "name": "stdout",
     "output_type": "stream",
     "text": [
      "|   iter    |  target   |  log_lr   |\n",
      "-------------------------------------\n",
      "| \u001b[0m1        \u001b[0m | \u001b[0m-1.064   \u001b[0m | \u001b[0m-0.4156  \u001b[0m |\n",
      "| \u001b[95m2        \u001b[0m | \u001b[95m-0.8058  \u001b[0m | \u001b[95m-2.057   \u001b[0m |\n",
      "| \u001b[95m3        \u001b[0m | \u001b[95m-0.3432  \u001b[0m | \u001b[95m-3.675   \u001b[0m |\n",
      "| \u001b[0m4        \u001b[0m | \u001b[0m-0.8548  \u001b[0m | \u001b[0m-1.084   \u001b[0m |\n",
      "| \u001b[0m5        \u001b[0m | \u001b[0m-0.665   \u001b[0m | \u001b[0m-0.41    \u001b[0m |\n",
      "| \u001b[95m6        \u001b[0m | \u001b[95m-0.3314  \u001b[0m | \u001b[95m-2.846   \u001b[0m |\n",
      "| \u001b[0m7        \u001b[0m | \u001b[0m-0.3314  \u001b[0m | \u001b[0m-2.846   \u001b[0m |\n",
      "| \u001b[0m8        \u001b[0m | \u001b[0m-0.397   \u001b[0m | \u001b[0m-3.681   \u001b[0m |\n",
      "| \u001b[95m9        \u001b[0m | \u001b[95m-0.2739  \u001b[0m | \u001b[95m-3.666   \u001b[0m |\n",
      "| \u001b[0m10       \u001b[0m | \u001b[0m-0.4053  \u001b[0m | \u001b[0m-3.656   \u001b[0m |\n",
      "| \u001b[0m11       \u001b[0m | \u001b[0m-0.3324  \u001b[0m | \u001b[0m-2.833   \u001b[0m |\n",
      "| \u001b[0m12       \u001b[0m | \u001b[0m-0.9694  \u001b[0m | \u001b[0m-0.3951  \u001b[0m |\n",
      "| \u001b[95m13       \u001b[0m | \u001b[95m-0.2737  \u001b[0m | \u001b[95m-2.821   \u001b[0m |\n",
      "| \u001b[0m14       \u001b[0m | \u001b[0m-0.574   \u001b[0m | \u001b[0m-2.81    \u001b[0m |\n",
      "| \u001b[0m15       \u001b[0m | \u001b[0m-0.276   \u001b[0m | \u001b[0m-2.858   \u001b[0m |\n",
      "=====================================\n"
     ]
    }
   ],
   "source": [
    "bo = BayesianOptimization(\n",
    "    opt_step,\n",
    "    pbounds={\n",
    "        \"log_lr\": (-5, 0),\n",
    "    },\n",
    "    verbose=2,\n",
    "    random_state=314,\n",
    "    allow_duplicate_points=True\n",
    ")\n",
    "\n",
    "bo.maximize(init_points=5, n_iter=10)"
   ]
  },
  {
   "cell_type": "code",
   "execution_count": 18,
   "id": "8f40a89e-5029-487b-be5a-272771367394",
   "metadata": {
    "tags": []
   },
   "outputs": [
    {
     "name": "stderr",
     "output_type": "stream",
     "text": [
      "100%|███████████████████████████████████████████████████████████████████████████████████████████████████████████████████████████████████████████████████████████████████████████████████████████████████████████████████████████████████████████████████████████████████████████████████████| 100/100 [00:12<00:00,  7.80it/s]\n"
     ]
    }
   ],
   "source": [
    "method = \"KF\"\n",
    "log_lr = bo.max[\"params\"][\"log_lr\"]\n",
    "configs[method] = bo.max[\"params\"]\n",
    "\n",
    "hist_bel = []\n",
    "times = []\n",
    "\n",
    "for yc, Xc in tqdm(zip(y_collection, X_collection), total=n_runs): \n",
    "    tinit = time()\n",
    "    run = filter_kf(log_lr, y, X)\n",
    "    run = jax.block_until_ready(run)\n",
    "    tend = time()\n",
    "    \n",
    "    hist_bel.append(run)\n",
    "    times.append(tend - tinit)\n",
    "\n",
    "hist_bel = np.stack(hist_bel)\n",
    "\n",
    "hist_methods[method] = hist_bel\n",
    "time_methods[method] = times"
   ]
  },
  {
   "cell_type": "markdown",
   "id": "bd0e5432-33e3-4319-a6df-c789d380d104",
   "metadata": {},
   "source": [
    "## KF-B"
   ]
  },
  {
   "cell_type": "code",
   "execution_count": 19,
   "id": "3c921da7-cfd4-4c65-9b9f-cf13838089aa",
   "metadata": {
    "tags": []
   },
   "outputs": [],
   "source": [
    "@jax.jit\n",
    "def filter_kfb(log_lr, alpha, beta, n_inner, measurements, covariates):\n",
    "    lr = jnp.exp(log_lr)\n",
    "    n_inner = n_inner.astype(int)\n",
    "    \n",
    "    agent = rkf.ExtendedKalmanFilterBernoulli(\n",
    "        latent_fn, measurement_fn,\n",
    "        dynamics_covariance=Q,\n",
    "        observation_covariance=observation_covariance,\n",
    "        alpha=alpha,\n",
    "        beta=beta,\n",
    "        tol_inlier=1e-7,\n",
    "        n_inner=n_inner\n",
    "    )\n",
    "    \n",
    "    init_bel = agent.init_bel(params_init, cov=lr)\n",
    "    callback = partial(callback_fn, applyfn=agent.vobs_fn)\n",
    "    bel, yhat_pp = agent.scan(init_bel, measurements, covariates, callback_fn=callback)\n",
    "    \n",
    "    return yhat_pp.squeeze()\n",
    "\n",
    "\n",
    "@jax.jit\n",
    "def opt_step(log_lr, alpha, beta, n_inner):\n",
    "    yhat_pp = filter_kfb(log_lr, alpha, beta, n_inner, y, X)\n",
    "    err = jnp.power(yhat_pp - y, 2)\n",
    "    err = jnp.median(err)\n",
    "    err = jax.lax.cond(jnp.isnan(err), lambda: 1e6, lambda: err)\n",
    "    return -err"
   ]
  },
  {
   "cell_type": "code",
   "execution_count": 20,
   "id": "8feb4a62-02db-40e3-a42e-41116458e189",
   "metadata": {
    "tags": []
   },
   "outputs": [
    {
     "name": "stdout",
     "output_type": "stream",
     "text": [
      "|   iter    |  target   |   alpha   |   beta    |  log_lr   |  n_inner  |\n",
      "-------------------------------------------------------------------------\n",
      "| \u001b[95m2        \u001b[0m | \u001b[95m-0.01185 \u001b[0m | \u001b[95m4.59     \u001b[0m | \u001b[95m4.137    \u001b[0m | \u001b[95m-1.36    \u001b[0m | \u001b[95m3.344    \u001b[0m |\n",
      "| \u001b[95m3        \u001b[0m | \u001b[95m-0.01111 \u001b[0m | \u001b[95m4.559    \u001b[0m | \u001b[95m1.304    \u001b[0m | \u001b[95m-1.168   \u001b[0m | \u001b[95m3.354    \u001b[0m |\n",
      "| \u001b[95m7        \u001b[0m | \u001b[95m-0.01102 \u001b[0m | \u001b[95m2.853    \u001b[0m | \u001b[95m2.399    \u001b[0m | \u001b[95m-0.6946  \u001b[0m | \u001b[95m8.513    \u001b[0m |\n",
      "| \u001b[95m21       \u001b[0m | \u001b[95m-0.008931\u001b[0m | \u001b[95m2.476    \u001b[0m | \u001b[95m0.0      \u001b[0m | \u001b[95m0.0      \u001b[0m | \u001b[95m5.355    \u001b[0m |\n",
      "=========================================================================\n"
     ]
    }
   ],
   "source": [
    "bo = BayesianOptimization(\n",
    "    opt_step,\n",
    "    pbounds={\n",
    "        \"log_lr\": (-5, 0),\n",
    "        \"alpha\": (0.0, 5.0),\n",
    "        \"beta\": (0.0, 5.0),\n",
    "\n",
    "        \"n_inner\":  (1, 10),\n",
    "    },\n",
    "    random_state=314,\n",
    "    verbose=1\n",
    ")\n",
    "bo.maximize(init_points=20, n_iter=30)"
   ]
  },
  {
   "cell_type": "code",
   "execution_count": 21,
   "id": "4305d03c-fd20-49b4-8960-eddf92e12a55",
   "metadata": {
    "tags": []
   },
   "outputs": [
    {
     "name": "stderr",
     "output_type": "stream",
     "text": [
      "100%|███████████████████████████████████████████████████████████████████████████████████████████████████████████████████████████████████████████████████████████████████████████████████████████████████████████████████████████████████████████████████████████████████████████████████████| 100/100 [01:21<00:00,  1.23it/s]\n"
     ]
    }
   ],
   "source": [
    "method = \"KF-B\"\n",
    "configs[method] = bo.max[\"params\"]\n",
    "\n",
    "hist_bel = []\n",
    "times = []\n",
    "\n",
    "for yc, Xc in tqdm(zip(y_collection, X_collection), total=n_runs): \n",
    "    tinit = time()\n",
    "    run = filter_kfb(**bo.max[\"params\"], measurements=y, covariates=X)\n",
    "    run = jax.block_until_ready(run)\n",
    "    tend = time()\n",
    "    \n",
    "    hist_bel.append(run)\n",
    "    times.append(tend - tinit)\n",
    "\n",
    "hist_bel = np.stack(hist_bel)\n",
    "\n",
    "hist_methods[method] = hist_bel\n",
    "time_methods[method] = times"
   ]
  },
  {
   "cell_type": "markdown",
   "id": "76aa6c7d-78b4-408e-98e6-cb689d3cdc68",
   "metadata": {},
   "source": [
    "## KF-IW"
   ]
  },
  {
   "cell_type": "code",
   "execution_count": 22,
   "id": "e4c6573d-b63e-4c94-b70f-7c811df15736",
   "metadata": {
    "tags": []
   },
   "outputs": [],
   "source": [
    "@jax.jit\n",
    "def filter_kfiw(log_lr, noise_scaling, n_inner, measurements, covariates):\n",
    "    lr = jnp.exp(log_lr)\n",
    "    n_inner = n_inner.astype(int)\n",
    "    \n",
    "    agent = rkf.ExtendedKalmanFilterInverseWishart(\n",
    "        latent_fn, measurement_fn,\n",
    "        dynamics_covariance=Q,\n",
    "        prior_observation_covariance=observation_covariance,\n",
    "        n_inner=n_inner,\n",
    "        noise_scaling=noise_scaling\n",
    "    )\n",
    "    \n",
    "    init_bel = agent.init_bel(params_init, cov=lr)\n",
    "    callback = partial(callback_fn, applyfn=agent.vobs_fn)\n",
    "    bel, yhat_pp = agent.scan(init_bel, measurements, covariates, callback_fn=callback)\n",
    "    \n",
    "    return yhat_pp.squeeze()\n",
    "\n",
    "\n",
    "@jax.jit\n",
    "def opt_step(log_lr, noise_scaling, n_inner):\n",
    "    yhat_pp = filter_kfiw(log_lr, noise_scaling, n_inner, y, X)\n",
    "    err = jnp.power(yhat_pp - y, 2)\n",
    "    err = jnp.median(err)\n",
    "    err = jax.lax.cond(jnp.isnan(err), lambda: 1e6, lambda: err)\n",
    "    return -err"
   ]
  },
  {
   "cell_type": "code",
   "execution_count": 23,
   "id": "283694c5-dfcb-41e5-adff-04d51c26ecac",
   "metadata": {
    "tags": []
   },
   "outputs": [
    {
     "name": "stdout",
     "output_type": "stream",
     "text": [
      "|   iter    |  target   |  log_lr   |  n_inner  | noise_... |\n",
      "-------------------------------------------------------------\n",
      "=============================================================\n"
     ]
    }
   ],
   "source": [
    "bo = BayesianOptimization(\n",
    "    opt_step,\n",
    "    pbounds={\n",
    "        \"log_lr\": (-5, 0),\n",
    "        \"noise_scaling\": (1e-6, 20),\n",
    "        \"n_inner\":  (1, 10),\n",
    "    },\n",
    "    random_state=314,\n",
    "    verbose=1\n",
    ")\n",
    "bo.maximize(init_points=20, n_iter=30)"
   ]
  },
  {
   "cell_type": "code",
   "execution_count": 24,
   "id": "029a242d-4304-419e-b7c8-c409896ab4c0",
   "metadata": {
    "tags": []
   },
   "outputs": [
    {
     "name": "stderr",
     "output_type": "stream",
     "text": [
      "100%|███████████████████████████████████████████████████████████████████████████████████████████████████████████████████████████████████████████████████████████████████████████████████████████████████████████████████████████████████████████████████████████████████████████████████████| 100/100 [01:12<00:00,  1.39it/s]\n"
     ]
    }
   ],
   "source": [
    "method = \"KF-IW\"\n",
    "configs[method] = bo.max[\"params\"]\n",
    "\n",
    "hist_bel = []\n",
    "times = []\n",
    "\n",
    "for yc, Xc in tqdm(zip(y_collection, X_collection), total=n_runs): \n",
    "    tinit = time()\n",
    "    run = filter_kfiw(**bo.max[\"params\"], measurements=y, covariates=X)\n",
    "    run = jax.block_until_ready(run)\n",
    "    tend = time()\n",
    "    \n",
    "    hist_bel.append(run)\n",
    "    times.append(tend - tinit)\n",
    "\n",
    "hist_bel = np.stack(hist_bel)\n",
    "\n",
    "hist_methods[method] = hist_bel\n",
    "time_methods[method] = times"
   ]
  },
  {
   "cell_type": "markdown",
   "id": "2d337752-351e-471c-84bf-3798ed13fae8",
   "metadata": {},
   "source": [
    "## WLF-IMQ"
   ]
  },
  {
   "cell_type": "code",
   "execution_count": 25,
   "id": "f1dd7593-8280-490d-920e-89a37399d8a7",
   "metadata": {
    "tags": []
   },
   "outputs": [],
   "source": [
    "@jax.jit\n",
    "def filter_wlfimq(log_lr, soft_threshold, measurements, covariates):\n",
    "    lr = jnp.exp(log_lr)\n",
    "    nsteps = len(measurements)\n",
    "    agent = rkf.ExtendedKalmanFilterIMQ(\n",
    "        latent_fn, measurement_fn,\n",
    "        dynamics_covariance=Q,\n",
    "        observation_covariance=observation_covariance,\n",
    "        soft_threshold=soft_threshold,\n",
    "    )\n",
    "    \n",
    "    init_bel = agent.init_bel(params_init, cov=lr)\n",
    "    callback = partial(callback_fn, applyfn=agent.vobs_fn)\n",
    "    bel, yhat_pp = agent.scan(init_bel, measurements, covariates, callback_fn=callback)\n",
    "    \n",
    "    # out = (agent, bel)\n",
    "    return yhat_pp.squeeze()\n",
    "\n",
    "\n",
    "@jax.jit\n",
    "def opt_step(log_lr, soft_threshold):\n",
    "    yhat_pp = filter_wlfimq(log_lr, soft_threshold, y, X)\n",
    "    err = jnp.power(yhat_pp - y, 2)\n",
    "    err = jnp.median(err)\n",
    "    err = jax.lax.cond(jnp.isnan(err), lambda: 1e6, lambda: err)\n",
    "    return -err"
   ]
  },
  {
   "cell_type": "code",
   "execution_count": 26,
   "id": "f5c40895-6960-4861-a78b-416f8ee1bcfb",
   "metadata": {
    "tags": []
   },
   "outputs": [
    {
     "name": "stdout",
     "output_type": "stream",
     "text": [
      "|   iter    |  target   |  log_lr   | soft_t... |\n",
      "-------------------------------------------------\n",
      "| \u001b[0m1        \u001b[0m | \u001b[0m-0.0171  \u001b[0m | \u001b[0m-0.4156  \u001b[0m | \u001b[0m11.77    \u001b[0m |\n",
      "| \u001b[0m2        \u001b[0m | \u001b[0m-0.02582 \u001b[0m | \u001b[0m-3.675   \u001b[0m | \u001b[0m15.66    \u001b[0m |\n",
      "| \u001b[0m3        \u001b[0m | \u001b[0m-0.02774 \u001b[0m | \u001b[0m-0.41    \u001b[0m | \u001b[0m16.55    \u001b[0m |\n",
      "| \u001b[95m4        \u001b[0m | \u001b[95m-0.01132 \u001b[0m | \u001b[95m-1.36    \u001b[0m | \u001b[95m5.21     \u001b[0m |\n",
      "| \u001b[95m5        \u001b[0m | \u001b[95m-0.01004 \u001b[0m | \u001b[95m-0.4412  \u001b[0m | \u001b[95m5.215    \u001b[0m |\n",
      "| \u001b[0m6        \u001b[0m | \u001b[0m-0.0111  \u001b[0m | \u001b[0m-1.168   \u001b[0m | \u001b[0m5.231    \u001b[0m |\n",
      "| \u001b[0m7        \u001b[0m | \u001b[0m-0.01858 \u001b[0m | \u001b[0m-4.389   \u001b[0m | \u001b[0m7.72     \u001b[0m |\n",
      "| \u001b[0m8        \u001b[0m | \u001b[0m-0.01089 \u001b[0m | \u001b[0m-0.7996  \u001b[0m | \u001b[0m5.564    \u001b[0m |\n",
      "| \u001b[0m9        \u001b[0m | \u001b[0m-0.0223  \u001b[0m | \u001b[0m-4.65    \u001b[0m | \u001b[0m12.66    \u001b[0m |\n",
      "| \u001b[0m10       \u001b[0m | \u001b[0m-0.0196  \u001b[0m | \u001b[0m-2.076   \u001b[0m | \u001b[0m11.62    \u001b[0m |\n",
      "| \u001b[0m11       \u001b[0m | \u001b[0m-0.02241 \u001b[0m | \u001b[0m-1.614   \u001b[0m | \u001b[0m13.74    \u001b[0m |\n",
      "| \u001b[0m12       \u001b[0m | \u001b[0m-0.01414 \u001b[0m | \u001b[0m-2.805   \u001b[0m | \u001b[0m6.419    \u001b[0m |\n",
      "| \u001b[0m13       \u001b[0m | \u001b[0m-0.01585 \u001b[0m | \u001b[0m-2.147   \u001b[0m | \u001b[0m9.597    \u001b[0m |\n",
      "| \u001b[0m14       \u001b[0m | \u001b[0m-0.03133 \u001b[0m | \u001b[0m-0.6946  \u001b[0m | \u001b[0m16.7     \u001b[0m |\n",
      "| \u001b[0m15       \u001b[0m | \u001b[0m-0.01883 \u001b[0m | \u001b[0m-4.471   \u001b[0m | \u001b[0m1.208    \u001b[0m |\n",
      "| \u001b[0m16       \u001b[0m | \u001b[0m-0.02596 \u001b[0m | \u001b[0m-2.016   \u001b[0m | \u001b[0m15.85    \u001b[0m |\n",
      "| \u001b[0m17       \u001b[0m | \u001b[0m-0.01864 \u001b[0m | \u001b[0m-3.868   \u001b[0m | \u001b[0m10.7     \u001b[0m |\n",
      "| \u001b[0m18       \u001b[0m | \u001b[0m-0.0183  \u001b[0m | \u001b[0m-4.32    \u001b[0m | \u001b[0m7.445    \u001b[0m |\n",
      "| \u001b[0m19       \u001b[0m | \u001b[0m-0.01835 \u001b[0m | \u001b[0m-4.24    \u001b[0m | \u001b[0m8.596    \u001b[0m |\n",
      "| \u001b[0m20       \u001b[0m | \u001b[0m-0.01287 \u001b[0m | \u001b[0m-1.036   \u001b[0m | \u001b[0m8.139    \u001b[0m |\n",
      "| \u001b[95m21       \u001b[0m | \u001b[95m-0.008042\u001b[0m | \u001b[95m0.0      \u001b[0m | \u001b[95m2.724    \u001b[0m |\n",
      "| \u001b[0m22       \u001b[0m | \u001b[0m-0.008626\u001b[0m | \u001b[0m-0.000522\u001b[0m | \u001b[0m0.4666   \u001b[0m |\n",
      "| \u001b[0m23       \u001b[0m | \u001b[0m-0.01101 \u001b[0m | \u001b[0m-1.473   \u001b[0m | \u001b[0m1.737    \u001b[0m |\n",
      "| \u001b[0m24       \u001b[0m | \u001b[0m-0.01879 \u001b[0m | \u001b[0m-1.64    \u001b[0m | \u001b[0m0.08419  \u001b[0m |\n",
      "| \u001b[0m25       \u001b[0m | \u001b[0m-0.008113\u001b[0m | \u001b[0m0.0      \u001b[0m | \u001b[0m1.57     \u001b[0m |\n",
      "| \u001b[0m26       \u001b[0m | \u001b[0m-0.02114 \u001b[0m | \u001b[0m-4.939   \u001b[0m | \u001b[0m4.157    \u001b[0m |\n",
      "| \u001b[0m27       \u001b[0m | \u001b[0m-0.01096 \u001b[0m | \u001b[0m-1.333   \u001b[0m | \u001b[0m3.315    \u001b[0m |\n",
      "| \u001b[0m28       \u001b[0m | \u001b[0m-0.03423 \u001b[0m | \u001b[0m-4.98    \u001b[0m | \u001b[0m19.76    \u001b[0m |\n",
      "| \u001b[0m29       \u001b[0m | \u001b[0m-0.01485 \u001b[0m | \u001b[0m0.0      \u001b[0m | \u001b[0m9.362    \u001b[0m |\n",
      "| \u001b[0m30       \u001b[0m | \u001b[0m-0.008786\u001b[0m | \u001b[0m0.0      \u001b[0m | \u001b[0m3.91     \u001b[0m |\n",
      "| \u001b[0m31       \u001b[0m | \u001b[0m-0.01075 \u001b[0m | \u001b[0m0.0      \u001b[0m | \u001b[0m6.972    \u001b[0m |\n",
      "| \u001b[0m32       \u001b[0m | \u001b[0m-0.009265\u001b[0m | \u001b[0m-0.4633  \u001b[0m | \u001b[0m2.173    \u001b[0m |\n",
      "| \u001b[0m33       \u001b[0m | \u001b[0m-0.008406\u001b[0m | \u001b[0m-0.003296\u001b[0m | \u001b[0m1.035    \u001b[0m |\n",
      "| \u001b[95m34       \u001b[0m | \u001b[95m-0.007831\u001b[0m | \u001b[95m-0.01609 \u001b[0m | \u001b[95m2.205    \u001b[0m |\n",
      "| \u001b[0m35       \u001b[0m | \u001b[0m-0.013   \u001b[0m | \u001b[0m-2.672   \u001b[0m | \u001b[0m2.729    \u001b[0m |\n",
      "| \u001b[0m36       \u001b[0m | \u001b[0m-0.008103\u001b[0m | \u001b[0m-0.01219 \u001b[0m | \u001b[0m2.47     \u001b[0m |\n",
      "| \u001b[0m37       \u001b[0m | \u001b[0m-0.008337\u001b[0m | \u001b[0m-0.02019 \u001b[0m | \u001b[0m3.22     \u001b[0m |\n",
      "| \u001b[0m38       \u001b[0m | \u001b[0m-0.01025 \u001b[0m | \u001b[0m-0.01309 \u001b[0m | \u001b[0m5.904    \u001b[0m |\n",
      "| \u001b[95m39       \u001b[0m | \u001b[95m-0.007752\u001b[0m | \u001b[95m0.0      \u001b[0m | \u001b[95m1.958    \u001b[0m |\n",
      "| \u001b[0m40       \u001b[0m | \u001b[0m-0.1734  \u001b[0m | \u001b[0m0.0      \u001b[0m | \u001b[0m1e-06    \u001b[0m |\n",
      "| \u001b[0m41       \u001b[0m | \u001b[0m-0.03966 \u001b[0m | \u001b[0m-0.4306  \u001b[0m | \u001b[0m19.52    \u001b[0m |\n",
      "| \u001b[0m42       \u001b[0m | \u001b[0m-0.03995 \u001b[0m | \u001b[0m-2.393   \u001b[0m | \u001b[0m19.69    \u001b[0m |\n",
      "| \u001b[0m43       \u001b[0m | \u001b[0m-0.01709 \u001b[0m | \u001b[0m-3.894   \u001b[0m | \u001b[0m1.515    \u001b[0m |\n",
      "| \u001b[0m44       \u001b[0m | \u001b[0m-0.01548 \u001b[0m | \u001b[0m-2.287   \u001b[0m | \u001b[0m9.752    \u001b[0m |\n",
      "| \u001b[0m45       \u001b[0m | \u001b[0m-0.0416  \u001b[0m | \u001b[0m-1.451   \u001b[0m | \u001b[0m18.45    \u001b[0m |\n",
      "| \u001b[0m46       \u001b[0m | \u001b[0m-0.008031\u001b[0m | \u001b[0m-0.009574\u001b[0m | \u001b[0m2.705    \u001b[0m |\n",
      "| \u001b[0m47       \u001b[0m | \u001b[0m-0.02382 \u001b[0m | \u001b[0m-3.446   \u001b[0m | \u001b[0m14.65    \u001b[0m |\n",
      "| \u001b[0m48       \u001b[0m | \u001b[0m-0.008919\u001b[0m | \u001b[0m-0.2043  \u001b[0m | \u001b[0m0.6971   \u001b[0m |\n",
      "| \u001b[0m49       \u001b[0m | \u001b[0m-0.03616 \u001b[0m | \u001b[0m-3.456   \u001b[0m | \u001b[0m19.52    \u001b[0m |\n",
      "| \u001b[0m50       \u001b[0m | \u001b[0m-0.009266\u001b[0m | \u001b[0m-0.4851  \u001b[0m | \u001b[0m1.642    \u001b[0m |\n",
      "=================================================\n"
     ]
    }
   ],
   "source": [
    "bo = BayesianOptimization(\n",
    "    opt_step,\n",
    "    pbounds={\n",
    "        \"log_lr\": (-5, 0),\n",
    "        \"soft_threshold\": (1e-6, 20)\n",
    "    },\n",
    "    verbose=2,\n",
    "    random_state=314,\n",
    "    allow_duplicate_points=True\n",
    ")\n",
    "\n",
    "bo.maximize(init_points=20, n_iter=30)"
   ]
  },
  {
   "cell_type": "code",
   "execution_count": 27,
   "id": "89f2b189-9b66-4136-a95e-854524b7070e",
   "metadata": {
    "tags": []
   },
   "outputs": [
    {
     "name": "stderr",
     "output_type": "stream",
     "text": [
      "100%|███████████████████████████████████████████████████████████████████████████████████████████████████████████████████████████████████████████████████████████████████████████████████████████████████████████████████████████████████████████████████████████████████████████████████████| 100/100 [00:11<00:00,  8.61it/s]\n"
     ]
    }
   ],
   "source": [
    "method = \"WLF-IMQ\"\n",
    "log_lr = bo.max[\"params\"][\"log_lr\"]\n",
    "configs[method] = bo.max[\"params\"]\n",
    "\n",
    "hist_bel = []\n",
    "times = []\n",
    "\n",
    "for yc, Xc in tqdm(zip(y_collection, X_collection), total=n_runs): \n",
    "    tinit = time()\n",
    "    run = filter_wlfimq(**bo.max[\"params\"], measurements=y, covariates=X)\n",
    "    run = jax.block_until_ready(run)\n",
    "    tend = time()\n",
    "    \n",
    "    hist_bel.append(run)\n",
    "    times.append(tend - tinit)\n",
    "\n",
    "hist_bel = np.stack(hist_bel)\n",
    "\n",
    "hist_methods[method] = hist_bel\n",
    "time_methods[method] = times"
   ]
  },
  {
   "cell_type": "markdown",
   "id": "45e1930e-3197-4df4-9ba5-b00336904da2",
   "metadata": {},
   "source": [
    "## WLF-MD"
   ]
  },
  {
   "cell_type": "code",
   "execution_count": 28,
   "id": "111fece7-4678-47c3-8eab-7f8015ec0fdb",
   "metadata": {
    "tags": []
   },
   "outputs": [],
   "source": [
    "@jax.jit\n",
    "def filter_wlfmd(log_lr, threshold, measurements, covariates):\n",
    "    lr = jnp.exp(log_lr)\n",
    "    nsteps = len(measurements)\n",
    "    agent = rkf.ExtendedKalmanFilterMD(\n",
    "        latent_fn, measurement_fn,\n",
    "        dynamics_covariance=Q,\n",
    "        observation_covariance=observation_covariance,\n",
    "        threshold=threshold,\n",
    "    )\n",
    "    \n",
    "    init_bel = agent.init_bel(params_init, cov=lr)\n",
    "    callback = partial(callback_fn, applyfn=agent.vobs_fn)\n",
    "    bel, yhat_pp = agent.scan(init_bel, measurements, covariates, callback_fn=callback)\n",
    "    \n",
    "    # out = (agent, bel)\n",
    "    return yhat_pp.squeeze()\n",
    "\n",
    "\n",
    "@jax.jit\n",
    "def opt_step(log_lr, threshold):\n",
    "    yhat_pp = filter_wlfmd(log_lr, threshold, y, X)\n",
    "    err = jnp.power(yhat_pp - y, 2)\n",
    "    err = jnp.median(err)\n",
    "    err = jax.lax.cond(jnp.isnan(err), lambda: 1e6, lambda: err)\n",
    "    return -err"
   ]
  },
  {
   "cell_type": "code",
   "execution_count": 29,
   "id": "9ec0e25b-e549-4a37-bf39-3f75135f8050",
   "metadata": {
    "tags": []
   },
   "outputs": [
    {
     "name": "stdout",
     "output_type": "stream",
     "text": [
      "|   iter    |  target   |  log_lr   | threshold |\n",
      "-------------------------------------------------\n",
      "| \u001b[0m1        \u001b[0m | \u001b[0m-0.00926 \u001b[0m | \u001b[0m-0.4156  \u001b[0m | \u001b[0m11.77    \u001b[0m |\n",
      "| \u001b[0m2        \u001b[0m | \u001b[0m-0.01647 \u001b[0m | \u001b[0m-3.675   \u001b[0m | \u001b[0m15.66    \u001b[0m |\n",
      "| \u001b[95m3        \u001b[0m | \u001b[95m-0.00902 \u001b[0m | \u001b[95m-0.41    \u001b[0m | \u001b[95m16.55    \u001b[0m |\n",
      "| \u001b[0m4        \u001b[0m | \u001b[0m-0.01086 \u001b[0m | \u001b[0m-1.36    \u001b[0m | \u001b[0m5.21     \u001b[0m |\n",
      "| \u001b[0m5        \u001b[0m | \u001b[0m-0.009247\u001b[0m | \u001b[0m-0.4412  \u001b[0m | \u001b[0m5.215    \u001b[0m |\n",
      "| \u001b[0m6        \u001b[0m | \u001b[0m-0.01081 \u001b[0m | \u001b[0m-1.168   \u001b[0m | \u001b[0m5.231    \u001b[0m |\n",
      "| \u001b[0m7        \u001b[0m | \u001b[0m-0.01822 \u001b[0m | \u001b[0m-4.389   \u001b[0m | \u001b[0m7.72     \u001b[0m |\n",
      "| \u001b[0m8        \u001b[0m | \u001b[0m-0.0104  \u001b[0m | \u001b[0m-0.7996  \u001b[0m | \u001b[0m5.564    \u001b[0m |\n",
      "| \u001b[0m9        \u001b[0m | \u001b[0m-0.01938 \u001b[0m | \u001b[0m-4.65    \u001b[0m | \u001b[0m12.66    \u001b[0m |\n",
      "| \u001b[0m10       \u001b[0m | \u001b[0m-0.01184 \u001b[0m | \u001b[0m-2.076   \u001b[0m | \u001b[0m11.62    \u001b[0m |\n",
      "| \u001b[0m11       \u001b[0m | \u001b[0m-0.01124 \u001b[0m | \u001b[0m-1.614   \u001b[0m | \u001b[0m13.74    \u001b[0m |\n",
      "| \u001b[0m12       \u001b[0m | \u001b[0m-0.01364 \u001b[0m | \u001b[0m-2.805   \u001b[0m | \u001b[0m6.419    \u001b[0m |\n",
      "| \u001b[0m13       \u001b[0m | \u001b[0m-0.01194 \u001b[0m | \u001b[0m-2.147   \u001b[0m | \u001b[0m9.597    \u001b[0m |\n",
      "| \u001b[0m14       \u001b[0m | \u001b[0m-0.01024 \u001b[0m | \u001b[0m-0.6946  \u001b[0m | \u001b[0m16.7     \u001b[0m |\n",
      "| \u001b[0m15       \u001b[0m | \u001b[0m-0.01852 \u001b[0m | \u001b[0m-4.471   \u001b[0m | \u001b[0m1.208    \u001b[0m |\n",
      "| \u001b[0m16       \u001b[0m | \u001b[0m-0.01174 \u001b[0m | \u001b[0m-2.016   \u001b[0m | \u001b[0m15.85    \u001b[0m |\n",
      "| \u001b[0m17       \u001b[0m | \u001b[0m-0.01699 \u001b[0m | \u001b[0m-3.868   \u001b[0m | \u001b[0m10.7     \u001b[0m |\n",
      "| \u001b[0m18       \u001b[0m | \u001b[0m-0.0181  \u001b[0m | \u001b[0m-4.32    \u001b[0m | \u001b[0m7.445    \u001b[0m |\n",
      "| \u001b[0m19       \u001b[0m | \u001b[0m-0.01783 \u001b[0m | \u001b[0m-4.24    \u001b[0m | \u001b[0m8.596    \u001b[0m |\n",
      "| \u001b[0m20       \u001b[0m | \u001b[0m-0.0105  \u001b[0m | \u001b[0m-1.036   \u001b[0m | \u001b[0m8.139    \u001b[0m |\n",
      "| \u001b[95m21       \u001b[0m | \u001b[95m-0.008131\u001b[0m | \u001b[95m-0.01065 \u001b[0m | \u001b[95m14.68    \u001b[0m |\n",
      "| \u001b[95m22       \u001b[0m | \u001b[95m-0.007821\u001b[0m | \u001b[95m0.0      \u001b[0m | \u001b[95m2.371    \u001b[0m |\n",
      "| \u001b[0m23       \u001b[0m | \u001b[0m-0.1666  \u001b[0m | \u001b[0m-0.08503 \u001b[0m | \u001b[0m0.03104  \u001b[0m |\n",
      "| \u001b[0m24       \u001b[0m | \u001b[0m-0.02154 \u001b[0m | \u001b[0m-5.0     \u001b[0m | \u001b[0m20.0     \u001b[0m |\n",
      "| \u001b[0m25       \u001b[0m | \u001b[0m-0.007821\u001b[0m | \u001b[0m0.0      \u001b[0m | \u001b[0m20.0     \u001b[0m |\n",
      "| \u001b[0m26       \u001b[0m | \u001b[0m-0.02154 \u001b[0m | \u001b[0m-5.0     \u001b[0m | \u001b[0m3.934    \u001b[0m |\n",
      "| \u001b[0m27       \u001b[0m | \u001b[0m-0.01226 \u001b[0m | \u001b[0m-2.318   \u001b[0m | \u001b[0m20.0     \u001b[0m |\n",
      "| \u001b[0m28       \u001b[0m | \u001b[0m-0.01151 \u001b[0m | \u001b[0m-1.81    \u001b[0m | \u001b[0m3.131    \u001b[0m |\n",
      "| \u001b[0m29       \u001b[0m | \u001b[0m-0.007821\u001b[0m | \u001b[0m0.0      \u001b[0m | \u001b[0m3.531    \u001b[0m |\n",
      "| \u001b[0m30       \u001b[0m | \u001b[0m-0.0214  \u001b[0m | \u001b[0m-4.973   \u001b[0m | \u001b[0m17.43    \u001b[0m |\n",
      "| \u001b[0m31       \u001b[0m | \u001b[0m-0.007821\u001b[0m | \u001b[0m0.0      \u001b[0m | \u001b[0m9.726    \u001b[0m |\n",
      "| \u001b[0m32       \u001b[0m | \u001b[0m-0.007821\u001b[0m | \u001b[0m0.0      \u001b[0m | \u001b[0m18.33    \u001b[0m |\n",
      "| \u001b[0m33       \u001b[0m | \u001b[0m-0.01345 \u001b[0m | \u001b[0m-2.749   \u001b[0m | \u001b[0m18.06    \u001b[0m |\n",
      "| \u001b[0m34       \u001b[0m | \u001b[0m-0.007821\u001b[0m | \u001b[0m0.0      \u001b[0m | \u001b[0m7.277    \u001b[0m |\n",
      "| \u001b[0m35       \u001b[0m | \u001b[0m-0.1734  \u001b[0m | \u001b[0m-4.939   \u001b[0m | \u001b[0m9.303e-05\u001b[0m |\n",
      "| \u001b[0m36       \u001b[0m | \u001b[0m-0.01659 \u001b[0m | \u001b[0m-3.751   \u001b[0m | \u001b[0m2.379    \u001b[0m |\n",
      "| \u001b[0m37       \u001b[0m | \u001b[0m-0.02134 \u001b[0m | \u001b[0m-4.967   \u001b[0m | \u001b[0m14.44    \u001b[0m |\n",
      "| \u001b[0m38       \u001b[0m | \u001b[0m-0.02102 \u001b[0m | \u001b[0m-4.929   \u001b[0m | \u001b[0m5.757    \u001b[0m |\n",
      "| \u001b[0m39       \u001b[0m | \u001b[0m-0.007821\u001b[0m | \u001b[0m0.0      \u001b[0m | \u001b[0m13.17    \u001b[0m |\n",
      "| \u001b[0m40       \u001b[0m | \u001b[0m-0.0214  \u001b[0m | \u001b[0m-4.973   \u001b[0m | \u001b[0m2.356    \u001b[0m |\n",
      "| \u001b[0m41       \u001b[0m | \u001b[0m-0.01484 \u001b[0m | \u001b[0m-3.213   \u001b[0m | \u001b[0m4.571    \u001b[0m |\n",
      "| \u001b[0m42       \u001b[0m | \u001b[0m-0.0149  \u001b[0m | \u001b[0m-3.208   \u001b[0m | \u001b[0m13.67    \u001b[0m |\n",
      "| \u001b[0m43       \u001b[0m | \u001b[0m-0.01075 \u001b[0m | \u001b[0m-1.292   \u001b[0m | \u001b[0m18.89    \u001b[0m |\n",
      "| \u001b[0m44       \u001b[0m | \u001b[0m-0.01314 \u001b[0m | \u001b[0m-2.641   \u001b[0m | \u001b[0m8.033    \u001b[0m |\n",
      "| \u001b[0m45       \u001b[0m | \u001b[0m-0.02154 \u001b[0m | \u001b[0m-5.0     \u001b[0m | \u001b[0m10.07    \u001b[0m |\n",
      "| \u001b[0m46       \u001b[0m | \u001b[0m-0.01644 \u001b[0m | \u001b[0m-3.657   \u001b[0m | \u001b[0m19.29    \u001b[0m |\n",
      "| \u001b[0m47       \u001b[0m | \u001b[0m-0.01069 \u001b[0m | \u001b[0m-1.072   \u001b[0m | \u001b[0m10.53    \u001b[0m |\n",
      "| \u001b[0m48       \u001b[0m | \u001b[0m-0.01389 \u001b[0m | \u001b[0m-2.957   \u001b[0m | \u001b[0m1.368    \u001b[0m |\n",
      "| \u001b[0m49       \u001b[0m | \u001b[0m-0.008258\u001b[0m | \u001b[0m-0.02288 \u001b[0m | \u001b[0m8.596    \u001b[0m |\n",
      "| \u001b[0m50       \u001b[0m | \u001b[0m-0.01066 \u001b[0m | \u001b[0m-1.095   \u001b[0m | \u001b[0m15.06    \u001b[0m |\n",
      "=================================================\n"
     ]
    }
   ],
   "source": [
    "bo = BayesianOptimization(\n",
    "    opt_step,\n",
    "    pbounds={\n",
    "        \"log_lr\": (-5, 0),\n",
    "        \"threshold\": (1e-6, 20)\n",
    "    },\n",
    "    verbose=2,\n",
    "    random_state=314,\n",
    "    allow_duplicate_points=True\n",
    ")\n",
    "\n",
    "bo.maximize(init_points=20, n_iter=30)"
   ]
  },
  {
   "cell_type": "code",
   "execution_count": 30,
   "id": "7c98a06e-07a0-4348-8cc3-c5d314086cef",
   "metadata": {
    "tags": []
   },
   "outputs": [
    {
     "name": "stderr",
     "output_type": "stream",
     "text": [
      "100%|███████████████████████████████████████████████████████████████████████████████████████████████████████████████████████████████████████████████████████████████████████████████████████████████████████████████████████████████████████████████████████████████████████████████████████| 100/100 [00:12<00:00,  8.32it/s]\n"
     ]
    }
   ],
   "source": [
    "method = \"WLF-MD\"\n",
    "configs[method] = bo.max[\"params\"]\n",
    "\n",
    "hist_bel = []\n",
    "times = []\n",
    "\n",
    "for yc, Xc in tqdm(zip(y_collection, X_collection), total=n_runs): \n",
    "    tinit = time()\n",
    "    run = filter_wlfmd(**bo.max[\"params\"], measurements=y, covariates=X)\n",
    "    run = jax.block_until_ready(run)\n",
    "    tend = time()\n",
    "    \n",
    "    hist_bel.append(run)\n",
    "    times.append(tend - tinit)\n",
    "\n",
    "hist_bel = np.stack(hist_bel)\n",
    "\n",
    "hist_methods[method] = hist_bel\n",
    "time_methods[method] = times"
   ]
  },
  {
   "cell_type": "markdown",
   "id": "d5902110-06c6-475a-b986-105047e810a7",
   "metadata": {},
   "source": [
    "## OGD"
   ]
  },
  {
   "cell_type": "code",
   "execution_count": 31,
   "id": "618b4770-cbfe-4264-a058-ee66abda6289",
   "metadata": {
    "tags": []
   },
   "outputs": [],
   "source": [
    "def lossfn(params, counter, x, y, applyfn):\n",
    "    yhat = applyfn(params, x)\n",
    "    return jnp.sum(counter * (y - yhat) ** 2) / counter.sum()"
   ]
  },
  {
   "cell_type": "code",
   "execution_count": 32,
   "id": "bef75e72-eaa0-4c78-abab-f74c30d8b60f",
   "metadata": {
    "tags": []
   },
   "outputs": [],
   "source": [
    "@jax.jit\n",
    "def filter_ogd(log_lr, n_inner, measurements, covariates):\n",
    "    lr = jnp.exp(log_lr)\n",
    "    n_inner = n_inner.astype(int)\n",
    "    \n",
    "    agent = replay_sgd.FifoSGD(\n",
    "        measurement_fn,\n",
    "        lossfn,\n",
    "        optax.adam(lr),\n",
    "        buffer_size=1,\n",
    "        dim_features=covariates.shape[-1],\n",
    "        dim_output=1,\n",
    "        n_inner=n_inner,\n",
    "    )\n",
    "    \n",
    "    callback = partial(callback_fn, applyfn=measurement_fn)\n",
    "    \n",
    "    init_bel = agent.init_bel(params_init)\n",
    "    bel, yhat_pp = agent.scan(init_bel, measurements, covariates, callback_fn=callback)\n",
    "    \n",
    "    # out = (agent, bel)\n",
    "    return yhat_pp.squeeze()\n",
    "\n",
    "\n",
    "@jax.jit\n",
    "def opt_step(log_lr, n_inner):\n",
    "    yhat_pp = filter_ogd(log_lr, n_inner, y, X)\n",
    "    err = jnp.power(yhat_pp - y, 2)\n",
    "    err = jnp.median(err)\n",
    "    err = jax.lax.cond(jnp.isnan(err), lambda: 1e6, lambda: err)\n",
    "    return -err"
   ]
  },
  {
   "cell_type": "code",
   "execution_count": 33,
   "id": "f4098ad6-97e3-40a2-93c9-c6e0166ec9cf",
   "metadata": {
    "tags": []
   },
   "outputs": [
    {
     "name": "stdout",
     "output_type": "stream",
     "text": [
      "|   iter    |  target   |  log_lr   |  n_inner  |\n",
      "-------------------------------------------------\n",
      "| \u001b[0m1        \u001b[0m | \u001b[0m-12.64   \u001b[0m | \u001b[0m-0.4156  \u001b[0m | \u001b[0m6.297    \u001b[0m |\n",
      "| \u001b[95m2        \u001b[0m | \u001b[95m-1.118   \u001b[0m | \u001b[95m-3.675   \u001b[0m | \u001b[95m8.049    \u001b[0m |\n",
      "| \u001b[0m3        \u001b[0m | \u001b[0m-10.92   \u001b[0m | \u001b[0m-0.41    \u001b[0m | \u001b[0m8.446    \u001b[0m |\n",
      "| \u001b[0m4        \u001b[0m | \u001b[0m-3.328   \u001b[0m | \u001b[0m-1.36    \u001b[0m | \u001b[0m3.344    \u001b[0m |\n",
      "| \u001b[0m5        \u001b[0m | \u001b[0m-8.447   \u001b[0m | \u001b[0m-0.4412  \u001b[0m | \u001b[0m3.347    \u001b[0m |\n",
      "| \u001b[0m6        \u001b[0m | \u001b[0m-4.078   \u001b[0m | \u001b[0m-1.168   \u001b[0m | \u001b[0m3.354    \u001b[0m |\n",
      "| \u001b[95m7        \u001b[0m | \u001b[95m-0.4523  \u001b[0m | \u001b[95m-4.389   \u001b[0m | \u001b[95m4.474    \u001b[0m |\n",
      "| \u001b[0m8        \u001b[0m | \u001b[0m-5.992   \u001b[0m | \u001b[0m-0.7996  \u001b[0m | \u001b[0m3.504    \u001b[0m |\n",
      "| \u001b[0m9        \u001b[0m | \u001b[0m-0.6104  \u001b[0m | \u001b[0m-4.65    \u001b[0m | \u001b[0m6.698    \u001b[0m |\n",
      "| \u001b[0m10       \u001b[0m | \u001b[0m-3.213   \u001b[0m | \u001b[0m-2.076   \u001b[0m | \u001b[0m6.231    \u001b[0m |\n",
      "| \u001b[0m11       \u001b[0m | \u001b[0m-5.957   \u001b[0m | \u001b[0m-1.614   \u001b[0m | \u001b[0m7.184    \u001b[0m |\n",
      "| \u001b[0m12       \u001b[0m | \u001b[0m-1.049   \u001b[0m | \u001b[0m-2.805   \u001b[0m | \u001b[0m3.888    \u001b[0m |\n",
      "| \u001b[0m13       \u001b[0m | \u001b[0m-2.586   \u001b[0m | \u001b[0m-2.147   \u001b[0m | \u001b[0m5.319    \u001b[0m |\n",
      "| \u001b[0m14       \u001b[0m | \u001b[0m-11.88   \u001b[0m | \u001b[0m-0.6946  \u001b[0m | \u001b[0m8.513    \u001b[0m |\n",
      "| \u001b[95m15       \u001b[0m | \u001b[95m-0.1225  \u001b[0m | \u001b[95m-4.471   \u001b[0m | \u001b[95m1.544    \u001b[0m |\n",
      "| \u001b[0m16       \u001b[0m | \u001b[0m-4.545   \u001b[0m | \u001b[0m-2.016   \u001b[0m | \u001b[0m8.132    \u001b[0m |\n",
      "| \u001b[0m17       \u001b[0m | \u001b[0m-0.661   \u001b[0m | \u001b[0m-3.868   \u001b[0m | \u001b[0m5.817    \u001b[0m |\n",
      "| \u001b[0m18       \u001b[0m | \u001b[0m-0.3692  \u001b[0m | \u001b[0m-4.32    \u001b[0m | \u001b[0m4.35     \u001b[0m |\n",
      "| \u001b[0m19       \u001b[0m | \u001b[0m-0.4038  \u001b[0m | \u001b[0m-4.24    \u001b[0m | \u001b[0m4.868    \u001b[0m |\n",
      "| \u001b[0m20       \u001b[0m | \u001b[0m-6.231   \u001b[0m | \u001b[0m-1.036   \u001b[0m | \u001b[0m4.663    \u001b[0m |\n",
      "| \u001b[0m21       \u001b[0m | \u001b[0m-0.4395  \u001b[0m | \u001b[0m-2.787   \u001b[0m | \u001b[0m1.0      \u001b[0m |\n",
      "| \u001b[0m22       \u001b[0m | \u001b[0m-0.6316  \u001b[0m | \u001b[0m-5.0     \u001b[0m | \u001b[0m10.0     \u001b[0m |\n",
      "| \u001b[0m23       \u001b[0m | \u001b[0m-0.4521  \u001b[0m | \u001b[0m-3.479   \u001b[0m | \u001b[0m2.416    \u001b[0m |\n",
      "| \u001b[0m24       \u001b[0m | \u001b[0m-0.3001  \u001b[0m | \u001b[0m-5.0     \u001b[0m | \u001b[0m2.822    \u001b[0m |\n",
      "| \u001b[0m25       \u001b[0m | \u001b[0m-1.627   \u001b[0m | \u001b[0m-3.492   \u001b[0m | \u001b[0m10.0     \u001b[0m |\n",
      "| \u001b[0m26       \u001b[0m | \u001b[0m-0.6151  \u001b[0m | \u001b[0m-5.0     \u001b[0m | \u001b[0m8.463    \u001b[0m |\n",
      "| \u001b[0m27       \u001b[0m | \u001b[0m-1.41    \u001b[0m | \u001b[0m-1.301   \u001b[0m | \u001b[0m1.0      \u001b[0m |\n",
      "| \u001b[0m28       \u001b[0m | \u001b[0m-0.4018  \u001b[0m | \u001b[0m-5.0     \u001b[0m | \u001b[0m1.0      \u001b[0m |\n",
      "| \u001b[0m29       \u001b[0m | \u001b[0m-1.348   \u001b[0m | \u001b[0m-3.149   \u001b[0m | \u001b[0m6.924    \u001b[0m |\n",
      "| \u001b[0m30       \u001b[0m | \u001b[0m-0.3707  \u001b[0m | \u001b[0m-5.0     \u001b[0m | \u001b[0m5.704    \u001b[0m |\n",
      "| \u001b[0m31       \u001b[0m | \u001b[0m-0.1523  \u001b[0m | \u001b[0m-3.793   \u001b[0m | \u001b[0m1.049    \u001b[0m |\n",
      "| \u001b[0m32       \u001b[0m | \u001b[0m-0.786   \u001b[0m | \u001b[0m-4.276   \u001b[0m | \u001b[0m9.23     \u001b[0m |\n",
      "| \u001b[0m33       \u001b[0m | \u001b[0m-0.6407  \u001b[0m | \u001b[0m-2.342   \u001b[0m | \u001b[0m1.938    \u001b[0m |\n",
      "| \u001b[0m34       \u001b[0m | \u001b[0m-0.3324  \u001b[0m | \u001b[0m-4.135   \u001b[0m | \u001b[0m3.192    \u001b[0m |\n",
      "| \u001b[0m35       \u001b[0m | \u001b[0m-0.3707  \u001b[0m | \u001b[0m-5.0     \u001b[0m | \u001b[0m3.737    \u001b[0m |\n",
      "| \u001b[0m36       \u001b[0m | \u001b[0m-0.4512  \u001b[0m | \u001b[0m-4.994   \u001b[0m | \u001b[0m7.346    \u001b[0m |\n",
      "| \u001b[0m37       \u001b[0m | \u001b[0m-0.861   \u001b[0m | \u001b[0m-3.274   \u001b[0m | \u001b[0m4.938    \u001b[0m |\n",
      "| \u001b[0m38       \u001b[0m | \u001b[0m-0.4018  \u001b[0m | \u001b[0m-5.0     \u001b[0m | \u001b[0m1.908    \u001b[0m |\n",
      "| \u001b[0m39       \u001b[0m | \u001b[0m-0.266   \u001b[0m | \u001b[0m-3.303   \u001b[0m | \u001b[0m1.629    \u001b[0m |\n",
      "| \u001b[0m40       \u001b[0m | \u001b[0m-0.244   \u001b[0m | \u001b[0m-4.31    \u001b[0m | \u001b[0m2.287    \u001b[0m |\n",
      "| \u001b[0m41       \u001b[0m | \u001b[0m-0.9881  \u001b[0m | \u001b[0m-5.0     \u001b[0m | \u001b[0m9.295    \u001b[0m |\n",
      "| \u001b[0m42       \u001b[0m | \u001b[0m-0.7778  \u001b[0m | \u001b[0m-4.336   \u001b[0m | \u001b[0m10.0     \u001b[0m |\n",
      "| \u001b[0m43       \u001b[0m | \u001b[0m-0.7936  \u001b[0m | \u001b[0m-2.064   \u001b[0m | \u001b[0m1.0      \u001b[0m |\n",
      "| \u001b[0m44       \u001b[0m | \u001b[0m-0.4819  \u001b[0m | \u001b[0m-5.0     \u001b[0m | \u001b[0m6.407    \u001b[0m |\n",
      "| \u001b[0m45       \u001b[0m | \u001b[0m-0.5283  \u001b[0m | \u001b[0m-3.657   \u001b[0m | \u001b[0m3.827    \u001b[0m |\n",
      "| \u001b[95m46       \u001b[0m | \u001b[95m-0.1134  \u001b[0m | \u001b[95m-4.41    \u001b[0m | \u001b[95m1.023    \u001b[0m |\n",
      "| \u001b[0m47       \u001b[0m | \u001b[0m-0.7865  \u001b[0m | \u001b[0m-2.719   \u001b[0m | \u001b[0m2.783    \u001b[0m |\n",
      "| \u001b[0m48       \u001b[0m | \u001b[0m-0.5062  \u001b[0m | \u001b[0m-4.5     \u001b[0m | \u001b[0m7.931    \u001b[0m |\n",
      "| \u001b[0m49       \u001b[0m | \u001b[0m-0.1618  \u001b[0m | \u001b[0m-3.886   \u001b[0m | \u001b[0m1.723    \u001b[0m |\n",
      "| \u001b[0m50       \u001b[0m | \u001b[0m-0.3564  \u001b[0m | \u001b[0m-4.577   \u001b[0m | \u001b[0m3.494    \u001b[0m |\n",
      "=================================================\n"
     ]
    }
   ],
   "source": [
    "bo = BayesianOptimization(\n",
    "    opt_step,\n",
    "    pbounds={\n",
    "        \"log_lr\": (-5, 0),\n",
    "        \"n_inner\": (1, 10),\n",
    "    },\n",
    "    verbose=2,\n",
    "    random_state=314,\n",
    "    allow_duplicate_points=True\n",
    ")\n",
    "\n",
    "bo.maximize(init_points=20, n_iter=30)"
   ]
  },
  {
   "cell_type": "code",
   "execution_count": 34,
   "id": "1052110a-417d-4414-a8db-f204c5b426b2",
   "metadata": {
    "tags": []
   },
   "outputs": [
    {
     "name": "stderr",
     "output_type": "stream",
     "text": [
      "100%|███████████████████████████████████████████████████████████████████████████████████████████████████████████████████████████████████████████████████████████████████████████████████████████████████████████████████████████████████████████████████████████████████████████████████████| 100/100 [00:07<00:00, 13.53it/s]\n"
     ]
    }
   ],
   "source": [
    "method = \"OGD\"\n",
    "configs[method] = bo.max[\"params\"]\n",
    "\n",
    "hist_bel = []\n",
    "times = []\n",
    "\n",
    "for yc, Xc in tqdm(zip(y_collection, X_collection), total=n_runs): \n",
    "    tinit = time()\n",
    "    run = filter_ogd(**bo.max[\"params\"], measurements=y, covariates=X)\n",
    "    run = jax.block_until_ready(run)\n",
    "    tend = time()\n",
    "    \n",
    "    hist_bel.append(run)\n",
    "    times.append(tend - tinit)\n",
    "\n",
    "hist_bel = np.stack(hist_bel)\n",
    "\n",
    "hist_methods[method] = hist_bel\n",
    "time_methods[method] = times"
   ]
  },
  {
   "cell_type": "markdown",
   "id": "847227fc-bbdd-473e-ba79-75945acd219c",
   "metadata": {},
   "source": [
    "## WLF-OGD"
   ]
  },
  {
   "cell_type": "code",
   "execution_count": 35,
   "id": "139ef7d5-4077-463b-b4de-cc42b3347f30",
   "metadata": {
    "tags": []
   },
   "outputs": [],
   "source": [
    "@jax.jit\n",
    "def filter_wlf_ogd(log_lr, soft_threshold, n_inner, measurements, covariates):\n",
    "    lr = jnp.exp(log_lr)\n",
    "    n_inner = n_inner.astype(int)\n",
    "    \n",
    "    agent = rkf.FifoSGDIMQ(\n",
    "        measurement_fn,\n",
    "        optax.adam(lr),\n",
    "        buffer_size=1,\n",
    "        dim_features=covariates.shape[-1],\n",
    "        dim_output=1,\n",
    "        soft_threshold=soft_threshold,\n",
    "        n_inner=n_inner,\n",
    "    )\n",
    "    \n",
    "    callback = partial(callback_fn, applyfn=measurement_fn)\n",
    "    \n",
    "    init_bel = agent.init_bel(params_init)\n",
    "    bel, yhat_pp = agent.scan(init_bel, measurements, covariates, callback_fn=callback)\n",
    "    \n",
    "    # out = (agent, bel)\n",
    "    return yhat_pp.squeeze()\n",
    "\n",
    "\n",
    "@jax.jit\n",
    "def opt_step(log_lr, soft_threshold, n_inner):\n",
    "    yhat_pp = filter_wlf_ogd(log_lr, soft_threshold, n_inner, y, X)\n",
    "    err = jnp.power(yhat_pp - y, 2)\n",
    "    err = jnp.median(err)\n",
    "    err = jax.lax.cond(jnp.isnan(err), lambda: 1e6, lambda: err)\n",
    "    return -err"
   ]
  },
  {
   "cell_type": "code",
   "execution_count": 36,
   "id": "34467ae8-32ec-4d1f-b92d-07207b9547eb",
   "metadata": {
    "tags": []
   },
   "outputs": [
    {
     "name": "stdout",
     "output_type": "stream",
     "text": [
      "|   iter    |  target   |  log_lr   |  n_inner  | soft_t... |\n",
      "-------------------------------------------------------------\n",
      "| \u001b[0m1        \u001b[0m | \u001b[0m-0.1343  \u001b[0m | \u001b[0m-0.8313  \u001b[0m | \u001b[0m6.297    \u001b[0m | \u001b[0m5.301    \u001b[0m |\n",
      "| \u001b[95m2        \u001b[0m | \u001b[95m-0.1343  \u001b[0m | \u001b[95m-2.168   \u001b[0m | \u001b[95m9.262    \u001b[0m | \u001b[95m16.55    \u001b[0m |\n",
      "| \u001b[95m3        \u001b[0m | \u001b[95m-0.1294  \u001b[0m | \u001b[95m-2.72    \u001b[0m | \u001b[95m3.344    \u001b[0m | \u001b[95m18.24    \u001b[0m |\n",
      "| \u001b[95m4        \u001b[0m | \u001b[95m-0.01646 \u001b[0m | \u001b[95m-7.392   \u001b[0m | \u001b[95m7.897    \u001b[0m | \u001b[95m5.231    \u001b[0m |\n",
      "| \u001b[0m5        \u001b[0m | \u001b[0m-0.04221 \u001b[0m | \u001b[0m-8.777   \u001b[0m | \u001b[0m4.474    \u001b[0m | \u001b[0m16.8     \u001b[0m |\n",
      "| \u001b[0m6        \u001b[0m | \u001b[0m-0.03219 \u001b[0m | \u001b[0m-7.218   \u001b[0m | \u001b[0m1.629    \u001b[0m | \u001b[0m12.66    \u001b[0m |\n",
      "| \u001b[0m7        \u001b[0m | \u001b[0m-0.05773 \u001b[0m | \u001b[0m-4.152   \u001b[0m | \u001b[0m6.231    \u001b[0m | \u001b[0m13.54    \u001b[0m |\n",
      "| \u001b[0m8        \u001b[0m | \u001b[0m-0.04308 \u001b[0m | \u001b[0m-3.128   \u001b[0m | \u001b[0m4.95     \u001b[0m | \u001b[0m6.419    \u001b[0m |\n",
      "| \u001b[0m9        \u001b[0m | \u001b[0m-0.06273 \u001b[0m | \u001b[0m-4.294   \u001b[0m | \u001b[0m5.319    \u001b[0m | \u001b[0m17.22    \u001b[0m |\n",
      "| \u001b[0m10       \u001b[0m | \u001b[0m-0.03825 \u001b[0m | \u001b[0m-1.652   \u001b[0m | \u001b[0m1.952    \u001b[0m | \u001b[0m1.208    \u001b[0m |\n",
      "| \u001b[0m11       \u001b[0m | \u001b[0m-0.03652 \u001b[0m | \u001b[0m-4.031   \u001b[0m | \u001b[0m8.132    \u001b[0m | \u001b[0m4.527    \u001b[0m |\n",
      "| \u001b[0m12       \u001b[0m | \u001b[0m-0.02441 \u001b[0m | \u001b[0m-4.648   \u001b[0m | \u001b[0m2.225    \u001b[0m | \u001b[0m7.445    \u001b[0m |\n",
      "| \u001b[0m13       \u001b[0m | \u001b[0m-0.03868 \u001b[0m | \u001b[0m-8.48    \u001b[0m | \u001b[0m4.868    \u001b[0m | \u001b[0m15.85    \u001b[0m |\n",
      "| \u001b[0m14       \u001b[0m | \u001b[0m-0.04446 \u001b[0m | \u001b[0m-5.93    \u001b[0m | \u001b[0m2.601    \u001b[0m | \u001b[0m18.19    \u001b[0m |\n",
      "| \u001b[0m15       \u001b[0m | \u001b[0m-0.0342  \u001b[0m | \u001b[0m-4.547   \u001b[0m | \u001b[0m1.904    \u001b[0m | \u001b[0m14.37    \u001b[0m |\n",
      "| \u001b[0m16       \u001b[0m | \u001b[0m-0.1327  \u001b[0m | \u001b[0m-0.2157  \u001b[0m | \u001b[0m3.788    \u001b[0m | \u001b[0m5.203    \u001b[0m |\n",
      "| \u001b[0m17       \u001b[0m | \u001b[0m-0.03196 \u001b[0m | \u001b[0m-3.371   \u001b[0m | \u001b[0m2.257    \u001b[0m | \u001b[0m1.674    \u001b[0m |\n",
      "| \u001b[0m18       \u001b[0m | \u001b[0m-0.05594 \u001b[0m | \u001b[0m-4.732   \u001b[0m | \u001b[0m6.492    \u001b[0m | \u001b[0m17.35    \u001b[0m |\n",
      "| \u001b[0m19       \u001b[0m | \u001b[0m-0.0235  \u001b[0m | \u001b[0m-8.511   \u001b[0m | \u001b[0m8.777    \u001b[0m | \u001b[0m8.998    \u001b[0m |\n",
      "| \u001b[0m20       \u001b[0m | \u001b[0m-0.04486 \u001b[0m | \u001b[0m-2.732   \u001b[0m | \u001b[0m2.396    \u001b[0m | \u001b[0m8.341    \u001b[0m |\n",
      "| \u001b[0m21       \u001b[0m | \u001b[0m-0.02114 \u001b[0m | \u001b[0m-6.979   \u001b[0m | \u001b[0m5.18     \u001b[0m | \u001b[0m8.007    \u001b[0m |\n",
      "| \u001b[0m22       \u001b[0m | \u001b[0m-0.01854 \u001b[0m | \u001b[0m-8.322   \u001b[0m | \u001b[0m3.645    \u001b[0m | \u001b[0m3.235    \u001b[0m |\n",
      "| \u001b[95m23       \u001b[0m | \u001b[95m-0.01645 \u001b[0m | \u001b[95m-7.119   \u001b[0m | \u001b[95m7.247    \u001b[0m | \u001b[95m0.03808  \u001b[0m |\n",
      "| \u001b[0m24       \u001b[0m | \u001b[0m-0.01928 \u001b[0m | \u001b[0m-9.713   \u001b[0m | \u001b[0m9.621    \u001b[0m | \u001b[0m1.296    \u001b[0m |\n",
      "| \u001b[0m25       \u001b[0m | \u001b[0m-0.04052 \u001b[0m | \u001b[0m-8.88    \u001b[0m | \u001b[0m1.012    \u001b[0m | \u001b[0m0.04872  \u001b[0m |\n",
      "| \u001b[0m26       \u001b[0m | \u001b[0m-0.05779 \u001b[0m | \u001b[0m-10.0    \u001b[0m | \u001b[0m1.0      \u001b[0m | \u001b[0m6.887    \u001b[0m |\n",
      "| \u001b[0m27       \u001b[0m | \u001b[0m-0.1695  \u001b[0m | \u001b[0m-10.0    \u001b[0m | \u001b[0m5.703    \u001b[0m | \u001b[0m1e-06    \u001b[0m |\n",
      "| \u001b[95m28       \u001b[0m | \u001b[95m-0.01528 \u001b[0m | \u001b[95m-6.473   \u001b[0m | \u001b[95m9.482    \u001b[0m | \u001b[95m1.611    \u001b[0m |\n",
      "| \u001b[0m29       \u001b[0m | \u001b[0m-0.01558 \u001b[0m | \u001b[0m-6.03    \u001b[0m | \u001b[0m4.725    \u001b[0m | \u001b[0m4.51     \u001b[0m |\n",
      "| \u001b[0m30       \u001b[0m | \u001b[0m-0.03203 \u001b[0m | \u001b[0m-4.442   \u001b[0m | \u001b[0m6.46     \u001b[0m | \u001b[0m0.3182   \u001b[0m |\n",
      "| \u001b[0m31       \u001b[0m | \u001b[0m-0.017   \u001b[0m | \u001b[0m-6.549   \u001b[0m | \u001b[0m1.0      \u001b[0m | \u001b[0m3.677    \u001b[0m |\n",
      "| \u001b[0m32       \u001b[0m | \u001b[0m-0.0218  \u001b[0m | \u001b[0m-10.0    \u001b[0m | \u001b[0m10.0     \u001b[0m | \u001b[0m4.995    \u001b[0m |\n",
      "| \u001b[0m33       \u001b[0m | \u001b[0m-0.03277 \u001b[0m | \u001b[0m-5.514   \u001b[0m | \u001b[0m10.0     \u001b[0m | \u001b[0m7.692    \u001b[0m |\n",
      "| \u001b[0m34       \u001b[0m | \u001b[0m-0.02878 \u001b[0m | \u001b[0m-10.0    \u001b[0m | \u001b[0m6.175    \u001b[0m | \u001b[0m6.627    \u001b[0m |\n",
      "| \u001b[0m35       \u001b[0m | \u001b[0m-0.03665 \u001b[0m | \u001b[0m-10.0    \u001b[0m | \u001b[0m10.0     \u001b[0m | \u001b[0m13.03    \u001b[0m |\n",
      "| \u001b[0m36       \u001b[0m | \u001b[0m-0.04118 \u001b[0m | \u001b[0m-10.0    \u001b[0m | \u001b[0m5.6      \u001b[0m | \u001b[0m11.26    \u001b[0m |\n",
      "| \u001b[0m37       \u001b[0m | \u001b[0m-0.04898 \u001b[0m | \u001b[0m-9.926   \u001b[0m | \u001b[0m9.979    \u001b[0m | \u001b[0m19.47    \u001b[0m |\n",
      "| \u001b[0m38       \u001b[0m | \u001b[0m-0.07853 \u001b[0m | \u001b[0m-10.0    \u001b[0m | \u001b[0m1.0      \u001b[0m | \u001b[0m20.0     \u001b[0m |\n",
      "| \u001b[0m39       \u001b[0m | \u001b[0m-0.07432 \u001b[0m | \u001b[0m-3.957   \u001b[0m | \u001b[0m10.0     \u001b[0m | \u001b[0m1e-06    \u001b[0m |\n",
      "| \u001b[95m40       \u001b[0m | \u001b[95m-0.01464 \u001b[0m | \u001b[95m-6.345   \u001b[0m | \u001b[95m6.913    \u001b[0m | \u001b[95m2.633    \u001b[0m |\n",
      "| \u001b[0m41       \u001b[0m | \u001b[0m-0.01579 \u001b[0m | \u001b[0m-8.133   \u001b[0m | \u001b[0m9.841    \u001b[0m | \u001b[0m3.15     \u001b[0m |\n",
      "| \u001b[0m42       \u001b[0m | \u001b[0m-0.1861  \u001b[0m | \u001b[0m-5.426   \u001b[0m | \u001b[0m1.0      \u001b[0m | \u001b[0m1e-06    \u001b[0m |\n",
      "| \u001b[0m43       \u001b[0m | \u001b[0m-0.01836 \u001b[0m | \u001b[0m-7.123   \u001b[0m | \u001b[0m2.655    \u001b[0m | \u001b[0m5.573    \u001b[0m |\n",
      "| \u001b[0m44       \u001b[0m | \u001b[0m-0.02043 \u001b[0m | \u001b[0m-4.451   \u001b[0m | \u001b[0m2.204    \u001b[0m | \u001b[0m4.503    \u001b[0m |\n",
      "| \u001b[0m45       \u001b[0m | \u001b[0m-0.03517 \u001b[0m | \u001b[0m-4.911   \u001b[0m | \u001b[0m6.898    \u001b[0m | \u001b[0m9.065    \u001b[0m |\n",
      "| \u001b[0m46       \u001b[0m | \u001b[0m-0.04513 \u001b[0m | \u001b[0m-9.515   \u001b[0m | \u001b[0m1.021    \u001b[0m | \u001b[0m3.071    \u001b[0m |\n",
      "| \u001b[0m47       \u001b[0m | \u001b[0m-0.02546 \u001b[0m | \u001b[0m-5.62    \u001b[0m | \u001b[0m3.387    \u001b[0m | \u001b[0m10.4     \u001b[0m |\n",
      "| \u001b[0m48       \u001b[0m | \u001b[0m-0.03229 \u001b[0m | \u001b[0m-3.904   \u001b[0m | \u001b[0m1.0      \u001b[0m | \u001b[0m11.38    \u001b[0m |\n",
      "| \u001b[0m49       \u001b[0m | \u001b[0m-0.01489 \u001b[0m | \u001b[0m-7.942   \u001b[0m | \u001b[0m9.947    \u001b[0m | \u001b[0m0.2204   \u001b[0m |\n",
      "| \u001b[0m50       \u001b[0m | \u001b[0m-0.02897 \u001b[0m | \u001b[0m-6.616   \u001b[0m | \u001b[0m10.0     \u001b[0m | \u001b[0m11.44    \u001b[0m |\n",
      "=============================================================\n"
     ]
    }
   ],
   "source": [
    "bo = BayesianOptimization(\n",
    "    opt_step,\n",
    "    pbounds={\n",
    "        \"log_lr\": (-10, 0),\n",
    "        \"soft_threshold\": (1e-6, 20),\n",
    "        \"n_inner\": (1, 10),\n",
    "    },\n",
    "    verbose=2,\n",
    "    random_state=314,\n",
    "    allow_duplicate_points=True\n",
    ")\n",
    "\n",
    "bo.maximize(init_points=20, n_iter=30)"
   ]
  },
  {
   "cell_type": "code",
   "execution_count": 37,
   "id": "d6ba27a2-6848-4a54-961a-6cce08fa5c7c",
   "metadata": {
    "tags": []
   },
   "outputs": [
    {
     "name": "stderr",
     "output_type": "stream",
     "text": [
      "100%|███████████████████████████████████████████████████████████████████████████████████████████████████████████████████████████████████████████████████████████████████████████████████████████████████████████████████████████████████████████████████████████████████████████████████████| 100/100 [00:26<00:00,  3.81it/s]\n"
     ]
    }
   ],
   "source": [
    "method = \"WLF-OGD\"\n",
    "configs[method] = bo.max[\"params\"]\n",
    "\n",
    "hist_bel = []\n",
    "times = []\n",
    "\n",
    "for yc, Xc in tqdm(zip(y_collection, X_collection), total=n_runs): \n",
    "    tinit = time()\n",
    "    run = filter_wlf_ogd(**bo.max[\"params\"], measurements=y, covariates=X)\n",
    "    run = jax.block_until_ready(run)\n",
    "    tend = time()\n",
    "    \n",
    "    hist_bel.append(run)\n",
    "    times.append(tend - tinit)\n",
    "\n",
    "hist_bel = np.stack(hist_bel)\n",
    "\n",
    "hist_methods[method] = hist_bel\n",
    "time_methods[method] = times"
   ]
  },
  {
   "cell_type": "markdown",
   "id": "a78cd47b-fcd0-4dbb-8f34-c467191de311",
   "metadata": {},
   "source": [
    "# Summary"
   ]
  },
  {
   "cell_type": "code",
   "execution_count": 38,
   "id": "5b4bc5a3-ff0d-444e-8623-2ddc0e62caee",
   "metadata": {
    "tags": []
   },
   "outputs": [
    {
     "data": {
      "text/html": [
       "<div>\n",
       "<style scoped>\n",
       "    .dataframe tbody tr th:only-of-type {\n",
       "        vertical-align: middle;\n",
       "    }\n",
       "\n",
       "    .dataframe tbody tr th {\n",
       "        vertical-align: top;\n",
       "    }\n",
       "\n",
       "    .dataframe thead th {\n",
       "        text-align: right;\n",
       "    }\n",
       "</style>\n",
       "<table border=\"1\" class=\"dataframe\">\n",
       "  <thead>\n",
       "    <tr style=\"text-align: right;\">\n",
       "      <th></th>\n",
       "      <th>run</th>\n",
       "      <th>method</th>\n",
       "      <th>err</th>\n",
       "    </tr>\n",
       "  </thead>\n",
       "  <tbody>\n",
       "    <tr>\n",
       "      <th>0</th>\n",
       "      <td>0</td>\n",
       "      <td>KF</td>\n",
       "      <td>0.523152</td>\n",
       "    </tr>\n",
       "    <tr>\n",
       "      <th>1</th>\n",
       "      <td>1</td>\n",
       "      <td>KF</td>\n",
       "      <td>0.528580</td>\n",
       "    </tr>\n",
       "    <tr>\n",
       "      <th>2</th>\n",
       "      <td>2</td>\n",
       "      <td>KF</td>\n",
       "      <td>0.533558</td>\n",
       "    </tr>\n",
       "    <tr>\n",
       "      <th>3</th>\n",
       "      <td>3</td>\n",
       "      <td>KF</td>\n",
       "      <td>0.538459</td>\n",
       "    </tr>\n",
       "    <tr>\n",
       "      <th>4</th>\n",
       "      <td>4</td>\n",
       "      <td>KF</td>\n",
       "      <td>0.528723</td>\n",
       "    </tr>\n",
       "  </tbody>\n",
       "</table>\n",
       "</div>"
      ],
      "text/plain": [
       "   run method       err\n",
       "0    0     KF  0.523152\n",
       "1    1     KF  0.528580\n",
       "2    2     KF  0.533558\n",
       "3    3     KF  0.538459\n",
       "4    4     KF  0.528723"
      ]
     },
     "execution_count": 38,
     "metadata": {},
     "output_type": "execute_result"
    }
   ],
   "source": [
    "rmedse_df = pd.DataFrame(jax.tree_map(\n",
    "    lambda x: np.sqrt(np.median(np.power(x - y_collection, 2), 1)),\n",
    "    hist_methods\n",
    "))\n",
    "rmedse_df = rmedse_df.reset_index().melt(\"index\")\n",
    "rmedse_df = rmedse_df.rename({\n",
    "    \"index\": \"run\",\n",
    "    \"variable\": \"method\",\n",
    "    \"value\": \"err\"\n",
    "}, axis=1)\n",
    "rmedse_df.head()"
   ]
  },
  {
   "cell_type": "code",
   "execution_count": 39,
   "id": "3cfcba1c-a74f-4a54-ae2f-8f6b208bca50",
   "metadata": {
    "tags": []
   },
   "outputs": [
    {
     "data": {
      "text/html": [
       "<div>\n",
       "<style scoped>\n",
       "    .dataframe tbody tr th:only-of-type {\n",
       "        vertical-align: middle;\n",
       "    }\n",
       "\n",
       "    .dataframe tbody tr th {\n",
       "        vertical-align: top;\n",
       "    }\n",
       "\n",
       "    .dataframe thead th {\n",
       "        text-align: right;\n",
       "    }\n",
       "</style>\n",
       "<table border=\"1\" class=\"dataframe\">\n",
       "  <thead>\n",
       "    <tr style=\"text-align: right;\">\n",
       "      <th></th>\n",
       "      <th>run</th>\n",
       "      <th>method</th>\n",
       "      <th>time</th>\n",
       "    </tr>\n",
       "  </thead>\n",
       "  <tbody>\n",
       "    <tr>\n",
       "      <th>0</th>\n",
       "      <td>0</td>\n",
       "      <td>KF</td>\n",
       "      <td>0.336941</td>\n",
       "    </tr>\n",
       "    <tr>\n",
       "      <th>1</th>\n",
       "      <td>1</td>\n",
       "      <td>KF</td>\n",
       "      <td>0.111719</td>\n",
       "    </tr>\n",
       "    <tr>\n",
       "      <th>2</th>\n",
       "      <td>2</td>\n",
       "      <td>KF</td>\n",
       "      <td>0.115884</td>\n",
       "    </tr>\n",
       "    <tr>\n",
       "      <th>3</th>\n",
       "      <td>3</td>\n",
       "      <td>KF</td>\n",
       "      <td>0.116028</td>\n",
       "    </tr>\n",
       "    <tr>\n",
       "      <th>4</th>\n",
       "      <td>4</td>\n",
       "      <td>KF</td>\n",
       "      <td>0.111584</td>\n",
       "    </tr>\n",
       "  </tbody>\n",
       "</table>\n",
       "</div>"
      ],
      "text/plain": [
       "   run method      time\n",
       "0    0     KF  0.336941\n",
       "1    1     KF  0.111719\n",
       "2    2     KF  0.115884\n",
       "3    3     KF  0.116028\n",
       "4    4     KF  0.111584"
      ]
     },
     "execution_count": 39,
     "metadata": {},
     "output_type": "execute_result"
    }
   ],
   "source": [
    "time_df = pd.DataFrame(time_methods).reset_index().melt(\"index\")\n",
    "time_df = time_df.rename({\n",
    "    \"index\": \"run\",\n",
    "    \"variable\": \"method\",\n",
    "    \"value\": \"time\"\n",
    "}, axis=1)\n",
    "\n",
    "time_df.head()"
   ]
  },
  {
   "cell_type": "code",
   "execution_count": 40,
   "id": "50d4e3d4-ae4e-49c8-97ff-f3dbe53927cf",
   "metadata": {
    "tags": []
   },
   "outputs": [],
   "source": [
    "df = rmedse_df.merge(time_df, on=[\"method\", \"run\"]).query(\"run > 0\")"
   ]
  },
  {
   "cell_type": "code",
   "execution_count": 41,
   "id": "3ce6aaac-28cb-4b68-8292-43088f4c1714",
   "metadata": {
    "tags": []
   },
   "outputs": [
    {
     "data": {
      "text/plain": [
       "<matplotlib.legend.Legend at 0x7f7c078cc0d0>"
      ]
     },
     "execution_count": 41,
     "metadata": {},
     "output_type": "execute_result"
    },
    {
     "data": {
      "image/png": "[encoded data removed]",
      "text/plain": [
       "<Figure size 640x480 with 1 Axes>"
      ]
     },
     "metadata": {
      "image/png": {
       "height": 452,
       "width": 611
      }
     },
     "output_type": "display_data"
    }
   ],
   "source": [
    "sns.scatterplot(\n",
    "    x=\"time\",\n",
    "    y=\"err\",\n",
    "    hue=\"method\",\n",
    "    data=df.query(\"~method.str.startswith('KF')\"),\n",
    "    palette=cmap,\n",
    "    linewidth=0.0,\n",
    ")\n",
    "# plt.yscale(\"log\")\n",
    "# plt.xscale(\"log\")\n",
    "plt.legend(bbox_to_anchor=(1,1))"
   ]
  },
  {
   "cell_type": "markdown",
   "id": "475d79f6-401f-4b86-986c-402537caeba7",
   "metadata": {},
   "source": [
    "## Store data"
   ]
  },
  {
   "cell_type": "code",
   "execution_count": 44,
   "id": "155fd384-583c-4743-a316-3157a147c643",
   "metadata": {
    "tags": []
   },
   "outputs": [
    {
     "name": "stdout",
     "output_type": "stream",
     "text": [
      "              err      time\n",
      "method                     \n",
      "KF       0.531340  0.111702\n",
      "KF-B     0.195851  0.807175\n",
      "KF-IW    0.198982  0.714663\n",
      "OGD      0.329098  0.068066\n",
      "WLF-IMQ  0.197946  0.110578\n",
      "WLF-MD   0.196950  0.116155\n",
      "WLF-OGD  0.195841  0.254243\n"
     ]
    }
   ],
   "source": [
    "print(df.groupby(\"method\").median().drop(\"run\", axis=1))"
   ]
  },
  {
   "cell_type": "code",
   "execution_count": 45,
   "id": "d10b6df4-49c9-4a8f-b01d-8633edcac3d1",
   "metadata": {
    "tags": []
   },
   "outputs": [
    {
     "data": {
      "text/plain": [
       "method\n",
       "KF         0.112440\n",
       "KF-B       0.807224\n",
       "KF-IW      0.715028\n",
       "OGD        0.068058\n",
       "WLF-IMQ    0.110868\n",
       "WLF-MD     0.116136\n",
       "WLF-OGD    0.256077\n",
       "Name: time, dtype: float64"
      ]
     },
     "execution_count": 45,
     "metadata": {},
     "output_type": "execute_result"
    }
   ],
   "source": [
    "df.groupby(\"method\")[\"time\"].mean()"
   ]
  },
  {
   "cell_type": "code",
   "execution_count": 42,
   "id": "894a18db-e9de-4084-ad97-3577a8dd85ba",
   "metadata": {
    "tags": []
   },
   "outputs": [],
   "source": [
    "data = {\n",
    "    \"datasets\": {\n",
    "        \"X\": np.array(X_collection),\n",
    "        \"y\": np.array(y_collection),\n",
    "    },\n",
    "    \"time\": {k: np.array(v) for k, v in time_methods.items()},\n",
    "    \"posterior-states\": hist_methods,\n",
    "    \"config\": configs,\n",
    "    \"dataset-name\": dataset_name,\n",
    "    \"p-error\": p_error,\n",
    "}"
   ]
  },
  {
   "cell_type": "code",
   "execution_count": 195,
   "id": "e0392219-6cda-4698-ab2e-6b1631337b07",
   "metadata": {
    "tags": []
   },
   "outputs": [
    {
     "name": "stdout",
     "output_type": "stream",
     "text": [
      "Storing in naval-propulsion-plant-target-p-error10.pkl\n"
     ]
    }
   ],
   "source": [
    "p_error_str = format(p_error * 100, \"0.0f\")\n",
    "filename = f\"{dataset_name}-{noise_type}-p-error{p_error_str}.pkl\"\n",
    "print(f\"Storing in {filename}\")\n",
    "with open(filename, \"wb\") as f:\n",
    "    pickle.dump(data, f)"
   ]
  }
 ],
 "metadata": {
  "kernelspec": {
   "display_name": "Python 3 (ipykernel)",
   "language": "python",
   "name": "python3"
  },
  "language_info": {
   "codemirror_mode": {
    "name": "ipython",
    "version": 3
   },
   "file_extension": ".py",
   "mimetype": "text/x-python",
   "name": "python",
   "nbconvert_exporter": "python",
   "pygments_lexer": "ipython3",
   "version": "3.10.12"
  }
 },
 "nbformat": 4,
 "nbformat_minor": 5
}
