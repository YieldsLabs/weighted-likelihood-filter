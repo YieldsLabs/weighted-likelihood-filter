{
 "cells": [
  {
   "cell_type": "markdown",
   "id": "a6d219b1-e2b1-4cce-921d-11c09bae6905",
   "metadata": {},
   "source": [
    "# UCI regression "
   ]
  },
  {
   "cell_type": "code",
   "execution_count": 1,
   "id": "ab8d043e-4a57-4590-b5e8-4b41a3a3c9c0",
   "metadata": {
    "tags": []
   },
   "outputs": [],
   "source": [
    "import jax\n",
    "import optax\n",
    "import pickle\n",
    "import numpy as np\n",
    "import pandas as pd\n",
    "import flax.linen as nn\n",
    "import jax.numpy as jnp\n",
    "import matplotlib.pyplot as plt\n",
    "\n",
    "import datagen\n",
    "from functools import partial\n",
    "from bayes_opt import BayesianOptimization\n",
    "from jax.sharding import PositionalSharding\n",
    "from rebayes_mini.methods import replay_sgd\n",
    "from rebayes_mini.methods import gauss_filter as gfilter\n",
    "from rebayes_mini.methods import robust_filter as rfilter\n",
    "from rebayes_mini.methods import generalised_bayes_filter as gbfilter"
   ]
  },
  {
   "cell_type": "code",
   "execution_count": 2,
   "id": "59506cb5-382a-40e8-a357-82cfb59fedf6",
   "metadata": {
    "tags": []
   },
   "outputs": [],
   "source": [
    "from time import time\n",
    "from tqdm import tqdm"
   ]
  },
  {
   "cell_type": "code",
   "execution_count": 3,
   "id": "44a0a0df-2096-4239-b237-532f7d101d1b",
   "metadata": {},
   "outputs": [],
   "source": [
    "devices = jax.devices()\n",
    "sharding = PositionalSharding(devices)"
   ]
  },
  {
   "cell_type": "code",
   "execution_count": 93,
   "id": "8cf1e5ac-a6f7-48ff-8976-195e0efab535",
   "metadata": {
    "tags": []
   },
   "outputs": [
    {
     "name": "stdout",
     "output_type": "stream",
     "text": [
      "The autoreload extension is already loaded. To reload it, use:\n",
      "  %reload_ext autoreload\n"
     ]
    }
   ],
   "source": [
    "%load_ext autoreload\n",
    "%autoreload 2\n",
    "\n",
    "plt.rcParams[\"font.size\"] = 18\n",
    "\n",
    "cmap = {\n",
    "    \"EKF-IW\": \"crimson\",\n",
    "    \"WLF-IMQ\": \"dodgerblue\",\n",
    "    \"EKF\": \"lightseagreen\",\n",
    "    \"WLF-MD\": \"gold\", # TODO: make more o-paco\n",
    "    \"OGD\": \"blueviolet\",\n",
    "    \"EKF-B\": \"darkorange\",\n",
    "}\n",
    "\n",
    "%config InlineBackend.figure_format = \"retina\""
   ]
  },
  {
   "cell_type": "code",
   "execution_count": 5,
   "id": "1e2bb6bc-134e-45e6-a751-dbe3b2038a90",
   "metadata": {
    "tags": []
   },
   "outputs": [
    {
     "name": "stdout",
     "output_type": "stream",
     "text": [
      "protein-tertiary-structure (45731, 10)\n",
      "naval-propulsion-plant (11935, 18)\n",
      "wine-quality-red (1600, 12)\n",
      "bostonHousing (507, 14)\n",
      "power-plant (9569, 5)\n",
      "concrete (1031, 9)\n",
      "energy (769, 9)\n",
      "kin8nm (8193, 9)\n",
      "yacht (309, 7)\n"
     ]
    }
   ],
   "source": [
    "uci = datagen.UCIDatasets(\"./data\")\n",
    "for dataset_name in sorted(uci.datasets, key=lambda x: -len(x)):\n",
    "    dataset = uci.load_dataset(dataset_name)\n",
    "    print(dataset_name, dataset.shape)"
   ]
  },
  {
   "cell_type": "code",
   "execution_count": 6,
   "id": "cbaf9833-9968-4b30-a77d-604ce9b63fa7",
   "metadata": {
    "tags": []
   },
   "outputs": [],
   "source": [
    "dataset_name = \"naval-propulsion-plant\"\n",
    "noise_type = \"target\" # or \"covariate\"\n",
    "\n",
    "X_collection= []\n",
    "y_collection = []\n",
    "ix_clean_collection = []\n",
    "\n",
    "n_runs = 100\n",
    "v_error = 50\n",
    "seed_init = 314\n",
    "p_error = 0.30\n",
    "for i in range(n_runs):\n",
    "    if noise_type == \"target\":\n",
    "        data = uci.sample_one_sided_noisy_dataset(dataset_name, p_error=p_error, seed=seed_init + i, v_error=v_error)\n",
    "        ix_clean = ~data[\"err_where\"].astype(bool)\n",
    "    elif noise_type == \"covariate\":\n",
    "        data = uci.sample_noisy_covariates(dataset_name, p_error=p_error, seed=seed_init + i, v_error=v_error)\n",
    "        ix_clean = ~data[\"err_where\"].any(axis=1).astype(bool)\n",
    "    else:\n",
    "        raise KeyError(f\"Noise {noise_type} not available\")\n",
    "        \n",
    "    X = data[\"X\"]\n",
    "    y = data[\"y\"]\n",
    "    \n",
    "    \n",
    "    X_collection.append(X)\n",
    "    y_collection.append(y)\n",
    "    ix_clean_collection.append(ix_clean)"
   ]
  },
  {
   "cell_type": "code",
   "execution_count": 7,
   "id": "67d6ced7-2ed3-4a73-9fd1-1616ce4552c3",
   "metadata": {
    "tags": []
   },
   "outputs": [
    {
     "data": {
      "text/plain": [
       "(100, 10742, 17)"
      ]
     },
     "execution_count": 7,
     "metadata": {},
     "output_type": "execute_result"
    }
   ],
   "source": [
    "X_collection = jnp.array(X_collection)\n",
    "y_collection = jnp.array(y_collection)\n",
    "mask_clean = np.array(ix_clean_collection).T\n",
    "X_collection.shape"
   ]
  },
  {
   "cell_type": "raw",
   "id": "649ead24-de6c-4de4-9af1-211dd1cb5009",
   "metadata": {
    "tags": []
   },
   "source": [
    "X_collection = jax.device_put(X_collection, sharding.reshape(-1, 1, 1))\n",
    "y_collection = jax.device_put(y_collection, sharding.reshape(-1, 1))"
   ]
  },
  {
   "cell_type": "code",
   "execution_count": 8,
   "id": "bb0a081d-39c9-4898-a0e7-5fc85e726f60",
   "metadata": {
    "tags": []
   },
   "outputs": [],
   "source": [
    "class MLP(nn.Module):\n",
    "    @nn.compact\n",
    "    def __call__(self, x):\n",
    "        x = nn.Dense(20)(x)\n",
    "        x = nn.relu(x)\n",
    "        x = nn.Dense(1)(x)\n",
    "        return x"
   ]
  },
  {
   "cell_type": "markdown",
   "id": "1ce9e564-b504-41f7-b791-0f67e52453b3",
   "metadata": {},
   "source": [
    "# Setup"
   ]
  },
  {
   "cell_type": "code",
   "execution_count": 9,
   "id": "b235006d-9526-4fa6-a831-987e47d018e8",
   "metadata": {
    "tags": []
   },
   "outputs": [],
   "source": [
    "def callback_fn(bel, bel_pred, y, x, applyfn):\n",
    "    yhat = applyfn(bel_pred.mean, x[None])\n",
    "    return yhat"
   ]
  },
  {
   "cell_type": "code",
   "execution_count": 10,
   "id": "1e668928-14e9-46b6-a32a-d8592dc3fb8d",
   "metadata": {
    "tags": []
   },
   "outputs": [],
   "source": [
    "y, X = y_collection[0], X_collection[0]\n",
    "ix_clean = ix_clean_collection[0]"
   ]
  },
  {
   "cell_type": "code",
   "execution_count": 11,
   "id": "07833cd2-5e81-4b19-9030-56af2c8d0675",
   "metadata": {
    "tags": []
   },
   "outputs": [],
   "source": [
    "Q = 0.0\n",
    "observation_covariance = 1.0"
   ]
  },
  {
   "cell_type": "code",
   "execution_count": 12,
   "id": "3107a2c8-5d45-423e-a0a8-31b47979bb76",
   "metadata": {
    "tags": []
   },
   "outputs": [],
   "source": [
    "key = jax.random.PRNGKey(314)\n",
    "model = MLP()\n",
    "params_init = model.init(key, X[:1])"
   ]
  },
  {
   "cell_type": "code",
   "execution_count": 13,
   "id": "0867c244-30a9-4196-89ba-9618c6a20293",
   "metadata": {
    "tags": []
   },
   "outputs": [
    {
     "data": {
      "text/plain": [
       "(100, 10742, 17)"
      ]
     },
     "execution_count": 13,
     "metadata": {},
     "output_type": "execute_result"
    }
   ],
   "source": [
    "X_collection.shape"
   ]
  },
  {
   "cell_type": "markdown",
   "id": "11d28d96-ecac-447e-a412-b1aa9d8def70",
   "metadata": {},
   "source": [
    "## EKF"
   ]
  },
  {
   "cell_type": "code",
   "execution_count": 14,
   "id": "caad791d-21ca-4d3d-8621-b88ea80d2fa0",
   "metadata": {
    "tags": []
   },
   "outputs": [],
   "source": [
    "def filter_ekf(log_lr):\n",
    "    lr = np.exp(log_lr)\n",
    "    agent = gfilter.ExtendedKalmanFilter(\n",
    "        lambda x: x,\n",
    "        model.apply,\n",
    "        dynamics_covariance=Q,\n",
    "        observation_covariance=observation_covariance  * jnp.eye(1),\n",
    "    )\n",
    "\n",
    "    bel_init = agent.init_bel(params_init, cov=lr)\n",
    "    callback = partial(callback_fn, applyfn=agent.vobs_fn)\n",
    "    bel_imq, yhat_pp = agent.scan(bel_init, y, X, callback_fn=callback)\n",
    "    out = (agent, bel_imq)\n",
    "    return yhat_pp.squeeze(), out\n",
    "\n",
    "def opt_step(log_lr):\n",
    "    res = -jnp.power(filter_ekf(log_lr)[0] - y, 2)\n",
    "    res = np.median(res)\n",
    "    \n",
    "    if np.isnan(res) or np.isinf(res):\n",
    "        res = -1e+6\n",
    "    \n",
    "    return res"
   ]
  },
  {
   "cell_type": "code",
   "execution_count": 15,
   "id": "ea1c3775-8325-461c-865a-6e45217f2ac6",
   "metadata": {
    "tags": []
   },
   "outputs": [
    {
     "name": "stdout",
     "output_type": "stream",
     "text": [
      "|   iter    |  target   |  log_lr   |\n",
      "-------------------------------------\n",
      "| \u001b[95m2        \u001b[0m | \u001b[95m-5.106   \u001b[0m | \u001b[95m-2.057   \u001b[0m |\n",
      "| \u001b[95m3        \u001b[0m | \u001b[95m-2.808   \u001b[0m | \u001b[95m-3.675   \u001b[0m |\n",
      "| \u001b[95m6        \u001b[0m | \u001b[95m-1.612   \u001b[0m | \u001b[95m-3.692   \u001b[0m |\n",
      "| \u001b[95m8        \u001b[0m | \u001b[95m-1.608   \u001b[0m | \u001b[95m-3.742   \u001b[0m |\n",
      "=====================================\n",
      "CPU times: user 22.6 s, sys: 23.9 s, total: 46.5 s\n",
      "Wall time: 7.47 s\n"
     ]
    }
   ],
   "source": [
    "%%time\n",
    "bo = BayesianOptimization(\n",
    "    opt_step,\n",
    "    pbounds={\n",
    "        \"log_lr\": (-5, 0),\n",
    "    },\n",
    "    verbose=1,\n",
    "    random_state=314,\n",
    "    allow_duplicate_points=True\n",
    ")\n",
    "\n",
    "bo.maximize(init_points=5, n_iter=5)"
   ]
  },
  {
   "cell_type": "code",
   "execution_count": 16,
   "id": "9c87c5cb-fd55-483e-a8f5-7604a75e9b2f",
   "metadata": {
    "tags": []
   },
   "outputs": [
    {
     "name": "stdout",
     "output_type": "stream",
     "text": [
      "CPU times: user 1.98 s, sys: 56.3 ms, total: 2.03 s\n",
      "Wall time: 9.61 s\n"
     ]
    }
   ],
   "source": [
    "%%time\n",
    "\n",
    "lr = np.exp(bo.max[\"params\"][\"log_lr\"])\n",
    "agent = gfilter.ExtendedKalmanFilter(\n",
    "    lambda x: x,\n",
    "    model.apply,\n",
    "    dynamics_covariance=Q,\n",
    "    observation_covariance=1.0 * jnp.eye(1),\n",
    ")\n",
    "\n",
    "bel_init = agent.init_bel(params_init, cov=lr)\n",
    "\n",
    "callback = partial(callback_fn, applyfn=agent.vobs_fn)\n",
    "scanfn = jax.vmap(agent.scan, in_axes=(None, 0, 0, None))\n",
    "res = scanfn(bel_init, y_collection, X_collection, callback)\n",
    "\n",
    "res = jax.block_until_ready(res)\n",
    "state_final_collection, yhat_collection_ekf = res\n",
    "yhat_collection_ekf = yhat_collection_ekf.squeeze()"
   ]
  },
  {
   "cell_type": "code",
   "execution_count": 17,
   "id": "953869d2-b7dd-42c2-941f-7c42e5041b73",
   "metadata": {
    "tags": []
   },
   "outputs": [
    {
     "name": "stderr",
     "output_type": "stream",
     "text": [
      "100%|██████████████████████████████████████████████████████████████████████████████████████████████████████████████████████████████| 100/100 [01:05<00:00,  1.53it/s]"
     ]
    },
    {
     "name": "stdout",
     "output_type": "stream",
     "text": [
      "CPU times: user 59.2 s, sys: 1.15 s, total: 1min\n",
      "Wall time: 1min 5s\n"
     ]
    },
    {
     "name": "stderr",
     "output_type": "stream",
     "text": [
      "\n"
     ]
    }
   ],
   "source": [
    "%%time\n",
    "\n",
    "time_runs = []\n",
    "for yc, Xc in tqdm(zip(y_collection, X_collection), total=n_runs):\n",
    "    time_init = time()\n",
    "    _, y_est = agent.scan(bel_init, yc, Xc, callback)\n",
    "    y_est = y_est.block_until_ready()\n",
    "    time_end = time()\n",
    "    time_runs.append(time_end - time_init)"
   ]
  },
  {
   "cell_type": "code",
   "execution_count": 18,
   "id": "8de5ecd0-ed04-4b75-9144-5d073ff18824",
   "metadata": {
    "tags": []
   },
   "outputs": [
    {
     "name": "stderr",
     "output_type": "stream",
     "text": [
      "/tmp/ipykernel_158655/1561462852.py:2: RuntimeWarning: overflow encountered in power\n",
      "  err_collection_ekf = pd.DataFrame(np.power(y_collection - yhat_collection_ekf, 2).T)\n"
     ]
    }
   ],
   "source": [
    "time_runs_ekf = pd.Series(time_runs, name=\"EKF\")\n",
    "err_collection_ekf = pd.DataFrame(np.power(y_collection - yhat_collection_ekf, 2).T)"
   ]
  },
  {
   "cell_type": "markdown",
   "id": "a21fa95d-dc79-44ba-b5c1-c7d3cdab18c1",
   "metadata": {},
   "source": [
    "## WLF-IMQ"
   ]
  },
  {
   "cell_type": "markdown",
   "id": "c4e3695a-9594-4bb2-976b-a8c5d9143a55",
   "metadata": {},
   "source": [
    "### Hparam choice"
   ]
  },
  {
   "cell_type": "code",
   "execution_count": 19,
   "id": "19a3ee5f-ede7-45df-bf05-5b1636999fcb",
   "metadata": {
    "tags": []
   },
   "outputs": [],
   "source": [
    "def filter_imqf(soft_threshold, log_lr):\n",
    "    lr = np.exp(log_lr)\n",
    "    agent = gbfilter.IMQFilter(\n",
    "        model.apply, dynamics_covariance=Q,\n",
    "        observation_covariance=observation_covariance,\n",
    "        soft_threshold=soft_threshold\n",
    "    )\n",
    "\n",
    "    bel_init = agent.init_bel(params_init, cov=lr)\n",
    "    callback = partial(callback_fn, applyfn=agent.link_fn)\n",
    "    bel_imq, yhat_pp = agent.scan(bel_init, y, X, callback_fn=callback)\n",
    "    out = (agent, bel_imq)\n",
    "    return yhat_pp.squeeze(), out\n",
    "\n",
    "def opt_step(soft_threshold, log_lr):\n",
    "    # res = -jnp.power(filter_imqf(soft_threshold, log_lr)[0] - y, 2)[ix_clean].mean()\n",
    "    res = -jnp.power(filter_imqf(soft_threshold, log_lr)[0] - y, 2)\n",
    "    res = jnp.median(res)\n",
    "    \n",
    "    if np.isnan(res) or np.isinf(res):\n",
    "        res = -1e+6\n",
    "    \n",
    "    return res"
   ]
  },
  {
   "cell_type": "code",
   "execution_count": 20,
   "id": "6fb02479-edc1-413f-b732-1f9b8fc2d0d9",
   "metadata": {
    "tags": []
   },
   "outputs": [
    {
     "name": "stdout",
     "output_type": "stream",
     "text": [
      "|   iter    |  target   |  log_lr   | soft_t... |\n",
      "-------------------------------------------------\n",
      "| \u001b[95m4        \u001b[0m | \u001b[95m-0.09344 \u001b[0m | \u001b[95m-1.36    \u001b[0m | \u001b[95m3.907    \u001b[0m |\n",
      "| \u001b[95m5        \u001b[0m | \u001b[95m-0.06084 \u001b[0m | \u001b[95m-0.4412  \u001b[0m | \u001b[95m3.911    \u001b[0m |\n",
      "| \u001b[95m6        \u001b[0m | \u001b[95m-0.04573 \u001b[0m | \u001b[95m0.0      \u001b[0m | \u001b[95m2.787    \u001b[0m |\n",
      "=================================================\n",
      "CPU times: user 26.7 s, sys: 25.5 s, total: 52.2 s\n",
      "Wall time: 10.3 s\n"
     ]
    }
   ],
   "source": [
    "%%time\n",
    "bo = BayesianOptimization(\n",
    "    opt_step,\n",
    "    pbounds={\n",
    "        \"soft_threshold\": (1e-6, 15),\n",
    "        \"log_lr\": (-5, 0),\n",
    "    },\n",
    "    verbose=1,\n",
    "    random_state=314,\n",
    "    allow_duplicate_points=True\n",
    ")\n",
    "\n",
    "bo.maximize(init_points=5, n_iter=5)"
   ]
  },
  {
   "cell_type": "markdown",
   "id": "9579721f-5064-4258-b5d5-181e5ac20bc5",
   "metadata": {},
   "source": [
    "### Eval"
   ]
  },
  {
   "cell_type": "code",
   "execution_count": 21,
   "id": "4be9263c-ec2c-4b0b-8aa8-85901d4feaf0",
   "metadata": {
    "tags": []
   },
   "outputs": [],
   "source": [
    "soft_threshold = bo.max[\"params\"][\"soft_threshold\"]\n",
    "lr = np.exp(bo.max[\"params\"][\"log_lr\"])\n",
    "\n",
    "agent = gbfilter.IMQFilter(\n",
    "    model.apply,\n",
    "    dynamics_covariance=0.0,\n",
    "    observation_covariance=1.0,\n",
    "    soft_threshold=soft_threshold\n",
    ")"
   ]
  },
  {
   "cell_type": "code",
   "execution_count": 22,
   "id": "5654a6b1-d409-4283-8c8d-887a5584d0b6",
   "metadata": {
    "tags": []
   },
   "outputs": [
    {
     "name": "stdout",
     "output_type": "stream",
     "text": [
      "CPU times: user 2.33 s, sys: 38.1 ms, total: 2.37 s\n",
      "Wall time: 10 s\n"
     ]
    }
   ],
   "source": [
    "%%time\n",
    "bel_init = agent.init_bel(params_init, cov=lr)\n",
    "callback = partial(callback_fn, applyfn=agent.link_fn)\n",
    "_, yhat_collection_wlf = jax.vmap(agent.scan, in_axes=(None, 0, 0, None))(bel_init, y_collection, X_collection, callback)\n",
    "yhat_collection_wlf = jax.block_until_ready(yhat_collection_wlf.squeeze())"
   ]
  },
  {
   "cell_type": "code",
   "execution_count": 23,
   "id": "80c6cdb3-28be-4b6f-a3fb-8440cd821bd2",
   "metadata": {
    "tags": []
   },
   "outputs": [
    {
     "name": "stderr",
     "output_type": "stream",
     "text": [
      "100%|██████████████████████████████████████████████████████████████████████████████████████████████████████████████████████████████| 100/100 [01:05<00:00,  1.53it/s]"
     ]
    },
    {
     "name": "stdout",
     "output_type": "stream",
     "text": [
      "CPU times: user 52.2 s, sys: 1.7 s, total: 53.9 s\n",
      "Wall time: 1min 5s\n"
     ]
    },
    {
     "name": "stderr",
     "output_type": "stream",
     "text": [
      "\n"
     ]
    }
   ],
   "source": [
    "%%time\n",
    "\n",
    "time_runs = []\n",
    "for yc, Xc in tqdm(zip(y_collection, X_collection), total=n_runs):\n",
    "    time_init = time()\n",
    "    _, y_est = agent.scan(bel_init, yc, Xc, callback)\n",
    "    y_est = y_est.block_until_ready()\n",
    "    time_end = time()\n",
    "    time_runs.append(time_end - time_init)"
   ]
  },
  {
   "cell_type": "code",
   "execution_count": 24,
   "id": "0a6d4adb-0b3d-4844-a153-438a60f32c39",
   "metadata": {
    "tags": []
   },
   "outputs": [],
   "source": [
    "time_runs_wlf = pd.Series(time_runs, name=\"WLF-IMQ\")\n",
    "err_collection_wlf = pd.DataFrame(np.power(y_collection - yhat_collection_wlf, 2).T)"
   ]
  },
  {
   "cell_type": "markdown",
   "id": "e137e1d9-07f3-413d-aa5b-78db2debc940",
   "metadata": {},
   "source": [
    "## Inverse-Wishart-based EKF\n",
    "(Agamenoni 2012)"
   ]
  },
  {
   "cell_type": "markdown",
   "id": "8f532084-ca87-43af-8a5e-dbcded2cf9fb",
   "metadata": {},
   "source": [
    "### Hparam choice"
   ]
  },
  {
   "cell_type": "code",
   "execution_count": 94,
   "id": "f43820b5-ef1c-4cce-a6c8-cf1b21ce24e0",
   "metadata": {
    "tags": []
   },
   "outputs": [],
   "source": [
    "def filter_rkf(noise_scaling, log_lr):\n",
    "    lr = np.exp(log_lr)\n",
    "    agent_rekf = rfilter.ExtendedRobustKalmanFilter(\n",
    "        lambda x: x, model.apply, dynamics_covariance=Q,\n",
    "        prior_observation_covariance=observation_covariance * jnp.eye(1),\n",
    "        noise_scaling=noise_scaling,\n",
    "        n_inner=2\n",
    "    )\n",
    "    \n",
    "    bel_init = agent_rekf.init_bel(params_init, cov=lr)\n",
    "    callback = partial(callback_fn, applyfn=agent_rekf.vobs_fn)\n",
    "    bel_rekf, yhat_pp = agent_rekf.scan(bel_init, y, X, callback_fn=callback)\n",
    "    out = (agent_rekf, bel_rekf)\n",
    "    \n",
    "    return yhat_pp.squeeze(), out"
   ]
  },
  {
   "cell_type": "code",
   "execution_count": 95,
   "id": "6cf4f3e4-148e-4b37-8487-4074fe4f0900",
   "metadata": {
    "tags": []
   },
   "outputs": [],
   "source": [
    "def opt_step(noise_scaling, log_lr):\n",
    "    # res = -jnp.power(filter_rkf(noise_scaling, log_lr)[0] - y, 2)[ix_clean].mean()\n",
    "    res = -jnp.power(filter_rkf(noise_scaling, log_lr)[0] - y, 2)\n",
    "    res = jnp.median(res)\n",
    "    if np.isnan(res) or np.isinf(res):\n",
    "        res = -1e+6\n",
    "    \n",
    "    return res"
   ]
  },
  {
   "cell_type": "code",
   "execution_count": 96,
   "id": "b96de78c-b453-418b-af8b-a2922621baef",
   "metadata": {
    "tags": []
   },
   "outputs": [
    {
     "name": "stdout",
     "output_type": "stream",
     "text": [
      "|   iter    |  target   |  log_lr   | noise_... |\n",
      "-------------------------------------------------\n",
      "| \u001b[95m3        \u001b[0m | \u001b[95m-0.03151 \u001b[0m | \u001b[95m-0.41    \u001b[0m | \u001b[95m12.41    \u001b[0m |\n",
      "| \u001b[95m5        \u001b[0m | \u001b[95m-0.0286  \u001b[0m | \u001b[95m-0.4412  \u001b[0m | \u001b[95m3.911    \u001b[0m |\n",
      "=================================================\n",
      "CPU times: user 35.2 s, sys: 29.9 s, total: 1min 5s\n",
      "Wall time: 13.8 s\n"
     ]
    }
   ],
   "source": [
    "%%time\n",
    "bo = BayesianOptimization(\n",
    "    opt_step,\n",
    "    pbounds={\n",
    "        \"noise_scaling\": (1e-6, 15),\n",
    "        \"log_lr\": (-5, 0)\n",
    "    },\n",
    "    verbose=1,\n",
    "    random_state=314,\n",
    "    allow_duplicate_points=True\n",
    ")\n",
    "\n",
    "bo.maximize(init_points=5, n_iter=5)"
   ]
  },
  {
   "cell_type": "markdown",
   "id": "8a5e3c59-be3b-4cd5-823f-98d877f5749e",
   "metadata": {},
   "source": [
    "### Eval"
   ]
  },
  {
   "cell_type": "code",
   "execution_count": 97,
   "id": "dc7ac848-1ec9-471d-ba14-fd9bad4ac7dd",
   "metadata": {
    "tags": []
   },
   "outputs": [],
   "source": [
    "noise_scaling = bo.max[\"params\"][\"noise_scaling\"]\n",
    "lr = np.exp(bo.max[\"params\"][\"log_lr\"])\n",
    "\n",
    "agent = rfilter.ExtendedRobustKalmanFilter(\n",
    "    lambda x: x,\n",
    "    model.apply,\n",
    "    dynamics_covariance=0.0,\n",
    "    prior_observation_covariance=1.0 * jnp.eye(1),\n",
    "    n_inner=2,\n",
    "    noise_scaling=noise_scaling,\n",
    ")"
   ]
  },
  {
   "cell_type": "code",
   "execution_count": 98,
   "id": "658fd429-1952-4da9-88b5-23eae0ae3c0d",
   "metadata": {
    "tags": []
   },
   "outputs": [
    {
     "name": "stdout",
     "output_type": "stream",
     "text": [
      "CPU times: user 3.73 s, sys: 33.4 ms, total: 3.76 s\n",
      "Wall time: 27.5 s\n"
     ]
    }
   ],
   "source": [
    "%%time\n",
    "bel_init = agent.init_bel(params_init, cov=lr)\n",
    "callback = partial(callback_fn, applyfn=agent.vobs_fn)\n",
    "_, yhat_collection_ann1 = jax.vmap(agent.scan, in_axes=(None, 0, 0, None))(bel_init, y_collection, X_collection, callback)\n",
    "yhat_collection_ann1 = jax.block_until_ready(yhat_collection_ann1.squeeze())"
   ]
  },
  {
   "cell_type": "code",
   "execution_count": 99,
   "id": "3da11396-469c-4c84-afa1-c0579cd7b61c",
   "metadata": {
    "tags": []
   },
   "outputs": [
    {
     "name": "stderr",
     "output_type": "stream",
     "text": [
      "100%|██████████████████████████████████████████████████████████████████████████████████████████████████████████████████████████████| 100/100 [02:01<00:00,  1.21s/it]"
     ]
    },
    {
     "name": "stdout",
     "output_type": "stream",
     "text": [
      "CPU times: user 1min 37s, sys: 1.47 s, total: 1min 39s\n",
      "Wall time: 2min 1s\n"
     ]
    },
    {
     "name": "stderr",
     "output_type": "stream",
     "text": [
      "\n"
     ]
    }
   ],
   "source": [
    "%%time\n",
    "\n",
    "time_runs = []\n",
    "for yc, Xc in tqdm(zip(y_collection, X_collection), total=n_runs):\n",
    "    time_init = time()\n",
    "    _, y_est = agent.scan(bel_init, yc, Xc, callback)\n",
    "    y_est = y_est.block_until_ready()\n",
    "    time_end = time()\n",
    "    time_runs.append(time_end - time_init)"
   ]
  },
  {
   "cell_type": "code",
   "execution_count": 100,
   "id": "66d07a64-78ba-44e4-b2d5-848fd1f7aa82",
   "metadata": {
    "tags": []
   },
   "outputs": [
    {
     "name": "stderr",
     "output_type": "stream",
     "text": [
      "/tmp/ipykernel_158655/2021172931.py:2: RuntimeWarning: overflow encountered in power\n",
      "  err_collection_ann1 = pd.DataFrame(np.power(y_collection - yhat_collection_ann1, 2).T)\n"
     ]
    }
   ],
   "source": [
    "time_runs_ann1 = pd.Series(time_runs, name=\"EKF-IW\")\n",
    "err_collection_ann1 = pd.DataFrame(np.power(y_collection - yhat_collection_ann1, 2).T)"
   ]
  },
  {
   "cell_type": "markdown",
   "id": "bad9428d-b776-4d3e-856b-b9dd19787477",
   "metadata": {},
   "source": [
    "## WLF-MD\n",
    "Weighted likelihood filter with Mahalanobis distance thresholding weighting function"
   ]
  },
  {
   "cell_type": "markdown",
   "id": "7da9be7c-5090-45f9-a0ef-68682e9c7d91",
   "metadata": {},
   "source": [
    "### Hparam section"
   ]
  },
  {
   "cell_type": "code",
   "execution_count": 32,
   "id": "547a0bf8-fc0e-4470-b45c-ec1dfc9f8ccb",
   "metadata": {
    "tags": []
   },
   "outputs": [],
   "source": [
    "def filter_mah_ekf(log_lr, threshold):\n",
    "    lr = np.exp(log_lr)\n",
    "    agent_mekf = rfilter.ExtendedThresholdedKalmanFilter(\n",
    "        lambda x: x, model.apply,\n",
    "        dynamics_covariance=Q,\n",
    "        observation_covariance=observation_covariance * jnp.eye(1),\n",
    "        threshold=threshold\n",
    "    )\n",
    "    \n",
    "    bel_init = agent_mekf.init_bel(params_init, cov=lr)\n",
    "    callback = partial(callback_fn, applyfn=agent_mekf.vobs_fn)\n",
    "    \n",
    "    bel_mekf, yhat_pp = agent_mekf.scan(bel_init, y, X, callback_fn=callback)\n",
    "    out = (agent_mekf, bel_mekf)\n",
    "    return yhat_pp.squeeze(), out\n",
    "\n",
    "def opt_step(log_lr, threshold):\n",
    "    res = -jnp.power(filter_mah_ekf(noise_scaling, log_lr)[0] - y, 2)\n",
    "    res = jnp.median(res)\n",
    "    if np.isnan(res) or np.isinf(res):\n",
    "        res = -1e+6\n",
    "    \n",
    "    return res"
   ]
  },
  {
   "cell_type": "code",
   "execution_count": 33,
   "id": "8639187a-e321-4113-ba3c-fadb797ef5ed",
   "metadata": {
    "tags": []
   },
   "outputs": [
    {
     "name": "stdout",
     "output_type": "stream",
     "text": [
      "|   iter    |  target   |  log_lr   | threshold |\n",
      "-------------------------------------------------\n",
      "=================================================\n",
      "CPU times: user 28.3 s, sys: 27.6 s, total: 55.9 s\n",
      "Wall time: 8.4 s\n"
     ]
    }
   ],
   "source": [
    "%%time\n",
    "bo = BayesianOptimization(\n",
    "    opt_step,\n",
    "    pbounds={\n",
    "        \"threshold\": (1e-6, 15),\n",
    "        \"log_lr\": (-5, 0)\n",
    "    },\n",
    "    verbose=1,\n",
    "    random_state=314,\n",
    "    allow_duplicate_points=True\n",
    ")\n",
    "\n",
    "bo.maximize(init_points=5, n_iter=5)"
   ]
  },
  {
   "cell_type": "markdown",
   "id": "a7592a1a-30a3-4aac-9ae7-ecb3a5dc1c75",
   "metadata": {},
   "source": [
    "### Eval"
   ]
  },
  {
   "cell_type": "code",
   "execution_count": 34,
   "id": "c82f4ca1-a804-439f-8ee0-cc47c8038eca",
   "metadata": {
    "tags": []
   },
   "outputs": [],
   "source": [
    "threshold = bo.max[\"params\"][\"threshold\"]\n",
    "lr = np.exp(bo.max[\"params\"][\"log_lr\"])\n",
    "\n",
    "agent = rfilter.ExtendedThresholdedKalmanFilter(\n",
    "    lambda x: x,\n",
    "    model.apply,\n",
    "    dynamics_covariance=0.0,\n",
    "    observation_covariance=1.0 * jnp.eye(1),\n",
    "    threshold=threshold,\n",
    ")"
   ]
  },
  {
   "cell_type": "code",
   "execution_count": 35,
   "id": "ff61a3b2-426d-42e3-a5c2-41dbf0ede208",
   "metadata": {
    "tags": []
   },
   "outputs": [
    {
     "name": "stdout",
     "output_type": "stream",
     "text": [
      "CPU times: user 2.52 s, sys: 103 ms, total: 2.62 s\n",
      "Wall time: 9.9 s\n"
     ]
    }
   ],
   "source": [
    "%%time\n",
    "bel_init = agent.init_bel(params_init, cov=lr)\n",
    "bel_init = jax.device_put(bel_init, sharding.replicate(0))\n",
    "callback = partial(callback_fn, applyfn=agent.vobs_fn)\n",
    "scanfn = jax.vmap(agent.scan, in_axes=(None, 0, 0, None))\n",
    "\n",
    "_, yhat_collection_mekf = scanfn(bel_init, y_collection, X_collection, callback)\n",
    "yhat_collection_mekf = jax.block_until_ready(yhat_collection_mekf)\n",
    "yhat_collection_mekf = yhat_collection_mekf.squeeze()"
   ]
  },
  {
   "cell_type": "code",
   "execution_count": 36,
   "id": "adb0b521-ad5d-41be-9681-3a3ed7d6792e",
   "metadata": {
    "tags": []
   },
   "outputs": [
    {
     "name": "stderr",
     "output_type": "stream",
     "text": [
      "100%|██████████████████████████████████████████████████████████████████████████████████████████████████████████████████████████████| 100/100 [01:14<00:00,  1.35it/s]"
     ]
    },
    {
     "name": "stdout",
     "output_type": "stream",
     "text": [
      "CPU times: user 1min 5s, sys: 2.24 s, total: 1min 7s\n",
      "Wall time: 1min 14s\n"
     ]
    },
    {
     "name": "stderr",
     "output_type": "stream",
     "text": [
      "\n"
     ]
    }
   ],
   "source": [
    "%%time\n",
    "\n",
    "time_runs = []\n",
    "for yc, Xc in tqdm(zip(y_collection, X_collection), total=n_runs):\n",
    "    time_init = time()\n",
    "    _, y_est = agent.scan(bel_init, yc, Xc, callback)\n",
    "    y_est = y_est.block_until_ready()\n",
    "    time_end = time()\n",
    "    time_runs.append(time_end - time_init)"
   ]
  },
  {
   "cell_type": "code",
   "execution_count": 37,
   "id": "461d5f3d-3e60-4d92-bd98-92ddaa8f2608",
   "metadata": {
    "tags": []
   },
   "outputs": [],
   "source": [
    "time_runs_mekf = pd.Series(time_runs, name=\"WLF-MD\")\n",
    "err_collection_mekf = pd.DataFrame(np.power(y_collection - yhat_collection_mekf, 2).T)"
   ]
  },
  {
   "cell_type": "markdown",
   "id": "90f61f72-cf1d-45c3-aa30-1e1b338c0d06",
   "metadata": {},
   "source": [
    "## O-EKF\n",
    "Outlier-based extended Kalman filter"
   ]
  },
  {
   "cell_type": "code",
   "execution_count": 101,
   "id": "2321be42-8666-407b-88d2-856e88852f01",
   "metadata": {
    "tags": []
   },
   "outputs": [],
   "source": [
    "def filter_oekf(log_lr, alpha, beta):\n",
    "    \"\"\"\n",
    "    Outlier ekf\n",
    "    \"\"\"\n",
    "    lr = np.exp(log_lr)\n",
    "    agent_wang2018 = rfilter.OutlierDetectionExtendedKalmanFilter(\n",
    "        lambda x: x, model.apply,\n",
    "        dynamics_covariance=Q,\n",
    "        observation_covariance=observation_covariance * jnp.eye(1),\n",
    "        alpha=alpha,\n",
    "        beta=beta,\n",
    "        tol_inlier=1e-7,\n",
    "        # tol_inner=1e-3 # refactor\n",
    "        n_inner=2\n",
    "    )\n",
    "    \n",
    "    bel_init = agent_wang2018.init_bel(params_init, cov=lr)\n",
    "    callback = partial(callback_fn, applyfn=agent_wang2018.vobs_fn)\n",
    "    \n",
    "    bel_oekf, yhat_pp = agent_wang2018.scan(bel_init, y, X, callback_fn=callback)\n",
    "    out = (agent_wang2018, bel_oekf)\n",
    "    return yhat_pp.squeeze(), out\n",
    "\n",
    "\n",
    "def opt_step(log_lr, alpha, beta):\n",
    "    res = -jnp.power(filter_oekf(log_lr, alpha, beta)[0] - y, 2)\n",
    "    res = jnp.median(res)\n",
    "    if np.isnan(res):\n",
    "        res = -1e+6\n",
    "    \n",
    "    return res"
   ]
  },
  {
   "cell_type": "code",
   "execution_count": 102,
   "id": "944c944b-04f8-457e-8295-7fc35dd6241e",
   "metadata": {
    "tags": []
   },
   "outputs": [
    {
     "name": "stdout",
     "output_type": "stream",
     "text": [
      "|   iter    |  target   |   alpha   |   beta    |  log_lr   |\n",
      "-------------------------------------------------------------\n",
      "| \u001b[95m2        \u001b[0m | \u001b[95m-0.09679 \u001b[0m | \u001b[95m3.916    \u001b[0m | \u001b[95m4.59     \u001b[0m | \u001b[95m-0.8632  \u001b[0m |\n",
      "| \u001b[95m3        \u001b[0m | \u001b[95m-0.0714  \u001b[0m | \u001b[95m3.64     \u001b[0m | \u001b[95m1.302    \u001b[0m | \u001b[95m-0.4412  \u001b[0m |\n",
      "| \u001b[95m7        \u001b[0m | \u001b[95m-0.04398 \u001b[0m | \u001b[95m5.0      \u001b[0m | \u001b[95m0.1547   \u001b[0m | \u001b[95m0.0      \u001b[0m |\n",
      "| \u001b[95m10       \u001b[0m | \u001b[95m-0.04209 \u001b[0m | \u001b[95m3.711    \u001b[0m | \u001b[95m0.0      \u001b[0m | \u001b[95m0.0      \u001b[0m |\n",
      "=============================================================\n",
      "CPU times: user 35.3 s, sys: 29.8 s, total: 1min 5s\n",
      "Wall time: 15.6 s\n"
     ]
    }
   ],
   "source": [
    "%%time\n",
    "bo = BayesianOptimization(\n",
    "    opt_step,\n",
    "    pbounds={\n",
    "        \"log_lr\": (-5, 0),\n",
    "        \"alpha\": (0.0, 5.0),\n",
    "        \"beta\": (0.0, 5.0)\n",
    "    },\n",
    "    random_state=314,\n",
    "    verbose=1\n",
    ")\n",
    "bo.maximize(init_points=5, n_iter=5)"
   ]
  },
  {
   "cell_type": "markdown",
   "id": "182aa5cb-eb3f-4fac-bb54-d37ebafed5b4",
   "metadata": {},
   "source": [
    "### Eval"
   ]
  },
  {
   "cell_type": "code",
   "execution_count": 103,
   "id": "77f67915-256e-44f7-a8d4-3e3c8ed437fa",
   "metadata": {
    "tags": []
   },
   "outputs": [],
   "source": [
    "log_lr = bo.max[\"params\"][\"log_lr\"]\n",
    "lr_oekf = np.exp(log_lr)\n",
    "alpha = bo.max[\"params\"][\"alpha\"]\n",
    "beta = bo.max[\"params\"][\"beta\"]\n",
    "\n",
    "agent = rfilter.OutlierDetectionExtendedKalmanFilter(\n",
    "        lambda x: x, model.apply,\n",
    "        dynamics_covariance=Q,\n",
    "        observation_covariance=observation_covariance * jnp.eye(1),\n",
    "        alpha=alpha,\n",
    "        beta=beta,\n",
    "        tol_inlier=1e-7,\n",
    "        # tol_inner=1e-3 # refactor\n",
    "        n_inner=2\n",
    "    )\n"
   ]
  },
  {
   "cell_type": "code",
   "execution_count": 104,
   "id": "f9171c24-e6cb-405a-ad9a-978a6a18b427",
   "metadata": {
    "tags": []
   },
   "outputs": [
    {
     "name": "stdout",
     "output_type": "stream",
     "text": [
      "CPU times: user 2.78 s, sys: 67 ms, total: 2.84 s\n",
      "Wall time: 17.8 s\n"
     ]
    }
   ],
   "source": [
    "%%time\n",
    "bel_init = agent.init_bel(params_init, cov=lr)\n",
    "bel_init = jax.device_put(bel_init, sharding.replicate(0))\n",
    "callback = partial(callback_fn, applyfn=agent.vobs_fn)\n",
    "scanfn = jax.jit(jax.vmap(agent.scan, in_axes=(None, 0, 0, None)), static_argnames=(\"callback_fn\",))\n",
    "\n",
    "_, yhat_collection_oekf = scanfn(bel_init, y_collection, X_collection, callback)\n",
    "yhat_collection_oekf = jax.block_until_ready(yhat_collection_oekf)\n",
    "yhat_collection_oekf = yhat_collection_oekf.squeeze()"
   ]
  },
  {
   "cell_type": "code",
   "execution_count": 105,
   "id": "2d136540-3e00-432a-8858-2287d34fa774",
   "metadata": {
    "tags": []
   },
   "outputs": [
    {
     "name": "stderr",
     "output_type": "stream",
     "text": [
      "100%|██████████████████████████████████████████████████████████████████████████████████████████████████████████████████████████████| 100/100 [02:29<00:00,  1.49s/it]"
     ]
    },
    {
     "name": "stdout",
     "output_type": "stream",
     "text": [
      "CPU times: user 1min 47s, sys: 2.96 s, total: 1min 50s\n",
      "Wall time: 2min 29s\n"
     ]
    },
    {
     "name": "stderr",
     "output_type": "stream",
     "text": [
      "\n"
     ]
    }
   ],
   "source": [
    "%%time\n",
    "\n",
    "time_runs = []\n",
    "for yc, Xc in tqdm(zip(y_collection, X_collection), total=n_runs):\n",
    "    time_init = time()\n",
    "    _, y_est = agent.scan(bel_init, yc, Xc, callback)\n",
    "    y_est = y_est.block_until_ready()\n",
    "    time_end = time()\n",
    "    time_runs.append(time_end - time_init)"
   ]
  },
  {
   "cell_type": "code",
   "execution_count": 106,
   "id": "c4234ea3-189a-4782-8019-86b8943d63e6",
   "metadata": {
    "tags": []
   },
   "outputs": [],
   "source": [
    "time_runs_oekf = pd.Series(time_runs, name=\"EKF-B\")\n",
    "err_collection_oekf = pd.DataFrame(np.power(y_collection - yhat_collection_oekf, 2).T)"
   ]
  },
  {
   "cell_type": "markdown",
   "id": "3fc8bfc9-1ee8-47c9-bc14-9c3bdf511355",
   "metadata": {},
   "source": [
    "## Online SGD"
   ]
  },
  {
   "cell_type": "code",
   "execution_count": 44,
   "id": "0cb95647-f36f-4f3a-af5d-ab9da54d1af9",
   "metadata": {
    "tags": []
   },
   "outputs": [],
   "source": [
    "def lossfn(params, counter, x, y, applyfn):\n",
    "    yhat = applyfn(params, x)\n",
    "    return jnp.sum(counter * (y - yhat) ** 2) / counter.sum()\n",
    "\n",
    "def filter_ogd(log_lr, n_inner):\n",
    "    lr = np.exp(log_lr)\n",
    "    n_inner = int(n_inner)\n",
    "    \n",
    "    agent = replay_sgd.FifoSGD(\n",
    "        model.apply,\n",
    "        lossfn,\n",
    "        optax.adam(lr),\n",
    "        buffer_size=1,\n",
    "        dim_features=X.shape[-1],\n",
    "        dim_output=1,\n",
    "        n_inner=n_inner,\n",
    "    )\n",
    "\n",
    "    callback = partial(callback_fn, applyfn=model.apply)\n",
    "\n",
    "    bel_init = agent.init_bel(params_init)\n",
    "    bel_final, yhat_pp = agent.scan(bel_init, y, X, callback)\n",
    "    out = (agent, bel_final)\n",
    "    yhat_pp = yhat_pp.squeeze()\n",
    "\n",
    "    return yhat_pp.squeeze(), out\n",
    "\n",
    "def opt_step(log_lr, n_inner):\n",
    "    res = -jnp.power(filter_ogd(log_lr, n_inner)[0] - y, 2)\n",
    "    res = jnp.median(res)\n",
    "    if np.isnan(res) or np.isinf(res):\n",
    "        res = -1e+6\n",
    "    \n",
    "    return res"
   ]
  },
  {
   "cell_type": "code",
   "execution_count": 45,
   "id": "5184a631-5f78-4927-9da6-e0f2a76246c8",
   "metadata": {
    "tags": []
   },
   "outputs": [
    {
     "name": "stdout",
     "output_type": "stream",
     "text": [
      "|   iter    |  target   |  log_lr   |  n_inner  |\n",
      "-------------------------------------------------\n",
      "| \u001b[95m2        \u001b[0m | \u001b[95m-3.48    \u001b[0m | \u001b[95m-3.675   \u001b[0m | \u001b[95m8.049    \u001b[0m |\n",
      "| \u001b[95m6        \u001b[0m | \u001b[95m-0.9316  \u001b[0m | \u001b[95m-5.0     \u001b[0m | \u001b[95m6.913    \u001b[0m |\n",
      "| \u001b[95m7        \u001b[0m | \u001b[95m-0.6327  \u001b[0m | \u001b[95m-4.635   \u001b[0m | \u001b[95m3.028    \u001b[0m |\n",
      "| \u001b[95m10       \u001b[0m | \u001b[95m-0.4117  \u001b[0m | \u001b[95m-5.0     \u001b[0m | \u001b[95m1.0      \u001b[0m |\n",
      "=================================================\n",
      "CPU times: user 29.9 s, sys: 30 s, total: 59.9 s\n",
      "Wall time: 8.65 s\n"
     ]
    }
   ],
   "source": [
    "%%time\n",
    "bo = BayesianOptimization(\n",
    "    opt_step,\n",
    "    pbounds={\n",
    "        \"log_lr\": (-5, 0),\n",
    "        \"n_inner\": (1, 10),\n",
    "    },\n",
    "    verbose=1,\n",
    "    random_state=314,\n",
    "    allow_duplicate_points=True\n",
    ")\n",
    "\n",
    "bo.maximize(init_points=5, n_iter=5)"
   ]
  },
  {
   "cell_type": "code",
   "execution_count": 46,
   "id": "846a16ec-3403-47b6-a53a-4d9d3a611157",
   "metadata": {
    "tags": []
   },
   "outputs": [
    {
     "data": {
      "text/plain": [
       "Array(27.506084, dtype=float32)"
      ]
     },
     "execution_count": 46,
     "metadata": {},
     "output_type": "execute_result"
    }
   ],
   "source": [
    "lr = jnp.exp(bo.max[\"params\"][\"log_lr\"])\n",
    "n_inner = int(bo.max[\"params\"][\"n_inner\"])\n",
    "\n",
    "agent = replay_sgd.FifoSGD(\n",
    "    model.apply,\n",
    "    lossfn,\n",
    "    optax.adam(lr),\n",
    "    buffer_size=1,\n",
    "    dim_features=X.shape[-1],\n",
    "    dim_output=1,\n",
    "    n_inner=n_inner\n",
    ")\n",
    "\n",
    "callback = partial(callback_fn, applyfn=model.apply)\n",
    "\n",
    "bel_init = agent.init_bel(params_init)\n",
    "state_final, yhat = agent.scan(bel_init, y, X, callback)\n",
    "yhat = yhat.squeeze()\n",
    "\n",
    "errs = (y - yhat)\n",
    "jnp.sqrt(jnp.power(errs, 2).mean())"
   ]
  },
  {
   "cell_type": "code",
   "execution_count": 47,
   "id": "36d83a24-3a34-46f5-b0dc-8ae3f454e9e0",
   "metadata": {
    "tags": []
   },
   "outputs": [
    {
     "name": "stdout",
     "output_type": "stream",
     "text": [
      "CPU times: user 869 ms, sys: 22 ms, total: 891 ms\n",
      "Wall time: 730 ms\n"
     ]
    }
   ],
   "source": [
    "%%time\n",
    "_, yhat_collection_ogd = jax.vmap(agent.scan, in_axes=(None, 0, 0, None))(bel_init, y_collection, X_collection, callback)\n",
    "yhat_collection_ogd = jax.block_until_ready(yhat_collection_ogd)\n",
    "yhat_collection_ogd = yhat_collection_ogd.squeeze()"
   ]
  },
  {
   "cell_type": "code",
   "execution_count": 48,
   "id": "1923ecd4-b8f2-4abb-bc83-69fd36658c21",
   "metadata": {
    "tags": []
   },
   "outputs": [
    {
     "name": "stderr",
     "output_type": "stream",
     "text": [
      "100%|██████████████████████████████████████████████████████████████████████████████████████████████████████████████████████████████| 100/100 [00:38<00:00,  2.58it/s]"
     ]
    },
    {
     "name": "stdout",
     "output_type": "stream",
     "text": [
      "CPU times: user 38.8 s, sys: 1.23 s, total: 40 s\n",
      "Wall time: 38.8 s\n"
     ]
    },
    {
     "name": "stderr",
     "output_type": "stream",
     "text": [
      "\n"
     ]
    }
   ],
   "source": [
    "%%time\n",
    "\n",
    "time_runs = []\n",
    "for yc, Xc in tqdm(zip(y_collection, X_collection), total=n_runs):\n",
    "    time_init = time()\n",
    "    _, y_est = agent.scan(bel_init, yc, Xc, callback)\n",
    "    y_est = y_est.block_until_ready()\n",
    "    time_end = time()\n",
    "    time_runs.append(time_end - time_init)"
   ]
  },
  {
   "cell_type": "code",
   "execution_count": 49,
   "id": "ec85663c-9dd4-43b3-8431-df75cd2fcd54",
   "metadata": {
    "tags": []
   },
   "outputs": [],
   "source": [
    "time_runs_ogd = pd.Series(time_runs, name=\"OGD\")\n",
    "err_collection_ogd  = pd.DataFrame(np.power(y_collection - yhat_collection_ogd, 2).T)"
   ]
  },
  {
   "cell_type": "markdown",
   "id": "1affd29f-ed8f-41fb-bc70-b322270ceb67",
   "metadata": {},
   "source": [
    "# Results"
   ]
  },
  {
   "cell_type": "code",
   "execution_count": 107,
   "id": "25024681-3caa-4300-b44e-836e93828f3a",
   "metadata": {
    "tags": []
   },
   "outputs": [],
   "source": [
    "import seaborn as sns"
   ]
  },
  {
   "cell_type": "code",
   "execution_count": 108,
   "id": "4ec934aa-60ff-4808-aa07-a59caa052a66",
   "metadata": {
    "tags": []
   },
   "outputs": [],
   "source": [
    "pd.set_option(\"display.float_format\", lambda x: format(x, \"0.4f\"))"
   ]
  },
  {
   "cell_type": "code",
   "execution_count": 109,
   "id": "4e479f3f-4234-4742-b4ae-9b5ed42022ad",
   "metadata": {
    "tags": []
   },
   "outputs": [
    {
     "name": "stderr",
     "output_type": "stream",
     "text": [
      "/home/gerardoduran/mambaforge/envs/research/lib/python3.10/site-packages/numpy/core/_methods.py:49: RuntimeWarning: overflow encountered in reduce\n",
      "  return umr_sum(a, axis, dtype, out, keepdims, initial, where)\n"
     ]
    },
    {
     "data": {
      "text/html": [
       "<div>\n",
       "<style scoped>\n",
       "    .dataframe tbody tr th:only-of-type {\n",
       "        vertical-align: middle;\n",
       "    }\n",
       "\n",
       "    .dataframe tbody tr th {\n",
       "        vertical-align: top;\n",
       "    }\n",
       "\n",
       "    .dataframe thead th {\n",
       "        text-align: right;\n",
       "    }\n",
       "</style>\n",
       "<table border=\"1\" class=\"dataframe\">\n",
       "  <thead>\n",
       "    <tr style=\"text-align: right;\">\n",
       "      <th></th>\n",
       "      <th>WLF-IMQ</th>\n",
       "      <th>EKF</th>\n",
       "      <th>OGD</th>\n",
       "      <th>WLF-MD</th>\n",
       "      <th>EKF-IW</th>\n",
       "      <th>EKF-B</th>\n",
       "    </tr>\n",
       "  </thead>\n",
       "  <tbody>\n",
       "    <tr>\n",
       "      <th>count</th>\n",
       "      <td>100.0000</td>\n",
       "      <td>100.0000</td>\n",
       "      <td>100.0000</td>\n",
       "      <td>100.0000</td>\n",
       "      <td>100.0000</td>\n",
       "      <td>100.0000</td>\n",
       "    </tr>\n",
       "    <tr>\n",
       "      <th>mean</th>\n",
       "      <td>0.0500</td>\n",
       "      <td>inf</td>\n",
       "      <td>0.4695</td>\n",
       "      <td>0.0410</td>\n",
       "      <td>inf</td>\n",
       "      <td>0.0538</td>\n",
       "    </tr>\n",
       "    <tr>\n",
       "      <th>std</th>\n",
       "      <td>0.0021</td>\n",
       "      <td>NaN</td>\n",
       "      <td>0.2530</td>\n",
       "      <td>0.0018</td>\n",
       "      <td>NaN</td>\n",
       "      <td>0.0505</td>\n",
       "    </tr>\n",
       "    <tr>\n",
       "      <th>min</th>\n",
       "      <td>0.0453</td>\n",
       "      <td>0.9778</td>\n",
       "      <td>0.1682</td>\n",
       "      <td>0.0366</td>\n",
       "      <td>0.0277</td>\n",
       "      <td>0.0391</td>\n",
       "    </tr>\n",
       "    <tr>\n",
       "      <th>25%</th>\n",
       "      <td>0.0488</td>\n",
       "      <td>2.0008</td>\n",
       "      <td>0.2917</td>\n",
       "      <td>0.0397</td>\n",
       "      <td>0.0302</td>\n",
       "      <td>0.0439</td>\n",
       "    </tr>\n",
       "    <tr>\n",
       "      <th>50%</th>\n",
       "      <td>0.0498</td>\n",
       "      <td>2.6115</td>\n",
       "      <td>0.4246</td>\n",
       "      <td>0.0407</td>\n",
       "      <td>0.0339</td>\n",
       "      <td>0.0452</td>\n",
       "    </tr>\n",
       "    <tr>\n",
       "      <th>75%</th>\n",
       "      <td>0.0510</td>\n",
       "      <td>3.9242</td>\n",
       "      <td>0.5773</td>\n",
       "      <td>0.0421</td>\n",
       "      <td>73658636126265450496.0000</td>\n",
       "      <td>0.0469</td>\n",
       "    </tr>\n",
       "    <tr>\n",
       "      <th>max</th>\n",
       "      <td>0.0564</td>\n",
       "      <td>inf</td>\n",
       "      <td>1.6184</td>\n",
       "      <td>0.0458</td>\n",
       "      <td>inf</td>\n",
       "      <td>0.5379</td>\n",
       "    </tr>\n",
       "  </tbody>\n",
       "</table>\n",
       "</div>"
      ],
      "text/plain": [
       "       WLF-IMQ      EKF      OGD   WLF-MD                    EKF-IW    EKF-B\n",
       "count 100.0000 100.0000 100.0000 100.0000                  100.0000 100.0000\n",
       "mean    0.0500      inf   0.4695   0.0410                       inf   0.0538\n",
       "std     0.0021      NaN   0.2530   0.0018                       NaN   0.0505\n",
       "min     0.0453   0.9778   0.1682   0.0366                    0.0277   0.0391\n",
       "25%     0.0488   2.0008   0.2917   0.0397                    0.0302   0.0439\n",
       "50%     0.0498   2.6115   0.4246   0.0407                    0.0339   0.0452\n",
       "75%     0.0510   3.9242   0.5773   0.0421 73658636126265450496.0000   0.0469\n",
       "max     0.0564      inf   1.6184   0.0458                       inf   0.5379"
      ]
     },
     "execution_count": 109,
     "metadata": {},
     "output_type": "execute_result"
    }
   ],
   "source": [
    "df_results = pd.DataFrame({\n",
    "    \"WLF-IMQ\": err_collection_wlf.mul(mask_clean)[10:].sum(axis=0) / mask_clean[10:].sum(axis=0),\n",
    "    \"EKF\": err_collection_ekf.mul(mask_clean)[10:].sum(axis=0) / mask_clean[10:].sum(axis=0),\n",
    "    \"OGD\": err_collection_ogd.mul(mask_clean)[10:].sum(axis=0) / mask_clean[10:].sum(axis=0),\n",
    "    \"WLF-MD\": err_collection_mekf.mul(mask_clean)[10:].sum(axis=0) / mask_clean[10:].sum(axis=0),\n",
    "    \"EKF-IW\": err_collection_ann1.mul(mask_clean)[10:].sum(axis=0) / mask_clean[10:].sum(axis=0),\n",
    "    \"EKF-B\": err_collection_oekf.mul(mask_clean)[10:].sum(axis=0) / mask_clean[10:].sum(axis=0),\n",
    "})\n",
    "\n",
    "df_results.describe()"
   ]
  },
  {
   "cell_type": "code",
   "execution_count": 110,
   "id": "75c48206-48e5-4a81-bb0f-475f7a3316fe",
   "metadata": {
    "tags": []
   },
   "outputs": [
    {
     "data": {
      "text/html": [
       "<div>\n",
       "<style scoped>\n",
       "    .dataframe tbody tr th:only-of-type {\n",
       "        vertical-align: middle;\n",
       "    }\n",
       "\n",
       "    .dataframe tbody tr th {\n",
       "        vertical-align: top;\n",
       "    }\n",
       "\n",
       "    .dataframe thead th {\n",
       "        text-align: right;\n",
       "    }\n",
       "</style>\n",
       "<table border=\"1\" class=\"dataframe\">\n",
       "  <thead>\n",
       "    <tr style=\"text-align: right;\">\n",
       "      <th></th>\n",
       "      <th>WLF-IMQ</th>\n",
       "      <th>EKF</th>\n",
       "      <th>OGD</th>\n",
       "      <th>WLF-MD</th>\n",
       "      <th>EKF-IW</th>\n",
       "      <th>EKF-B</th>\n",
       "    </tr>\n",
       "  </thead>\n",
       "  <tbody>\n",
       "    <tr>\n",
       "      <th>count</th>\n",
       "      <td>100.0000</td>\n",
       "      <td>100.0000</td>\n",
       "      <td>100.0000</td>\n",
       "      <td>100.0000</td>\n",
       "      <td>100.0000</td>\n",
       "      <td>100.0000</td>\n",
       "    </tr>\n",
       "    <tr>\n",
       "      <th>mean</th>\n",
       "      <td>0.2511</td>\n",
       "      <td>1.3769</td>\n",
       "      <td>0.6229</td>\n",
       "      <td>0.2150</td>\n",
       "      <td>6052788.0000</td>\n",
       "      <td>0.2337</td>\n",
       "    </tr>\n",
       "    <tr>\n",
       "      <th>std</th>\n",
       "      <td>0.0073</td>\n",
       "      <td>0.3240</td>\n",
       "      <td>0.1344</td>\n",
       "      <td>0.0078</td>\n",
       "      <td>60488996.0000</td>\n",
       "      <td>0.0185</td>\n",
       "    </tr>\n",
       "    <tr>\n",
       "      <th>min</th>\n",
       "      <td>0.2327</td>\n",
       "      <td>0.8275</td>\n",
       "      <td>0.4011</td>\n",
       "      <td>0.1990</td>\n",
       "      <td>0.1589</td>\n",
       "      <td>0.1889</td>\n",
       "    </tr>\n",
       "    <tr>\n",
       "      <th>25%</th>\n",
       "      <td>0.2477</td>\n",
       "      <td>1.1570</td>\n",
       "      <td>0.5110</td>\n",
       "      <td>0.2089</td>\n",
       "      <td>0.1712</td>\n",
       "      <td>0.2276</td>\n",
       "    </tr>\n",
       "    <tr>\n",
       "      <th>50%</th>\n",
       "      <td>0.2508</td>\n",
       "      <td>1.3177</td>\n",
       "      <td>0.6031</td>\n",
       "      <td>0.2142</td>\n",
       "      <td>0.1833</td>\n",
       "      <td>0.2304</td>\n",
       "    </tr>\n",
       "    <tr>\n",
       "      <th>75%</th>\n",
       "      <td>0.2556</td>\n",
       "      <td>1.5279</td>\n",
       "      <td>0.7207</td>\n",
       "      <td>0.2205</td>\n",
       "      <td>0.2915</td>\n",
       "      <td>0.2377</td>\n",
       "    </tr>\n",
       "    <tr>\n",
       "      <th>max</th>\n",
       "      <td>0.2754</td>\n",
       "      <td>2.6642</td>\n",
       "      <td>0.9974</td>\n",
       "      <td>0.2379</td>\n",
       "      <td>604893760.0000</td>\n",
       "      <td>0.3768</td>\n",
       "    </tr>\n",
       "  </tbody>\n",
       "</table>\n",
       "</div>"
      ],
      "text/plain": [
       "       WLF-IMQ      EKF      OGD   WLF-MD         EKF-IW    EKF-B\n",
       "count 100.0000 100.0000 100.0000 100.0000       100.0000 100.0000\n",
       "mean    0.2511   1.3769   0.6229   0.2150   6052788.0000   0.2337\n",
       "std     0.0073   0.3240   0.1344   0.0078  60488996.0000   0.0185\n",
       "min     0.2327   0.8275   0.4011   0.1990         0.1589   0.1889\n",
       "25%     0.2477   1.1570   0.5110   0.2089         0.1712   0.2276\n",
       "50%     0.2508   1.3177   0.6031   0.2142         0.1833   0.2304\n",
       "75%     0.2556   1.5279   0.7207   0.2205         0.2915   0.2377\n",
       "max     0.2754   2.6642   0.9974   0.2379 604893760.0000   0.3768"
      ]
     },
     "execution_count": 110,
     "metadata": {},
     "output_type": "execute_result"
    }
   ],
   "source": [
    "df_results = pd.DataFrame({\n",
    "    \"WLF-IMQ\": err_collection_wlf.median(axis=0),\n",
    "    \"EKF\": err_collection_ekf.median(axis=0),\n",
    "    \"OGD\": err_collection_ogd.median(axis=0),\n",
    "    \"WLF-MD\": err_collection_mekf.median(axis=0),\n",
    "    \"EKF-IW\": err_collection_ann1.median(axis=0),\n",
    "    \"EKF-B\": err_collection_oekf.median(axis=0),\n",
    "})\n",
    "df_results = np.sqrt(df_results)\n",
    "df_results.describe()"
   ]
  },
  {
   "cell_type": "code",
   "execution_count": 111,
   "id": "e4cb29de-eac4-4e51-ab73-53ab17374c24",
   "metadata": {
    "tags": []
   },
   "outputs": [],
   "source": [
    "df_time = pd.concat([\n",
    "    time_runs_ekf,\n",
    "    time_runs_wlf,\n",
    "    time_runs_ann1,\n",
    "    time_runs_oekf,\n",
    "    time_runs_ogd,\n",
    "    time_runs_mekf\n",
    "], axis=1)"
   ]
  },
  {
   "cell_type": "code",
   "execution_count": 112,
   "id": "f5632d0c-7402-46a5-8c3b-dae014ad74e5",
   "metadata": {
    "tags": []
   },
   "outputs": [
    {
     "data": {
      "text/html": [
       "<div>\n",
       "<style scoped>\n",
       "    .dataframe tbody tr th:only-of-type {\n",
       "        vertical-align: middle;\n",
       "    }\n",
       "\n",
       "    .dataframe tbody tr th {\n",
       "        vertical-align: top;\n",
       "    }\n",
       "\n",
       "    .dataframe thead th {\n",
       "        text-align: right;\n",
       "    }\n",
       "</style>\n",
       "<table border=\"1\" class=\"dataframe\">\n",
       "  <thead>\n",
       "    <tr style=\"text-align: right;\">\n",
       "      <th></th>\n",
       "      <th>index</th>\n",
       "      <th>variable</th>\n",
       "      <th>err</th>\n",
       "      <th>time</th>\n",
       "    </tr>\n",
       "  </thead>\n",
       "  <tbody>\n",
       "    <tr>\n",
       "      <th>0</th>\n",
       "      <td>0</td>\n",
       "      <td>WLF-IMQ</td>\n",
       "      <td>0.2548</td>\n",
       "      <td>0.6624</td>\n",
       "    </tr>\n",
       "    <tr>\n",
       "      <th>1</th>\n",
       "      <td>1</td>\n",
       "      <td>WLF-IMQ</td>\n",
       "      <td>0.2556</td>\n",
       "      <td>0.6495</td>\n",
       "    </tr>\n",
       "    <tr>\n",
       "      <th>2</th>\n",
       "      <td>2</td>\n",
       "      <td>WLF-IMQ</td>\n",
       "      <td>0.2587</td>\n",
       "      <td>0.6495</td>\n",
       "    </tr>\n",
       "    <tr>\n",
       "      <th>3</th>\n",
       "      <td>3</td>\n",
       "      <td>WLF-IMQ</td>\n",
       "      <td>0.2542</td>\n",
       "      <td>0.6508</td>\n",
       "    </tr>\n",
       "    <tr>\n",
       "      <th>4</th>\n",
       "      <td>4</td>\n",
       "      <td>WLF-IMQ</td>\n",
       "      <td>0.2667</td>\n",
       "      <td>0.6503</td>\n",
       "    </tr>\n",
       "    <tr>\n",
       "      <th>...</th>\n",
       "      <td>...</td>\n",
       "      <td>...</td>\n",
       "      <td>...</td>\n",
       "      <td>...</td>\n",
       "    </tr>\n",
       "    <tr>\n",
       "      <th>595</th>\n",
       "      <td>95</td>\n",
       "      <td>EKF-B</td>\n",
       "      <td>0.2311</td>\n",
       "      <td>1.4741</td>\n",
       "    </tr>\n",
       "    <tr>\n",
       "      <th>596</th>\n",
       "      <td>96</td>\n",
       "      <td>EKF-B</td>\n",
       "      <td>0.2275</td>\n",
       "      <td>1.4828</td>\n",
       "    </tr>\n",
       "    <tr>\n",
       "      <th>597</th>\n",
       "      <td>97</td>\n",
       "      <td>EKF-B</td>\n",
       "      <td>0.2339</td>\n",
       "      <td>1.5045</td>\n",
       "    </tr>\n",
       "    <tr>\n",
       "      <th>598</th>\n",
       "      <td>98</td>\n",
       "      <td>EKF-B</td>\n",
       "      <td>0.2380</td>\n",
       "      <td>1.4809</td>\n",
       "    </tr>\n",
       "    <tr>\n",
       "      <th>599</th>\n",
       "      <td>99</td>\n",
       "      <td>EKF-B</td>\n",
       "      <td>0.2401</td>\n",
       "      <td>1.5285</td>\n",
       "    </tr>\n",
       "  </tbody>\n",
       "</table>\n",
       "<p>600 rows × 4 columns</p>\n",
       "</div>"
      ],
      "text/plain": [
       "     index variable    err   time\n",
       "0        0  WLF-IMQ 0.2548 0.6624\n",
       "1        1  WLF-IMQ 0.2556 0.6495\n",
       "2        2  WLF-IMQ 0.2587 0.6495\n",
       "3        3  WLF-IMQ 0.2542 0.6508\n",
       "4        4  WLF-IMQ 0.2667 0.6503\n",
       "..     ...      ...    ...    ...\n",
       "595     95    EKF-B 0.2311 1.4741\n",
       "596     96    EKF-B 0.2275 1.4828\n",
       "597     97    EKF-B 0.2339 1.5045\n",
       "598     98    EKF-B 0.2380 1.4809\n",
       "599     99    EKF-B 0.2401 1.5285\n",
       "\n",
       "[600 rows x 4 columns]"
      ]
     },
     "execution_count": 112,
     "metadata": {},
     "output_type": "execute_result"
    }
   ],
   "source": [
    "df_all = pd.merge(\n",
    "    df_results.reset_index().melt(\"index\", value_name=\"err\"),\n",
    "    df_time.reset_index().melt(\"index\", value_name=\"time\"),\n",
    "    on=[\"index\", \"variable\"],\n",
    ")\n",
    "\n",
    "df_all"
   ]
  },
  {
   "cell_type": "code",
   "execution_count": 113,
   "id": "f6a410e0-480a-49ff-a42b-da6b6406a6c4",
   "metadata": {
    "tags": []
   },
   "outputs": [
    {
     "data": {
      "text/html": [
       "<div>\n",
       "<style scoped>\n",
       "    .dataframe tbody tr th:only-of-type {\n",
       "        vertical-align: middle;\n",
       "    }\n",
       "\n",
       "    .dataframe tbody tr th {\n",
       "        vertical-align: top;\n",
       "    }\n",
       "\n",
       "    .dataframe thead th {\n",
       "        text-align: right;\n",
       "    }\n",
       "</style>\n",
       "<table border=\"1\" class=\"dataframe\">\n",
       "  <thead>\n",
       "    <tr style=\"text-align: right;\">\n",
       "      <th></th>\n",
       "      <th>err</th>\n",
       "      <th>time</th>\n",
       "    </tr>\n",
       "    <tr>\n",
       "      <th>variable</th>\n",
       "      <th></th>\n",
       "      <th></th>\n",
       "    </tr>\n",
       "  </thead>\n",
       "  <tbody>\n",
       "    <tr>\n",
       "      <th>EKF</th>\n",
       "      <td>1.3177</td>\n",
       "      <td>0.6328</td>\n",
       "    </tr>\n",
       "    <tr>\n",
       "      <th>EKF-B</th>\n",
       "      <td>0.2304</td>\n",
       "      <td>1.4812</td>\n",
       "    </tr>\n",
       "    <tr>\n",
       "      <th>EKF-IW</th>\n",
       "      <td>0.1833</td>\n",
       "      <td>1.2062</td>\n",
       "    </tr>\n",
       "    <tr>\n",
       "      <th>OGD</th>\n",
       "      <td>0.6031</td>\n",
       "      <td>0.3823</td>\n",
       "    </tr>\n",
       "    <tr>\n",
       "      <th>WLF-IMQ</th>\n",
       "      <td>0.2508</td>\n",
       "      <td>0.6461</td>\n",
       "    </tr>\n",
       "    <tr>\n",
       "      <th>WLF-MD</th>\n",
       "      <td>0.2142</td>\n",
       "      <td>0.7364</td>\n",
       "    </tr>\n",
       "  </tbody>\n",
       "</table>\n",
       "</div>"
      ],
      "text/plain": [
       "            err   time\n",
       "variable              \n",
       "EKF      1.3177 0.6328\n",
       "EKF-B    0.2304 1.4812\n",
       "EKF-IW   0.1833 1.2062\n",
       "OGD      0.6031 0.3823\n",
       "WLF-IMQ  0.2508 0.6461\n",
       "WLF-MD   0.2142 0.7364"
      ]
     },
     "execution_count": 113,
     "metadata": {},
     "output_type": "execute_result"
    }
   ],
   "source": [
    "summary = df_all.pivot_table(index=\"variable\", values=[\"err\", \"time\"], aggfunc=\"median\")\n",
    "summary"
   ]
  },
  {
   "cell_type": "code",
   "execution_count": 114,
   "id": "a5014547-7dd4-4280-8a68-239bf141c255",
   "metadata": {
    "tags": []
   },
   "outputs": [
    {
     "data": {
      "image/png": "[encoded data removed]",
      "text/plain": [
       "<Figure size 640x480 with 1 Axes>"
      ]
     },
     "metadata": {
      "image/png": {
       "height": 539,
       "width": 627
      }
     },
     "output_type": "display_data"
    }
   ],
   "source": [
    "((summary[\"err\"] * summary[\"time\"]) / summary[\"time\"].sum()).sort_values().plot(kind=\"bar\")\n",
    "plt.grid(alpha=0.3)\n",
    "plt.yscale(\"log\")"
   ]
  },
  {
   "cell_type": "code",
   "execution_count": 115,
   "id": "058b2ced-8809-4d0b-a338-e3828ba7cef7",
   "metadata": {
    "tags": []
   },
   "outputs": [
    {
     "data": {
      "image/png": "[encoded data removed]",
      "text/plain": [
       "<Figure size 640x480 with 1 Axes>"
      ]
     },
     "metadata": {
      "image/png": {
       "height": 446,
       "width": 605
      }
     },
     "output_type": "display_data"
    }
   ],
   "source": [
    "algorithms = sorted(cmap.keys())\n",
    "\n",
    "title = dataset_name.split(\"-\")[0]\n",
    "sns.scatterplot(\n",
    "    y=\"err\", x=\"time\", hue=\"variable\", data=df_all.query(\"err < 10 ** 2\"), palette=cmap, s=100,\n",
    "    hue_order=algorithms,\n",
    ")\n",
    "plt.yscale(\"log\")\n",
    "plt.legend(ncol=1, loc=\"upper left\", fontsize=12)\n",
    "plt.title(title.capitalize())\n",
    "plt.xlabel(\"Running time (secs.)\")\n",
    "plt.ylabel(\"RMedSE\")\n",
    "plt.grid(alpha=0.3)\n",
    "plt.tight_layout()\n",
    "plt.savefig(f\"./figures/{title}-time-v-err.png\", dpi=300)"
   ]
  }
 ],
 "metadata": {
  "kernelspec": {
   "display_name": "research",
   "language": "python",
   "name": "research"
  },
  "language_info": {
   "codemirror_mode": {
    "name": "ipython",
    "version": 3
   },
   "file_extension": ".py",
   "mimetype": "text/x-python",
   "name": "python",
   "nbconvert_exporter": "python",
   "pygments_lexer": "ipython3",
   "version": "3.10.12"
  }
 },
 "nbformat": 4,
 "nbformat_minor": 5
}
