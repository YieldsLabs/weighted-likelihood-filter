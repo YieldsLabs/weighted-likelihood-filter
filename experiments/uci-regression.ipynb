{
 "cells": [
  {
   "cell_type": "markdown",
   "id": "a6d219b1-e2b1-4cce-921d-11c09bae6905",
   "metadata": {},
   "source": [
    "# UCI regression "
   ]
  },
  {
   "cell_type": "code",
   "execution_count": 479,
   "id": "ab8d043e-4a57-4590-b5e8-4b41a3a3c9c0",
   "metadata": {
    "tags": []
   },
   "outputs": [],
   "source": [
    "import jax\n",
    "import optax\n",
    "import pickle\n",
    "import numpy as np\n",
    "import pandas as pd\n",
    "import flax.linen as nn\n",
    "import jax.numpy as jnp\n",
    "import matplotlib.pyplot as plt\n",
    "\n",
    "import datagen\n",
    "from functools import partial\n",
    "from bayes_opt import BayesianOptimization\n",
    "from jax.sharding import PositionalSharding\n",
    "from rebayes_mini.methods import replay_sgd\n",
    "from rebayes_mini.methods import gauss_filter as gfilter\n",
    "from rebayes_mini.methods import robust_filter as rfilter\n",
    "from rebayes_mini.methods import generalised_bayes_filter as gbfilter"
   ]
  },
  {
   "cell_type": "code",
   "execution_count": 480,
   "id": "44a0a0df-2096-4239-b237-532f7d101d1b",
   "metadata": {},
   "outputs": [],
   "source": [
    "devices = jax.devices()\n",
    "sharding = PositionalSharding(devices)"
   ]
  },
  {
   "cell_type": "code",
   "execution_count": 481,
   "id": "7da428b8-d644-46cd-8ad4-929b41623d50",
   "metadata": {
    "tags": []
   },
   "outputs": [
    {
     "name": "stdout",
     "output_type": "stream",
     "text": [
      "The autoreload extension is already loaded. To reload it, use:\n",
      "  %reload_ext autoreload\n"
     ]
    }
   ],
   "source": [
    "%load_ext autoreload\n",
    "%autoreload 2"
   ]
  },
  {
   "cell_type": "code",
   "execution_count": 482,
   "id": "6f292dab-3b57-4033-a91b-6b94ccd3e897",
   "metadata": {
    "tags": []
   },
   "outputs": [],
   "source": [
    "%config InlineBackend.figure_format = \"retina\""
   ]
  },
  {
   "cell_type": "code",
   "execution_count": 486,
   "id": "1e2bb6bc-134e-45e6-a751-dbe3b2038a90",
   "metadata": {
    "tags": []
   },
   "outputs": [
    {
     "name": "stdout",
     "output_type": "stream",
     "text": [
      "protein-tertiary-structure (45731, 10)\n",
      "naval-propulsion-plant (11935, 18)\n",
      "wine-quality-red (1600, 12)\n",
      "bostonHousing (507, 14)\n",
      "power-plant (9569, 5)\n",
      "concrete (1031, 9)\n",
      "energy (769, 9)\n",
      "kin8nm (8193, 9)\n",
      "yacht (309, 7)\n"
     ]
    }
   ],
   "source": [
    "uci = datagen.UCIDatasets(\"./data\")\n",
    "for dataset_name in sorted(uci.datasets, key=lambda x: -len(x)):\n",
    "    dataset = uci.load_dataset(dataset_name)\n",
    "    print(dataset_name, dataset.shape)"
   ]
  },
  {
   "cell_type": "code",
   "execution_count": 487,
   "id": "cbaf9833-9968-4b30-a77d-604ce9b63fa7",
   "metadata": {
    "tags": []
   },
   "outputs": [],
   "source": [
    "dataset_name = \"wine-quality-red\"\n",
    "noise_type = \"target\" # or \"covariate\"\n",
    "\n",
    "X_collection= []\n",
    "y_collection = []\n",
    "ix_clean_collection = []\n",
    "\n",
    "n_runs = 50\n",
    "v_error = 50\n",
    "seed_init = 314\n",
    "for i in range(n_runs):\n",
    "    if noise_type == \"target\":\n",
    "        data = uci.sample_one_sided_noisy_dataset(dataset_name, p_error=0.05, seed=seed_init + i, v_error=v_error)\n",
    "        ix_clean = ~data[\"err_where\"].astype(bool)\n",
    "    elif noise_tyoe == \"covariate\":\n",
    "        data = uci.sample_noisy_covariates(dataset_name, p_error=0.05, seed=seed_init + i, v_error=v_error)\n",
    "        ix_clean = ~data[\"err_where\"].any(axis=1).astype(bool)\n",
    "    else:\n",
    "        raise KeyError(f\"Noise {noise_type} not available\")\n",
    "        \n",
    "    X = data[\"X\"]\n",
    "    y = data[\"y\"]\n",
    "    \n",
    "    \n",
    "    X_collection.append(X)\n",
    "    y_collection.append(y)\n",
    "    ix_clean_collection.append(ix_clean)"
   ]
  },
  {
   "cell_type": "code",
   "execution_count": 488,
   "id": "67d6ced7-2ed3-4a73-9fd1-1616ce4552c3",
   "metadata": {
    "tags": []
   },
   "outputs": [
    {
     "data": {
      "text/plain": [
       "(50, 1440, 11)"
      ]
     },
     "execution_count": 488,
     "metadata": {},
     "output_type": "execute_result"
    }
   ],
   "source": [
    "X_collection = jnp.array(X_collection)\n",
    "y_collection = jnp.array(y_collection)\n",
    "mask_clean = np.array(ix_clean_collection).T\n",
    "X_collection.shape"
   ]
  },
  {
   "cell_type": "raw",
   "id": "649ead24-de6c-4de4-9af1-211dd1cb5009",
   "metadata": {
    "tags": []
   },
   "source": [
    "X_collection = jax.device_put(X_collection, sharding.reshape(-1, 1, 1))\n",
    "y_collection = jax.device_put(y_collection, sharding.reshape(-1, 1))"
   ]
  },
  {
   "cell_type": "code",
   "execution_count": 489,
   "id": "bb0a081d-39c9-4898-a0e7-5fc85e726f60",
   "metadata": {
    "tags": []
   },
   "outputs": [],
   "source": [
    "class MLP(nn.Module):\n",
    "    @nn.compact\n",
    "    def __call__(self, x):\n",
    "        x = nn.Dense(20)(x)\n",
    "        x = nn.relu(x)\n",
    "        x = nn.Dense(1)(x)\n",
    "        return x"
   ]
  },
  {
   "cell_type": "markdown",
   "id": "1ce9e564-b504-41f7-b791-0f67e52453b3",
   "metadata": {},
   "source": [
    "# Setup"
   ]
  },
  {
   "cell_type": "code",
   "execution_count": 490,
   "id": "b235006d-9526-4fa6-a831-987e47d018e8",
   "metadata": {
    "tags": []
   },
   "outputs": [],
   "source": [
    "def callback_fn(bel, bel_pred, y, x, applyfn):\n",
    "    yhat = applyfn(bel_pred.mean, x[None])\n",
    "    return yhat"
   ]
  },
  {
   "cell_type": "code",
   "execution_count": 491,
   "id": "1e668928-14e9-46b6-a32a-d8592dc3fb8d",
   "metadata": {
    "tags": []
   },
   "outputs": [],
   "source": [
    "y, X = y_collection[0], X_collection[0]\n",
    "ix_clean = ix_clean_collection[0]"
   ]
  },
  {
   "cell_type": "code",
   "execution_count": 492,
   "id": "07833cd2-5e81-4b19-9030-56af2c8d0675",
   "metadata": {
    "tags": []
   },
   "outputs": [],
   "source": [
    "Q = 0.0\n",
    "observation_covariance = 1.0"
   ]
  },
  {
   "cell_type": "code",
   "execution_count": 493,
   "id": "3107a2c8-5d45-423e-a0a8-31b47979bb76",
   "metadata": {
    "tags": []
   },
   "outputs": [],
   "source": [
    "key = jax.random.PRNGKey(314)\n",
    "model = MLP()\n",
    "params_init = model.init(key, X[:1])"
   ]
  },
  {
   "cell_type": "code",
   "execution_count": 494,
   "id": "0867c244-30a9-4196-89ba-9618c6a20293",
   "metadata": {
    "tags": []
   },
   "outputs": [
    {
     "data": {
      "text/plain": [
       "(50, 1440, 11)"
      ]
     },
     "execution_count": 494,
     "metadata": {},
     "output_type": "execute_result"
    }
   ],
   "source": [
    "X_collection.shape"
   ]
  },
  {
   "cell_type": "markdown",
   "id": "11d28d96-ecac-447e-a412-b1aa9d8def70",
   "metadata": {},
   "source": [
    "## EKF"
   ]
  },
  {
   "cell_type": "code",
   "execution_count": 495,
   "id": "caad791d-21ca-4d3d-8621-b88ea80d2fa0",
   "metadata": {
    "tags": []
   },
   "outputs": [],
   "source": [
    "def filter_ekf(log_lr):\n",
    "    lr = np.exp(log_lr)\n",
    "    agent = gfilter.ExtendedKalmanFilter(\n",
    "        lambda x: x,\n",
    "        model.apply,\n",
    "        dynamics_covariance=Q,\n",
    "        observation_covariance=observation_covariance  * jnp.eye(1),\n",
    "    )\n",
    "\n",
    "    bel_init = agent.init_bel(params_init, cov=lr)\n",
    "    callback = partial(callback_fn, applyfn=agent.vobs_fn)\n",
    "    bel_imq, yhat_pp = agent.scan(bel_init, y, X, callback_fn=callback)\n",
    "    out = (agent, bel_imq)\n",
    "    return yhat_pp.squeeze(), out\n",
    "\n",
    "def opt_step(log_lr):\n",
    "    res = -jnp.power(filter_ekf(log_lr)[0] - y, 2)\n",
    "    res = np.median(res)\n",
    "    \n",
    "    if np.isnan(res) or np.isinf(res):\n",
    "        res = -1e+6\n",
    "    \n",
    "    return res"
   ]
  },
  {
   "cell_type": "code",
   "execution_count": 496,
   "id": "ea1c3775-8325-461c-865a-6e45217f2ac6",
   "metadata": {
    "tags": []
   },
   "outputs": [
    {
     "name": "stdout",
     "output_type": "stream",
     "text": [
      "|   iter    |  target   |  log_lr   |\n",
      "-------------------------------------\n",
      "| \u001b[95m2        \u001b[0m | \u001b[95m-0.7086  \u001b[0m | \u001b[95m-2.057   \u001b[0m |\n",
      "| \u001b[95m3        \u001b[0m | \u001b[95m-0.2783  \u001b[0m | \u001b[95m-3.675   \u001b[0m |\n",
      "=====================================\n",
      "CPU times: user 1min 17s, sys: 37.4 s, total: 1min 54s\n",
      "Wall time: 25.8 s\n"
     ]
    }
   ],
   "source": [
    "%%time\n",
    "bo = BayesianOptimization(\n",
    "    opt_step,\n",
    "    pbounds={\n",
    "        \"log_lr\": (-5, 0),\n",
    "    },\n",
    "    verbose=1,\n",
    "    random_state=314,\n",
    "    allow_duplicate_points=True\n",
    ")\n",
    "\n",
    "bo.maximize(init_points=5, n_iter=5)"
   ]
  },
  {
   "cell_type": "code",
   "execution_count": 497,
   "id": "9c87c5cb-fd55-483e-a8f5-7604a75e9b2f",
   "metadata": {
    "tags": []
   },
   "outputs": [
    {
     "name": "stdout",
     "output_type": "stream",
     "text": [
      "CPU times: user 26.5 s, sys: 1.19 s, total: 27.7 s\n",
      "Wall time: 1min 10s\n"
     ]
    }
   ],
   "source": [
    "%%time\n",
    "\n",
    "lr = np.exp(bo.max[\"params\"][\"log_lr\"])\n",
    "agent = gfilter.ExtendedKalmanFilter(\n",
    "    lambda x: x,\n",
    "    model.apply,\n",
    "    dynamics_covariance=Q,\n",
    "    observation_covariance=1.0 * jnp.eye(1),\n",
    ")\n",
    "\n",
    "bel_init = agent.init_bel(params_init, cov=lr)\n",
    "\n",
    "callback = partial(callback_fn, applyfn=agent.vobs_fn)\n",
    "scanfn = jax.vmap(agent.scan, in_axes=(None, 0, 0, None))\n",
    "res = scanfn(bel_init, y_collection, X_collection, callback)\n",
    "\n",
    "res = jax.block_until_ready(res)\n",
    "state_final_collection, yhat_collection_ekf = res\n",
    "yhat_collection_ekf = yhat_collection_ekf.squeeze()"
   ]
  },
  {
   "cell_type": "code",
   "execution_count": 498,
   "id": "8de5ecd0-ed04-4b75-9144-5d073ff18824",
   "metadata": {
    "tags": []
   },
   "outputs": [],
   "source": [
    "err_collection_ekf = pd.DataFrame(np.power(y_collection - yhat_collection_ekf, 2).T)"
   ]
  },
  {
   "cell_type": "markdown",
   "id": "a21fa95d-dc79-44ba-b5c1-c7d3cdab18c1",
   "metadata": {},
   "source": [
    "## WLF-IMQ"
   ]
  },
  {
   "cell_type": "markdown",
   "id": "c4e3695a-9594-4bb2-976b-a8c5d9143a55",
   "metadata": {},
   "source": [
    "### Hparam choice"
   ]
  },
  {
   "cell_type": "code",
   "execution_count": 499,
   "id": "19a3ee5f-ede7-45df-bf05-5b1636999fcb",
   "metadata": {
    "tags": []
   },
   "outputs": [],
   "source": [
    "def filter_imqf(soft_threshold, log_lr):\n",
    "    lr = np.exp(log_lr)\n",
    "    agent = gbfilter.IMQFilter(\n",
    "        model.apply, dynamics_covariance=Q,\n",
    "        observation_covariance=observation_covariance,\n",
    "        soft_threshold=soft_threshold\n",
    "    )\n",
    "\n",
    "    bel_init = agent.init_bel(params_init, cov=lr)\n",
    "    callback = partial(callback_fn, applyfn=agent.link_fn)\n",
    "    bel_imq, yhat_pp = agent.scan(bel_init, y, X, callback_fn=callback)\n",
    "    out = (agent, bel_imq)\n",
    "    return yhat_pp.squeeze(), out\n",
    "\n",
    "def opt_step(soft_threshold, log_lr):\n",
    "    # res = -jnp.power(filter_imqf(soft_threshold, log_lr)[0] - y, 2)[ix_clean].mean()\n",
    "    res = -jnp.power(filter_imqf(soft_threshold, log_lr)[0] - y, 2)\n",
    "    res = jnp.median(res)\n",
    "    \n",
    "    if np.isnan(res) or np.isinf(res):\n",
    "        res = -1e+6\n",
    "    \n",
    "    return res"
   ]
  },
  {
   "cell_type": "code",
   "execution_count": 500,
   "id": "a631b8b7-e616-4785-9c3e-8dd4cf600253",
   "metadata": {
    "tags": []
   },
   "outputs": [
    {
     "name": "stdout",
     "output_type": "stream",
     "text": [
      "|   iter    |  target   |  log_lr   | soft_t... |\n",
      "-------------------------------------------------\n",
      "| \u001b[95m4        \u001b[0m | \u001b[95m-0.008506\u001b[0m | \u001b[95m-1.36    \u001b[0m | \u001b[95m3.907    \u001b[0m |\n",
      "| \u001b[95m5        \u001b[0m | \u001b[95m-0.008076\u001b[0m | \u001b[95m-0.4412  \u001b[0m | \u001b[95m3.911    \u001b[0m |\n",
      "=================================================\n",
      "CPU times: user 1min 18s, sys: 37 s, total: 1min 55s\n",
      "Wall time: 26.6 s\n"
     ]
    }
   ],
   "source": [
    "%%time\n",
    "bo = BayesianOptimization(\n",
    "    opt_step,\n",
    "    pbounds={\n",
    "        \"soft_threshold\": (1e-6, 15),\n",
    "        \"log_lr\": (-5, 0),\n",
    "    },\n",
    "    verbose=1,\n",
    "    random_state=314,\n",
    "    allow_duplicate_points=True\n",
    ")\n",
    "\n",
    "bo.maximize(init_points=5, n_iter=5)"
   ]
  },
  {
   "cell_type": "markdown",
   "id": "9579721f-5064-4258-b5d5-181e5ac20bc5",
   "metadata": {},
   "source": [
    "### Eval"
   ]
  },
  {
   "cell_type": "code",
   "execution_count": 501,
   "id": "4be9263c-ec2c-4b0b-8aa8-85901d4feaf0",
   "metadata": {
    "tags": []
   },
   "outputs": [],
   "source": [
    "soft_threshold = bo.max[\"params\"][\"soft_threshold\"]\n",
    "lr = np.exp(bo.max[\"params\"][\"log_lr\"])\n",
    "\n",
    "agent = gbfilter.IMQFilter(\n",
    "    model.apply,\n",
    "    dynamics_covariance=0.0,\n",
    "    observation_covariance=1.0,\n",
    "    soft_threshold=soft_threshold\n",
    ")"
   ]
  },
  {
   "cell_type": "code",
   "execution_count": 502,
   "id": "5654a6b1-d409-4283-8c8d-887a5584d0b6",
   "metadata": {
    "tags": []
   },
   "outputs": [
    {
     "name": "stdout",
     "output_type": "stream",
     "text": [
      "CPU times: user 25.9 s, sys: 955 ms, total: 26.9 s\n",
      "Wall time: 1min 9s\n"
     ]
    }
   ],
   "source": [
    "%%time\n",
    "bel_init = agent.init_bel(params_init, cov=lr)\n",
    "callback = partial(callback_fn, applyfn=agent.link_fn)\n",
    "_, yhat_collection_wlf = jax.vmap(agent.scan, in_axes=(None, 0, 0, None))(bel_init, y_collection, X_collection, callback)\n",
    "yhat_collection_wlf = jax.block_until_ready(yhat_collection_wlf.squeeze())"
   ]
  },
  {
   "cell_type": "code",
   "execution_count": 503,
   "id": "0a6d4adb-0b3d-4844-a153-438a60f32c39",
   "metadata": {
    "tags": []
   },
   "outputs": [],
   "source": [
    "err_collection_wlf = pd.DataFrame(np.power(y_collection - yhat_collection_wlf, 2).T)"
   ]
  },
  {
   "cell_type": "markdown",
   "id": "e137e1d9-07f3-413d-aa5b-78db2debc940",
   "metadata": {},
   "source": [
    "## IW-based EKF\n",
    "(Agamenoni 2012)"
   ]
  },
  {
   "cell_type": "markdown",
   "id": "8f532084-ca87-43af-8a5e-dbcded2cf9fb",
   "metadata": {},
   "source": [
    "### Hparam choice"
   ]
  },
  {
   "cell_type": "code",
   "execution_count": 504,
   "id": "f43820b5-ef1c-4cce-a6c8-cf1b21ce24e0",
   "metadata": {
    "tags": []
   },
   "outputs": [],
   "source": [
    "def filter_rkf(noise_scaling, log_lr):\n",
    "    lr = np.exp(log_lr)\n",
    "    agent_rekf = rfilter.ExtendedRobustKalmanFilter(\n",
    "        lambda x: x, model.apply, dynamics_covariance=Q,\n",
    "        prior_observation_covariance=observation_covariance * jnp.eye(1),\n",
    "        noise_scaling=noise_scaling,\n",
    "        n_inner=1\n",
    "    )\n",
    "    \n",
    "    bel_init = agent_rekf.init_bel(params_init, cov=lr)\n",
    "    callback = partial(callback_fn, applyfn=agent_rekf.vobs_fn)\n",
    "    bel_rekf, yhat_pp = agent_rekf.scan(bel_init, y, X, callback_fn=callback)\n",
    "    out = (agent_rekf, bel_rekf)\n",
    "    \n",
    "    return yhat_pp.squeeze(), out"
   ]
  },
  {
   "cell_type": "code",
   "execution_count": 505,
   "id": "6cf4f3e4-148e-4b37-8487-4074fe4f0900",
   "metadata": {
    "tags": []
   },
   "outputs": [],
   "source": [
    "def opt_step(noise_scaling, log_lr):\n",
    "    # res = -jnp.power(filter_rkf(noise_scaling, log_lr)[0] - y, 2)[ix_clean].mean()\n",
    "    res = -jnp.power(filter_rkf(noise_scaling, log_lr)[0] - y, 2)\n",
    "    res = jnp.median(res)\n",
    "    if np.isnan(res) or np.isinf(res):\n",
    "        res = -1e+6\n",
    "    \n",
    "    return res"
   ]
  },
  {
   "cell_type": "code",
   "execution_count": 506,
   "id": "b96de78c-b453-418b-af8b-a2922621baef",
   "metadata": {
    "tags": []
   },
   "outputs": [
    {
     "name": "stdout",
     "output_type": "stream",
     "text": [
      "|   iter    |  target   |  log_lr   | noise_... |\n",
      "-------------------------------------------------\n",
      "| \u001b[95m5        \u001b[0m | \u001b[95m-0.007673\u001b[0m | \u001b[95m-0.4412  \u001b[0m | \u001b[95m3.911    \u001b[0m |\n",
      "=================================================\n",
      "CPU times: user 37.2 s, sys: 33.2 s, total: 1min 10s\n",
      "Wall time: 6.44 s\n"
     ]
    }
   ],
   "source": [
    "%%time\n",
    "bo = BayesianOptimization(\n",
    "    opt_step,\n",
    "    pbounds={\n",
    "        \"noise_scaling\": (1e-6, 15),\n",
    "        \"log_lr\": (-5, 0)\n",
    "    },\n",
    "    verbose=1,\n",
    "    random_state=314,\n",
    "    allow_duplicate_points=True\n",
    ")\n",
    "\n",
    "bo.maximize(init_points=5, n_iter=5)"
   ]
  },
  {
   "cell_type": "markdown",
   "id": "8a5e3c59-be3b-4cd5-823f-98d877f5749e",
   "metadata": {},
   "source": [
    "### Eval"
   ]
  },
  {
   "cell_type": "code",
   "execution_count": 507,
   "id": "dc7ac848-1ec9-471d-ba14-fd9bad4ac7dd",
   "metadata": {
    "tags": []
   },
   "outputs": [],
   "source": [
    "noise_scaling = bo.max[\"params\"][\"noise_scaling\"]\n",
    "lr = np.exp(bo.max[\"params\"][\"log_lr\"])\n",
    "\n",
    "agent = rfilter.ExtendedRobustKalmanFilter(\n",
    "    lambda x: x,\n",
    "    model.apply,\n",
    "    dynamics_covariance=0.0,\n",
    "    prior_observation_covariance=1.0 * jnp.eye(1),\n",
    "    n_inner=1,\n",
    "    noise_scaling=noise_scaling,\n",
    ")"
   ]
  },
  {
   "cell_type": "code",
   "execution_count": 508,
   "id": "658fd429-1952-4da9-88b5-23eae0ae3c0d",
   "metadata": {
    "tags": []
   },
   "outputs": [
    {
     "name": "stdout",
     "output_type": "stream",
     "text": [
      "CPU times: user 4.16 s, sys: 98.1 ms, total: 4.25 s\n",
      "Wall time: 2.89 s\n"
     ]
    }
   ],
   "source": [
    "%%time\n",
    "bel_init = agent.init_bel(params_init, cov=lr)\n",
    "callback = partial(callback_fn, applyfn=agent.vobs_fn)\n",
    "_, yhat_collection_ann1 = jax.vmap(agent.scan, in_axes=(None, 0, 0, None))(bel_init, y_collection, X_collection, callback)\n",
    "yhat_collection_ann1 = yhat_collection_ann1.squeeze()"
   ]
  },
  {
   "cell_type": "code",
   "execution_count": 509,
   "id": "66d07a64-78ba-44e4-b2d5-848fd1f7aa82",
   "metadata": {
    "tags": []
   },
   "outputs": [],
   "source": [
    "err_collection_ann1 = pd.DataFrame(np.power(y_collection - yhat_collection_ann1, 2).T)"
   ]
  },
  {
   "cell_type": "markdown",
   "id": "bad9428d-b776-4d3e-856b-b9dd19787477",
   "metadata": {},
   "source": [
    "## WLF-MD\n",
    "Weighted likelihood filter with Mahalanobis distance thresholding weighting function"
   ]
  },
  {
   "cell_type": "markdown",
   "id": "7da9be7c-5090-45f9-a0ef-68682e9c7d91",
   "metadata": {},
   "source": [
    "### Hparam section"
   ]
  },
  {
   "cell_type": "code",
   "execution_count": 510,
   "id": "547a0bf8-fc0e-4470-b45c-ec1dfc9f8ccb",
   "metadata": {
    "tags": []
   },
   "outputs": [],
   "source": [
    "def filter_mah_ekf(log_lr, threshold):\n",
    "    lr = np.exp(log_lr)\n",
    "    agent_mekf = rfilter.ExtendedThresholdedKalmanFilter(\n",
    "        lambda x: x, model.apply,\n",
    "        dynamics_covariance=Q,\n",
    "        observation_covariance=observation_covariance * jnp.eye(1),\n",
    "        threshold=threshold\n",
    "    )\n",
    "    \n",
    "    bel_init = agent_mekf.init_bel(params_init, cov=lr)\n",
    "    callback = partial(callback_fn, applyfn=agent_mekf.vobs_fn)\n",
    "    \n",
    "    bel_mekf, yhat_pp = agent_mekf.scan(bel_init, y, X, callback_fn=callback)\n",
    "    out = (agent_mekf, bel_mekf)\n",
    "    return yhat_pp.squeeze(), out\n",
    "\n",
    "def opt_step(log_lr, threshold):\n",
    "    # res = -jnp.power(filter_rkf(noise_scaling, log_lr)[0] - y, 2)[ix_clean].mean()\n",
    "    res = -jnp.power(filter_mah_ekf(noise_scaling, log_lr)[0] - y, 2)\n",
    "    res = jnp.median(res)\n",
    "    if np.isnan(res) or np.isinf(res):\n",
    "        res = -1e+6\n",
    "    \n",
    "    return res"
   ]
  },
  {
   "cell_type": "code",
   "execution_count": 511,
   "id": "8639187a-e321-4113-ba3c-fadb797ef5ed",
   "metadata": {
    "tags": []
   },
   "outputs": [
    {
     "name": "stdout",
     "output_type": "stream",
     "text": [
      "|   iter    |  target   |  log_lr   | threshold |\n",
      "-------------------------------------------------\n",
      "=================================================\n",
      "CPU times: user 1min 18s, sys: 36 s, total: 1min 54s\n",
      "Wall time: 26.4 s\n"
     ]
    }
   ],
   "source": [
    "%%time\n",
    "bo = BayesianOptimization(\n",
    "    opt_step,\n",
    "    pbounds={\n",
    "        \"threshold\": (1e-6, 15),\n",
    "        \"log_lr\": (-5, 0)\n",
    "    },\n",
    "    verbose=1,\n",
    "    random_state=314,\n",
    "    allow_duplicate_points=True\n",
    ")\n",
    "\n",
    "bo.maximize(init_points=5, n_iter=5)"
   ]
  },
  {
   "cell_type": "markdown",
   "id": "a7592a1a-30a3-4aac-9ae7-ecb3a5dc1c75",
   "metadata": {},
   "source": [
    "### Eval"
   ]
  },
  {
   "cell_type": "code",
   "execution_count": 512,
   "id": "c82f4ca1-a804-439f-8ee0-cc47c8038eca",
   "metadata": {
    "tags": []
   },
   "outputs": [],
   "source": [
    "threshold = bo.max[\"params\"][\"threshold\"]\n",
    "lr = np.exp(bo.max[\"params\"][\"log_lr\"])\n",
    "\n",
    "agent = rfilter.ExtendedThresholdedKalmanFilter(\n",
    "    lambda x: x,\n",
    "    model.apply,\n",
    "    dynamics_covariance=0.0,\n",
    "    observation_covariance=1.0 * jnp.eye(1),\n",
    "    threshold=threshold,\n",
    ")"
   ]
  },
  {
   "cell_type": "code",
   "execution_count": 513,
   "id": "8ebec8a4-06d3-4850-87d0-cb25d39e96c2",
   "metadata": {
    "tags": []
   },
   "outputs": [
    {
     "name": "stdout",
     "output_type": "stream",
     "text": [
      "CPU times: user 27.1 s, sys: 792 ms, total: 27.9 s\n",
      "Wall time: 1min 10s\n"
     ]
    }
   ],
   "source": [
    "%%time\n",
    "bel_init = agent.init_bel(params_init, cov=lr)\n",
    "bel_init = jax.device_put(bel_init, sharding.replicate(0))\n",
    "callback = partial(callback_fn, applyfn=agent.vobs_fn)\n",
    "scanfn = jax.jit(jax.vmap(agent.scan, in_axes=(None, 0, 0, None)), static_argnames=(\"callback_fn\",))\n",
    "\n",
    "_, yhat_collection_mekf = scanfn(bel_init, y_collection, X_collection, callback)\n",
    "yhat_collection_mekf = jax.block_until_ready(yhat_collection_mekf)\n",
    "yhat_collection_mekf = yhat_collection_mekf.squeeze()"
   ]
  },
  {
   "cell_type": "code",
   "execution_count": 514,
   "id": "461d5f3d-3e60-4d92-bd98-92ddaa8f2608",
   "metadata": {
    "tags": []
   },
   "outputs": [],
   "source": [
    "err_collection_mekf = pd.DataFrame(np.power(y_collection - yhat_collection_mekf, 2).T)"
   ]
  },
  {
   "cell_type": "markdown",
   "id": "3fc8bfc9-1ee8-47c9-bc14-9c3bdf511355",
   "metadata": {},
   "source": [
    "## Online SGD"
   ]
  },
  {
   "cell_type": "code",
   "execution_count": 515,
   "id": "0cb95647-f36f-4f3a-af5d-ab9da54d1af9",
   "metadata": {
    "tags": []
   },
   "outputs": [],
   "source": [
    "def lossfn(params, counter, x, y, applyfn):\n",
    "    yhat = applyfn(params, x)\n",
    "    return jnp.sum(counter * (y - yhat) ** 2) / counter.sum()\n",
    "\n",
    "def filter_ogd(log_lr, n_inner):\n",
    "    lr = np.exp(log_lr)\n",
    "    n_inner = int(n_inner)\n",
    "    \n",
    "    agent = replay_sgd.FifoSGD(\n",
    "        model.apply,\n",
    "        lossfn,\n",
    "        optax.adam(lr),\n",
    "        buffer_size=1,\n",
    "        dim_features=X.shape[-1],\n",
    "        dim_output=1,\n",
    "        n_inner=n_inner,\n",
    "    )\n",
    "\n",
    "    callback = partial(callback_fn, applyfn=model.apply)\n",
    "\n",
    "    bel_init = agent.init_bel(params_init)\n",
    "    bel_final, yhat_pp = agent.scan(bel_init, y, X, callback)\n",
    "    out = (agent, bel_final)\n",
    "    yhat_pp = yhat_pp.squeeze()\n",
    "\n",
    "    return yhat_pp.squeeze(), out\n",
    "\n",
    "def opt_step(log_lr, n_inner):\n",
    "    res = -jnp.power(filter_ogd(log_lr, n_inner)[0] - y, 2)\n",
    "    res = jnp.median(res)\n",
    "    if np.isnan(res) or np.isinf(res):\n",
    "        res = -1e+6\n",
    "    \n",
    "    return res"
   ]
  },
  {
   "cell_type": "code",
   "execution_count": 516,
   "id": "5184a631-5f78-4927-9da6-e0f2a76246c8",
   "metadata": {
    "tags": []
   },
   "outputs": [
    {
     "name": "stdout",
     "output_type": "stream",
     "text": [
      "|   iter    |  target   |  log_lr   |  n_inner  |\n",
      "-------------------------------------------------\n",
      "| \u001b[95m3        \u001b[0m | \u001b[95m-0.05375 \u001b[0m | \u001b[95m-0.41    \u001b[0m | \u001b[95m8.446    \u001b[0m |\n",
      "| \u001b[95m9        \u001b[0m | \u001b[95m-0.05353 \u001b[0m | \u001b[95m0.0      \u001b[0m | \u001b[95m10.0     \u001b[0m |\n",
      "=================================================\n",
      "CPU times: user 35.7 s, sys: 34.1 s, total: 1min 9s\n",
      "Wall time: 6.41 s\n"
     ]
    }
   ],
   "source": [
    "%%time\n",
    "bo = BayesianOptimization(\n",
    "    opt_step,\n",
    "    pbounds={\n",
    "        \"log_lr\": (-5, 0),\n",
    "        \"n_inner\": (1, 10),\n",
    "    },\n",
    "    verbose=1,\n",
    "    random_state=314,\n",
    "    allow_duplicate_points=True\n",
    ")\n",
    "\n",
    "bo.maximize(init_points=5, n_iter=5)"
   ]
  },
  {
   "cell_type": "code",
   "execution_count": 517,
   "id": "846a16ec-3403-47b6-a53a-4d9d3a611157",
   "metadata": {
    "tags": []
   },
   "outputs": [
    {
     "data": {
      "text/plain": [
       "Array(11.936623, dtype=float32)"
      ]
     },
     "execution_count": 517,
     "metadata": {},
     "output_type": "execute_result"
    }
   ],
   "source": [
    "lr = jnp.exp(bo.max[\"params\"][\"log_lr\"])\n",
    "n_inner = int(bo.max[\"params\"][\"n_inner\"])\n",
    "\n",
    "agent = replay_sgd.FifoSGD(\n",
    "    model.apply,\n",
    "    lossfn,\n",
    "    optax.adam(lr),\n",
    "    buffer_size=1,\n",
    "    dim_features=X.shape[-1],\n",
    "    dim_output=1,\n",
    "    n_inner=n_inner\n",
    ")\n",
    "\n",
    "callback = partial(callback_fn, applyfn=model.apply)\n",
    "\n",
    "bel_init = agent.init_bel(params_init)\n",
    "state_final, yhat = agent.scan(bel_init, y, X, callback)\n",
    "yhat = yhat.squeeze()\n",
    "\n",
    "errs = (y - yhat)\n",
    "jnp.sqrt(jnp.power(errs, 2).mean())"
   ]
  },
  {
   "cell_type": "code",
   "execution_count": 518,
   "id": "36d83a24-3a34-46f5-b0dc-8ae3f454e9e0",
   "metadata": {
    "tags": []
   },
   "outputs": [
    {
     "name": "stdout",
     "output_type": "stream",
     "text": [
      "CPU times: user 951 ms, sys: 33.3 ms, total: 985 ms\n",
      "Wall time: 891 ms\n"
     ]
    }
   ],
   "source": [
    "%%time\n",
    "_, yhat_collection_ogd = jax.vmap(agent.scan, in_axes=(None, 0, 0, None))(bel_init, y_collection, X_collection, callback)\n",
    "yhat_collection_ogd = jax.block_until_ready(yhat_collection_ogd)\n",
    "yhat_collection_ogd = yhat_collection_ogd.squeeze()"
   ]
  },
  {
   "cell_type": "code",
   "execution_count": 519,
   "id": "550563e7-d404-4107-9d17-865a59095edb",
   "metadata": {
    "tags": []
   },
   "outputs": [],
   "source": [
    "err_collection_ogd  = pd.DataFrame(np.power(y_collection - yhat_collection_ogd, 2).T)"
   ]
  },
  {
   "cell_type": "markdown",
   "id": "1affd29f-ed8f-41fb-bc70-b322270ceb67",
   "metadata": {},
   "source": [
    "# Results"
   ]
  },
  {
   "cell_type": "code",
   "execution_count": 520,
   "id": "25024681-3caa-4300-b44e-836e93828f3a",
   "metadata": {
    "tags": []
   },
   "outputs": [],
   "source": [
    "import seaborn as sns"
   ]
  },
  {
   "cell_type": "code",
   "execution_count": 521,
   "id": "4ec934aa-60ff-4808-aa07-a59caa052a66",
   "metadata": {
    "tags": []
   },
   "outputs": [],
   "source": [
    "pd.set_option(\"display.float_format\", lambda x: format(x, \"0.4f\"))"
   ]
  },
  {
   "cell_type": "code",
   "execution_count": 522,
   "id": "b91ef13d-9b94-469a-a735-3b1c35b24847",
   "metadata": {
    "tags": []
   },
   "outputs": [
    {
     "data": {
      "text/html": [
       "<div>\n",
       "<style scoped>\n",
       "    .dataframe tbody tr th:only-of-type {\n",
       "        vertical-align: middle;\n",
       "    }\n",
       "\n",
       "    .dataframe tbody tr th {\n",
       "        vertical-align: top;\n",
       "    }\n",
       "\n",
       "    .dataframe thead th {\n",
       "        text-align: right;\n",
       "    }\n",
       "</style>\n",
       "<table border=\"1\" class=\"dataframe\">\n",
       "  <thead>\n",
       "    <tr style=\"text-align: right;\">\n",
       "      <th></th>\n",
       "      <th>WLF-IMQ</th>\n",
       "      <th>EKF</th>\n",
       "      <th>OGD</th>\n",
       "      <th>WLF-MD</th>\n",
       "      <th>E-ANN-1</th>\n",
       "    </tr>\n",
       "  </thead>\n",
       "  <tbody>\n",
       "    <tr>\n",
       "      <th>count</th>\n",
       "      <td>50.0000</td>\n",
       "      <td>50.0000</td>\n",
       "      <td>50.0000</td>\n",
       "      <td>50.0000</td>\n",
       "      <td>50.0000</td>\n",
       "    </tr>\n",
       "    <tr>\n",
       "      <th>mean</th>\n",
       "      <td>0.0230</td>\n",
       "      <td>1.4270</td>\n",
       "      <td>49.0310</td>\n",
       "      <td>0.0226</td>\n",
       "      <td>433598197218526577557504.0000</td>\n",
       "    </tr>\n",
       "    <tr>\n",
       "      <th>std</th>\n",
       "      <td>0.0072</td>\n",
       "      <td>0.7957</td>\n",
       "      <td>4.6265</td>\n",
       "      <td>0.0073</td>\n",
       "      <td>3066002255634821520818176.0000</td>\n",
       "    </tr>\n",
       "    <tr>\n",
       "      <th>min</th>\n",
       "      <td>0.0177</td>\n",
       "      <td>0.5211</td>\n",
       "      <td>39.0793</td>\n",
       "      <td>0.0175</td>\n",
       "      <td>0.0175</td>\n",
       "    </tr>\n",
       "    <tr>\n",
       "      <th>25%</th>\n",
       "      <td>0.0183</td>\n",
       "      <td>0.9013</td>\n",
       "      <td>46.0664</td>\n",
       "      <td>0.0179</td>\n",
       "      <td>0.0180</td>\n",
       "    </tr>\n",
       "    <tr>\n",
       "      <th>50%</th>\n",
       "      <td>0.0188</td>\n",
       "      <td>1.2029</td>\n",
       "      <td>48.8361</td>\n",
       "      <td>0.0183</td>\n",
       "      <td>0.0184</td>\n",
       "    </tr>\n",
       "    <tr>\n",
       "      <th>75%</th>\n",
       "      <td>0.0278</td>\n",
       "      <td>1.8300</td>\n",
       "      <td>51.1305</td>\n",
       "      <td>0.0275</td>\n",
       "      <td>0.0276</td>\n",
       "    </tr>\n",
       "    <tr>\n",
       "      <th>max</th>\n",
       "      <td>0.0507</td>\n",
       "      <td>4.2046</td>\n",
       "      <td>62.2691</td>\n",
       "      <td>0.0505</td>\n",
       "      <td>21679909860926327401480192.0000</td>\n",
       "    </tr>\n",
       "  </tbody>\n",
       "</table>\n",
       "</div>"
      ],
      "text/plain": [
       "       WLF-IMQ     EKF     OGD  WLF-MD                         E-ANN-1\n",
       "count  50.0000 50.0000 50.0000 50.0000                         50.0000\n",
       "mean    0.0230  1.4270 49.0310  0.0226   433598197218526577557504.0000\n",
       "std     0.0072  0.7957  4.6265  0.0073  3066002255634821520818176.0000\n",
       "min     0.0177  0.5211 39.0793  0.0175                          0.0175\n",
       "25%     0.0183  0.9013 46.0664  0.0179                          0.0180\n",
       "50%     0.0188  1.2029 48.8361  0.0183                          0.0184\n",
       "75%     0.0278  1.8300 51.1305  0.0275                          0.0276\n",
       "max     0.0507  4.2046 62.2691  0.0505 21679909860926327401480192.0000"
      ]
     },
     "execution_count": 522,
     "metadata": {},
     "output_type": "execute_result"
    }
   ],
   "source": [
    "df_results = pd.DataFrame({\n",
    "    \"WLF-IMQ\": err_collection_wlf.mul(mask_clean)[10:].sum(axis=0) / mask_clean[10:].sum(axis=0),\n",
    "    \"EKF\": err_collection_ekf.mul(mask_clean)[10:].sum(axis=0) / mask_clean[10:].sum(axis=0),\n",
    "    \"OGD\": err_collection_ogd.mul(mask_clean)[10:].sum(axis=0) / mask_clean[10:].sum(axis=0),\n",
    "    \"WLF-MD\": err_collection_mekf.mul(mask_clean)[10:].sum(axis=0) / mask_clean[10:].sum(axis=0),\n",
    "    \"E-ANN-1\": err_collection_ann1.mul(mask_clean)[10:].sum(axis=0) / mask_clean[10:].sum(axis=0),\n",
    "})\n",
    "\n",
    "df_results.describe()"
   ]
  },
  {
   "cell_type": "code",
   "execution_count": 523,
   "id": "75c48206-48e5-4a81-bb0f-475f7a3316fe",
   "metadata": {
    "tags": []
   },
   "outputs": [
    {
     "data": {
      "text/html": [
       "<div>\n",
       "<style scoped>\n",
       "    .dataframe tbody tr th:only-of-type {\n",
       "        vertical-align: middle;\n",
       "    }\n",
       "\n",
       "    .dataframe tbody tr th {\n",
       "        vertical-align: top;\n",
       "    }\n",
       "\n",
       "    .dataframe thead th {\n",
       "        text-align: right;\n",
       "    }\n",
       "</style>\n",
       "<table border=\"1\" class=\"dataframe\">\n",
       "  <thead>\n",
       "    <tr style=\"text-align: right;\">\n",
       "      <th></th>\n",
       "      <th>WLF-IMQ</th>\n",
       "      <th>EKF</th>\n",
       "      <th>OGD</th>\n",
       "      <th>WLF-MD</th>\n",
       "      <th>E-ANN-1</th>\n",
       "    </tr>\n",
       "  </thead>\n",
       "  <tbody>\n",
       "    <tr>\n",
       "      <th>count</th>\n",
       "      <td>50.0000</td>\n",
       "      <td>50.0000</td>\n",
       "      <td>50.0000</td>\n",
       "      <td>50.0000</td>\n",
       "      <td>50.0000</td>\n",
       "    </tr>\n",
       "    <tr>\n",
       "      <th>mean</th>\n",
       "      <td>0.0105</td>\n",
       "      <td>0.5105</td>\n",
       "      <td>0.0874</td>\n",
       "      <td>0.0102</td>\n",
       "      <td>0.0111</td>\n",
       "    </tr>\n",
       "    <tr>\n",
       "      <th>std</th>\n",
       "      <td>0.0032</td>\n",
       "      <td>0.3035</td>\n",
       "      <td>0.0295</td>\n",
       "      <td>0.0033</td>\n",
       "      <td>0.0065</td>\n",
       "    </tr>\n",
       "    <tr>\n",
       "      <th>min</th>\n",
       "      <td>0.0076</td>\n",
       "      <td>0.1338</td>\n",
       "      <td>0.0511</td>\n",
       "      <td>0.0075</td>\n",
       "      <td>0.0075</td>\n",
       "    </tr>\n",
       "    <tr>\n",
       "      <th>25%</th>\n",
       "      <td>0.0084</td>\n",
       "      <td>0.3007</td>\n",
       "      <td>0.0704</td>\n",
       "      <td>0.0081</td>\n",
       "      <td>0.0081</td>\n",
       "    </tr>\n",
       "    <tr>\n",
       "      <th>50%</th>\n",
       "      <td>0.0088</td>\n",
       "      <td>0.4149</td>\n",
       "      <td>0.0802</td>\n",
       "      <td>0.0084</td>\n",
       "      <td>0.0084</td>\n",
       "    </tr>\n",
       "    <tr>\n",
       "      <th>75%</th>\n",
       "      <td>0.0128</td>\n",
       "      <td>0.7183</td>\n",
       "      <td>0.0980</td>\n",
       "      <td>0.0126</td>\n",
       "      <td>0.0126</td>\n",
       "    </tr>\n",
       "    <tr>\n",
       "      <th>max</th>\n",
       "      <td>0.0224</td>\n",
       "      <td>1.7906</td>\n",
       "      <td>0.1977</td>\n",
       "      <td>0.0221</td>\n",
       "      <td>0.0501</td>\n",
       "    </tr>\n",
       "  </tbody>\n",
       "</table>\n",
       "</div>"
      ],
      "text/plain": [
       "       WLF-IMQ     EKF     OGD  WLF-MD  E-ANN-1\n",
       "count  50.0000 50.0000 50.0000 50.0000  50.0000\n",
       "mean    0.0105  0.5105  0.0874  0.0102   0.0111\n",
       "std     0.0032  0.3035  0.0295  0.0033   0.0065\n",
       "min     0.0076  0.1338  0.0511  0.0075   0.0075\n",
       "25%     0.0084  0.3007  0.0704  0.0081   0.0081\n",
       "50%     0.0088  0.4149  0.0802  0.0084   0.0084\n",
       "75%     0.0128  0.7183  0.0980  0.0126   0.0126\n",
       "max     0.0224  1.7906  0.1977  0.0221   0.0501"
      ]
     },
     "execution_count": 523,
     "metadata": {},
     "output_type": "execute_result"
    }
   ],
   "source": [
    "df_results = pd.DataFrame({\n",
    "    \"WLF-IMQ\": err_collection_wlf.median(axis=0),\n",
    "    \"EKF\": err_collection_ekf.median(axis=0),\n",
    "    \"OGD\": err_collection_ogd.median(axis=0),\n",
    "    \"WLF-MD\": err_collection_mekf.median(axis=0),\n",
    "    \"E-ANN-1\": err_collection_ann1.median(axis=0),\n",
    "})\n",
    "\n",
    "df_results.describe()"
   ]
  },
  {
   "cell_type": "code",
   "execution_count": 524,
   "id": "bce9615c-597c-4626-8725-0e4955d638e7",
   "metadata": {
    "tags": []
   },
   "outputs": [
    {
     "data": {
      "image/png": "[encoded data removed]",
      "text/plain": [
       "<Figure size 640x480 with 1 Axes>"
      ]
     },
     "metadata": {
      "image/png": {
       "height": 432,
       "width": 576
      }
     },
     "output_type": "display_data"
    }
   ],
   "source": [
    "sns.boxenplot(\n",
    "    x=\"variable\",\n",
    "    y=\"value\",\n",
    "    data=df_results.melt().query(\"value < 30\"),\n",
    ")\n",
    "plt.grid(alpha=0.1)"
   ]
  },
  {
   "cell_type": "code",
   "execution_count": 525,
   "id": "71c4bc11-6c1f-4ea2-a6ee-be794f29854d",
   "metadata": {
    "tags": []
   },
   "outputs": [],
   "source": [
    "err_collection = {\n",
    "    \"methods\": {\n",
    "        \"WLF-IMQ\": err_collection_wlf,\n",
    "        \"EKF\": err_collection_ekf,\n",
    "        \"OGD\": err_collection_ogd,\n",
    "        \"WLF-MD\": err_collection_mekf,\n",
    "        \"E-ANN-1\": err_collection_ann1\n",
    "    },\n",
    "    \"config\": {\n",
    "        \"mask-clean\": mask_clean\n",
    "    }\n",
    "}"
   ]
  },
  {
   "cell_type": "code",
   "execution_count": 526,
   "id": "e78814b5-77a3-4626-818b-a28f1e2da9c6",
   "metadata": {
    "tags": []
   },
   "outputs": [
    {
     "data": {
      "image/png": "[encoded data removed]",
      "text/plain": [
       "<Figure size 640x480 with 1 Axes>"
      ]
     },
     "metadata": {
      "image/png": {
       "height": 413,
       "width": 557
      }
     },
     "output_type": "display_data"
    }
   ],
   "source": [
    "for method in err_collection[\"methods\"]:\n",
    "    err_collection[\"methods\"][method][10:].expanding().median().mean(axis=1).plot(label=method)\n",
    "    plt.yscale(\"log\")\n",
    "    plt.legend()\n",
    "    plt.grid(alpha=0.3)"
   ]
  },
  {
   "cell_type": "code",
   "execution_count": 527,
   "id": "b2c64e33-b143-4064-8415-d468e05867a0",
   "metadata": {},
   "outputs": [],
   "source": [
    "with open(f\"./results/{dataset_name}-{noise_type}.pkl\", \"wb\") as f:\n",
    "    pickle.dump(err_collection, f)"
   ]
  }
 ],
 "metadata": {
  "kernelspec": {
   "display_name": "research",
   "language": "python",
   "name": "research"
  },
  "language_info": {
   "codemirror_mode": {
    "name": "ipython",
    "version": 3
   },
   "file_extension": ".py",
   "mimetype": "text/x-python",
   "name": "python",
   "nbconvert_exporter": "python",
   "pygments_lexer": "ipython3",
   "version": "3.10.12"
  }
 },
 "nbformat": 4,
 "nbformat_minor": 5
}
