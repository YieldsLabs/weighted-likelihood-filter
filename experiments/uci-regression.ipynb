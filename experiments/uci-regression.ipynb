{
 "cells": [
  {
   "cell_type": "markdown",
   "id": "a6d219b1-e2b1-4cce-921d-11c09bae6905",
   "metadata": {},
   "source": [
    "# UCI regression "
   ]
  },
  {
   "cell_type": "code",
   "execution_count": 579,
   "id": "ab8d043e-4a57-4590-b5e8-4b41a3a3c9c0",
   "metadata": {
    "tags": []
   },
   "outputs": [],
   "source": [
    "import jax\n",
    "import optax\n",
    "import numpy as np\n",
    "import pandas as pd\n",
    "import flax.linen as nn\n",
    "import jax.numpy as jnp\n",
    "import matplotlib.pyplot as plt\n",
    "\n",
    "import datagen\n",
    "from functools import partial\n",
    "from bayes_opt import BayesianOptimization\n",
    "from rebayes_mini.methods import replay_sgd\n",
    "from rebayes_mini.methods import gauss_filter as gfilter\n",
    "from rebayes_mini.methods import robust_filter as rfilter\n",
    "from rebayes_mini.methods import generalised_bayes_filter as gbfilter"
   ]
  },
  {
   "cell_type": "code",
   "execution_count": 2,
   "id": "7da428b8-d644-46cd-8ad4-929b41623d50",
   "metadata": {
    "tags": []
   },
   "outputs": [],
   "source": [
    "%load_ext autoreload\n",
    "%autoreload 2"
   ]
  },
  {
   "cell_type": "code",
   "execution_count": 3,
   "id": "6f292dab-3b57-4033-a91b-6b94ccd3e897",
   "metadata": {
    "tags": []
   },
   "outputs": [],
   "source": [
    "%config InlineBackend.figure_format = \"retina\""
   ]
  },
  {
   "cell_type": "code",
   "execution_count": 716,
   "id": "c8d4117c-9c10-4ce6-89df-914a9c463725",
   "metadata": {
    "tags": []
   },
   "outputs": [],
   "source": [
    "uci = datagen.UCIDatasets(\"./data\")\n",
    "\n",
    "dataset_name = \"energy\"\n",
    "\n",
    "X_collection= []\n",
    "y_collection = []\n",
    "ix_clean_collection = []\n",
    "\n",
    "n_runs = 50\n",
    "v_error = 100\n",
    "for i in range(n_runs):\n",
    "    data = uci.sample_one_sided_noisy_dataset(dataset_name, p_error=0.05, seed=seed_init + i, v_error=v_error)\n",
    "    X = data[\"X\"]\n",
    "    y = data[\"y\"]\n",
    "    ix_clean = ~data[\"err_where\"].astype(bool)\n",
    "    \n",
    "    X_collection.append(X)\n",
    "    y_collection.append(y)\n",
    "    ix_clean_collection.append(ix_clean)"
   ]
  },
  {
   "cell_type": "code",
   "execution_count": 717,
   "id": "67d6ced7-2ed3-4a73-9fd1-1616ce4552c3",
   "metadata": {
    "tags": []
   },
   "outputs": [],
   "source": [
    "X_collection = jnp.array(X_collection)\n",
    "y_collection = jnp.array(y_collection)\n",
    "mask_clean = np.array(ix_clean_collection).T"
   ]
  },
  {
   "cell_type": "code",
   "execution_count": 718,
   "id": "bb0a081d-39c9-4898-a0e7-5fc85e726f60",
   "metadata": {
    "tags": []
   },
   "outputs": [],
   "source": [
    "class MLP(nn.Module):\n",
    "    @nn.compact\n",
    "    def __call__(self, x):\n",
    "        x = nn.Dense(10)(x)\n",
    "        x = nn.relu(x)\n",
    "        x = nn.Dense(1)(x)\n",
    "        return x"
   ]
  },
  {
   "cell_type": "markdown",
   "id": "1ce9e564-b504-41f7-b791-0f67e52453b3",
   "metadata": {},
   "source": [
    "# Setup"
   ]
  },
  {
   "cell_type": "code",
   "execution_count": 767,
   "id": "b235006d-9526-4fa6-a831-987e47d018e8",
   "metadata": {
    "tags": []
   },
   "outputs": [],
   "source": [
    "lr = 0.1\n",
    "Q = 0.0\n",
    "\n",
    "def callback_fn(bel, bel_pred, y, x, applyfn):\n",
    "    yhat = applyfn(bel_pred.mean, x[None])\n",
    "    return yhat"
   ]
  },
  {
   "cell_type": "code",
   "execution_count": 768,
   "id": "1e668928-14e9-46b6-a32a-d8592dc3fb8d",
   "metadata": {
    "tags": []
   },
   "outputs": [],
   "source": [
    "y, X = y_collection[0], X_collection[0]\n",
    "ix_clean = ix_clean_collection[0]"
   ]
  },
  {
   "cell_type": "code",
   "execution_count": 769,
   "id": "07833cd2-5e81-4b19-9030-56af2c8d0675",
   "metadata": {
    "tags": []
   },
   "outputs": [],
   "source": [
    "Q = 0.0\n",
    "observation_covariance = 1.0"
   ]
  },
  {
   "cell_type": "code",
   "execution_count": 770,
   "id": "3107a2c8-5d45-423e-a0a8-31b47979bb76",
   "metadata": {
    "tags": []
   },
   "outputs": [],
   "source": [
    "key = jax.random.PRNGKey(314)\n",
    "model = MLP()\n",
    "params_init = model.init(key, X[:1])"
   ]
  },
  {
   "cell_type": "markdown",
   "id": "11d28d96-ecac-447e-a412-b1aa9d8def70",
   "metadata": {},
   "source": [
    "## EKF"
   ]
  },
  {
   "cell_type": "code",
   "execution_count": 771,
   "id": "4821d2e7-ee79-4319-bc69-8c1d9c53c6d0",
   "metadata": {
    "tags": []
   },
   "outputs": [],
   "source": [
    "agent = gfilter.ExtendedKalmanFilter(\n",
    "    lambda x: x,\n",
    "    model.apply,\n",
    "    dynamics_covariance=Q,\n",
    "    observation_covariance=1.0 * jnp.eye(1),\n",
    ")\n",
    "\n",
    "bel_init = agent.init_bel(params_init, cov=lr)\n",
    "\n",
    "callback = partial(callback_fn, applyfn=agent.vobs_fn)"
   ]
  },
  {
   "cell_type": "code",
   "execution_count": 772,
   "id": "5c7e5972-84e5-4817-9d69-0d9746420cb9",
   "metadata": {
    "tags": []
   },
   "outputs": [
    {
     "name": "stdout",
     "output_type": "stream",
     "text": [
      "CPU times: user 3.45 s, sys: 49.2 ms, total: 3.5 s\n",
      "Wall time: 7.14 s\n"
     ]
    }
   ],
   "source": [
    "%%time\n",
    "callback = partial(callback_fn, applyfn=agent.vobs_fn)\n",
    "res = jax.vmap(agent.scan, in_axes=(None, 0, 0, None))(bel_init, y_collection, X_collection, callback)\n",
    "res = jax.block_until_ready(res)\n",
    "state_final_collection, yhat_collection_ekf = res\n",
    "yhat_collection_ekf = yhat_collection_ekf.squeeze()"
   ]
  },
  {
   "cell_type": "code",
   "execution_count": 773,
   "id": "8de5ecd0-ed04-4b75-9144-5d073ff18824",
   "metadata": {
    "tags": []
   },
   "outputs": [],
   "source": [
    "err_collection_ekf = pd.DataFrame(np.power(y_collection - yhat_collection_ekf, 2).T)\n",
    "summ_collection_ekf = err_collection_ekf.expanding(10).mean()"
   ]
  },
  {
   "cell_type": "markdown",
   "id": "a21fa95d-dc79-44ba-b5c1-c7d3cdab18c1",
   "metadata": {},
   "source": [
    "## WLF-IMQ"
   ]
  },
  {
   "cell_type": "markdown",
   "id": "c4e3695a-9594-4bb2-976b-a8c5d9143a55",
   "metadata": {},
   "source": [
    "### Hparam choice"
   ]
  },
  {
   "cell_type": "code",
   "execution_count": 774,
   "id": "19a3ee5f-ede7-45df-bf05-5b1636999fcb",
   "metadata": {
    "tags": []
   },
   "outputs": [],
   "source": [
    "def filter_imqf(soft_threshold):\n",
    "    agent = gbfilter.IMQFilter(\n",
    "        model.apply, dynamics_covariance=Q,\n",
    "        observation_covariance=observation_covariance,\n",
    "        soft_threshold=soft_threshold\n",
    "    )\n",
    "\n",
    "    bel_init = agent.init_bel(params_init, cov=lr)\n",
    "    callback = partial(callback_fn, applyfn=agent.link_fn)\n",
    "    bel_imq, yhat_pp = agent.scan(bel_init, y, X, callback_fn=callback)\n",
    "    out = (agent, bel_imq)\n",
    "    return yhat_pp.squeeze(), out\n",
    "\n",
    "def opt_step(soft_threshold):\n",
    "    res = -jnp.power(filter_imqf(soft_threshold)[0] - y, 2)[ix_clean].mean()\n",
    "    \n",
    "    if np.isnan(res):\n",
    "        res = -1e+6\n",
    "    \n",
    "    return res"
   ]
  },
  {
   "cell_type": "code",
   "execution_count": 775,
   "id": "a631b8b7-e616-4785-9c3e-8dd4cf600253",
   "metadata": {
    "tags": []
   },
   "outputs": [
    {
     "name": "stdout",
     "output_type": "stream",
     "text": [
      "|   iter    |  target   | soft_t... |\n",
      "-------------------------------------\n",
      "| \u001b[95m2        \u001b[0m | \u001b[95m-0.1344  \u001b[0m | \u001b[95m11.77    \u001b[0m |\n",
      "| \u001b[95m3        \u001b[0m | \u001b[95m-0.1122  \u001b[0m | \u001b[95m5.301    \u001b[0m |\n",
      "| \u001b[95m7        \u001b[0m | \u001b[95m-0.1116  \u001b[0m | \u001b[95m4.029    \u001b[0m |\n",
      "=====================================\n",
      "CPU times: user 3min, sys: 2min 53s, total: 5min 54s\n",
      "Wall time: 21.7 s\n"
     ]
    }
   ],
   "source": [
    "%%time\n",
    "bo = BayesianOptimization(\n",
    "    opt_step,\n",
    "    pbounds={\n",
    "        \"soft_threshold\": (1e-6, 20),\n",
    "    },\n",
    "    verbose=1,\n",
    "    random_state=314,\n",
    "    allow_duplicate_points=True\n",
    ")\n",
    "\n",
    "bo.maximize()"
   ]
  },
  {
   "cell_type": "markdown",
   "id": "9579721f-5064-4258-b5d5-181e5ac20bc5",
   "metadata": {},
   "source": [
    "### Eval"
   ]
  },
  {
   "cell_type": "code",
   "execution_count": 776,
   "id": "4be9263c-ec2c-4b0b-8aa8-85901d4feaf0",
   "metadata": {
    "tags": []
   },
   "outputs": [],
   "source": [
    "soft_threshold = bo.max[\"params\"][\"soft_threshold\"]\n",
    "agent = gbfilter.IMQFilter(\n",
    "    model.apply,\n",
    "    dynamics_covariance=0.0,\n",
    "    observation_covariance=1.0,\n",
    "    soft_threshold=soft_threshold\n",
    ")"
   ]
  },
  {
   "cell_type": "code",
   "execution_count": 777,
   "id": "5654a6b1-d409-4283-8c8d-887a5584d0b6",
   "metadata": {
    "tags": []
   },
   "outputs": [
    {
     "name": "stdout",
     "output_type": "stream",
     "text": [
      "CPU times: user 3.52 s, sys: 175 ms, total: 3.7 s\n",
      "Wall time: 7.21 s\n"
     ]
    }
   ],
   "source": [
    "%%time\n",
    "bel_init = agent.init_bel(params_init, cov=lr)\n",
    "callback = partial(callback_fn, applyfn=agent.link_fn)\n",
    "_, yhat_collection_wlf = jax.vmap(agent.scan, in_axes=(None, 0, 0, None))(bel_init, y_collection, X_collection, callback)\n",
    "yhat_collection_wlf = jax.block_until_ready(yhat_collection_wlf.squeeze())"
   ]
  },
  {
   "cell_type": "code",
   "execution_count": 778,
   "id": "0a6d4adb-0b3d-4844-a153-438a60f32c39",
   "metadata": {
    "tags": []
   },
   "outputs": [],
   "source": [
    "err_collection_wlf = pd.DataFrame(np.power(y_collection - yhat_collection_wlf, 2).T)"
   ]
  },
  {
   "cell_type": "markdown",
   "id": "e137e1d9-07f3-413d-aa5b-78db2debc940",
   "metadata": {},
   "source": [
    "## IW-based EKF\n",
    "(Agamenoni 2012)"
   ]
  },
  {
   "cell_type": "markdown",
   "id": "8f532084-ca87-43af-8a5e-dbcded2cf9fb",
   "metadata": {},
   "source": [
    "### Hparam choice"
   ]
  },
  {
   "cell_type": "code",
   "execution_count": 779,
   "id": "f43820b5-ef1c-4cce-a6c8-cf1b21ce24e0",
   "metadata": {
    "tags": []
   },
   "outputs": [],
   "source": [
    "def filter_rkf(noise_scaling):\n",
    "    agent_rekf = rfilter.ExtendedRobustKalmanFilter(\n",
    "        lambda x: x, model.apply, dynamics_covariance=Q,\n",
    "        prior_observation_covariance=observation_covariance * jnp.eye(1),\n",
    "        noise_scaling=noise_scaling,\n",
    "        n_inner=1\n",
    "    )\n",
    "    \n",
    "    bel_init = agent_rekf.init_bel(params_init, cov=lr)\n",
    "    callback = partial(callback_fn, applyfn=agent_rekf.vobs_fn)\n",
    "    bel_rekf, yhat_pp = agent_rekf.scan(bel_init, y, X, callback_fn=callback)\n",
    "    out = (agent_rekf, bel_rekf)\n",
    "    \n",
    "    return yhat_pp.squeeze(), out"
   ]
  },
  {
   "cell_type": "code",
   "execution_count": 780,
   "id": "6cf4f3e4-148e-4b37-8487-4074fe4f0900",
   "metadata": {
    "tags": []
   },
   "outputs": [],
   "source": [
    "def opt_step(noise_scaling):\n",
    "    res = -jnp.power(filter_rkf(noise_scaling)[0] - y, 2)[ix_clean].mean()\n",
    "    if np.isnan(res):\n",
    "        res = -1e+6\n",
    "    \n",
    "    return res"
   ]
  },
  {
   "cell_type": "code",
   "execution_count": 781,
   "id": "b96de78c-b453-418b-af8b-a2922621baef",
   "metadata": {
    "tags": []
   },
   "outputs": [
    {
     "name": "stdout",
     "output_type": "stream",
     "text": [
      "|   iter    |  target   | noise_... |\n",
      "-------------------------------------\n",
      "| \u001b[95m6        \u001b[0m | \u001b[95m-0.1105  \u001b[0m | \u001b[95m8.274    \u001b[0m |\n",
      "| \u001b[95m34       \u001b[0m | \u001b[95m-0.1105  \u001b[0m | \u001b[95m8.034    \u001b[0m |\n",
      "=====================================\n",
      "CPU times: user 2min 54s, sys: 3min 2s, total: 5min 57s\n",
      "Wall time: 14.6 s\n"
     ]
    }
   ],
   "source": [
    "%%time\n",
    "bo = BayesianOptimization(\n",
    "    opt_step,\n",
    "    pbounds={\n",
    "        \"noise_scaling\": (1e-6, 10)\n",
    "    },\n",
    "    verbose=1,\n",
    "    random_state=314,\n",
    "    allow_duplicate_points=True\n",
    ")\n",
    "\n",
    "bo.maximize(init_points=10)"
   ]
  },
  {
   "cell_type": "markdown",
   "id": "8a5e3c59-be3b-4cd5-823f-98d877f5749e",
   "metadata": {},
   "source": [
    "### Eval"
   ]
  },
  {
   "cell_type": "code",
   "execution_count": 782,
   "id": "dc7ac848-1ec9-471d-ba14-fd9bad4ac7dd",
   "metadata": {
    "tags": []
   },
   "outputs": [],
   "source": [
    "noise_scaling = bo.max[\"params\"][\"noise_scaling\"]\n",
    "\n",
    "agent = rfilter.ExtendedRobustKalmanFilter(\n",
    "    lambda x: x,\n",
    "    model.apply,\n",
    "    dynamics_covariance=0.0,\n",
    "    prior_observation_covariance=1.0 * jnp.eye(1),\n",
    "    n_inner=1,\n",
    "    noise_scaling=noise_scaling,\n",
    ")"
   ]
  },
  {
   "cell_type": "code",
   "execution_count": 783,
   "id": "658fd429-1952-4da9-88b5-23eae0ae3c0d",
   "metadata": {
    "tags": []
   },
   "outputs": [],
   "source": [
    "bel_init = agent.init_bel(params_init, cov=lr)\n",
    "callback = partial(callback_fn, applyfn=agent.vobs_fn)\n",
    "_, yhat_collection_ann1 = jax.vmap(agent.scan, in_axes=(None, 0, 0, None))(bel_init, y_collection, X_collection, callback)\n",
    "yhat_collection_ann1 = yhat_collection_ann1.squeeze()"
   ]
  },
  {
   "cell_type": "code",
   "execution_count": 784,
   "id": "66d07a64-78ba-44e4-b2d5-848fd1f7aa82",
   "metadata": {
    "tags": []
   },
   "outputs": [],
   "source": [
    "err_collection_ann1 = pd.DataFrame(np.power(y_collection - yhat_collection_ann1, 2).T)"
   ]
  },
  {
   "cell_type": "markdown",
   "id": "bad9428d-b776-4d3e-856b-b9dd19787477",
   "metadata": {},
   "source": [
    "## Mahalanobis-based EKF\n",
    "(Ting 2007)"
   ]
  },
  {
   "cell_type": "markdown",
   "id": "7da9be7c-5090-45f9-a0ef-68682e9c7d91",
   "metadata": {},
   "source": [
    "### Hparam section"
   ]
  },
  {
   "cell_type": "code",
   "execution_count": 785,
   "id": "30abee5b-6cbc-42a1-810c-586e69b7a409",
   "metadata": {
    "tags": []
   },
   "outputs": [],
   "source": [
    "def filter_mah_ekf(threshold):\n",
    "    agent_mekf = rfilter.ExtendedThresholdedKalmanFilter(\n",
    "        lambda x: x, model.apply,\n",
    "        dynamics_covariance=Q,\n",
    "        observation_covariance=observation_covariance * jnp.eye(1),\n",
    "        threshold=threshold\n",
    "    )\n",
    "    \n",
    "    bel_init = agent_mekf.init_bel(params_init, cov=lr)\n",
    "    callback = partial(callback_fn, applyfn=agent_mekf.vobs_fn)\n",
    "    \n",
    "    bel_mekf, yhat_pp = agent_mekf.scan(bel_init, y, X, callback_fn=callback)\n",
    "    out = (agent_mekf, bel_mekf)\n",
    "    return yhat_pp.squeeze(), out"
   ]
  },
  {
   "cell_type": "code",
   "execution_count": 786,
   "id": "8639187a-e321-4113-ba3c-fadb797ef5ed",
   "metadata": {
    "tags": []
   },
   "outputs": [
    {
     "name": "stdout",
     "output_type": "stream",
     "text": [
      "|   iter    |  target   | threshold |\n",
      "-------------------------------------\n",
      "| \u001b[95m3        \u001b[0m | \u001b[95m-0.1097  \u001b[0m | \u001b[95m5.301    \u001b[0m |\n",
      "| \u001b[95m31       \u001b[0m | \u001b[95m-0.1094  \u001b[0m | \u001b[95m4.22     \u001b[0m |\n",
      "=====================================\n",
      "CPU times: user 3min 5s, sys: 2min 57s, total: 6min 3s\n",
      "Wall time: 25.2 s\n"
     ]
    }
   ],
   "source": [
    "%%time\n",
    "bo = BayesianOptimization(\n",
    "    lambda threshold: -jnp.power(filter_mah_ekf(threshold)[0] - y, 2)[ix_clean].mean(),\n",
    "    pbounds={\n",
    "        \"threshold\": (1e-6, 20)\n",
    "    },\n",
    "    verbose=1,\n",
    "    random_state=314,\n",
    "    allow_duplicate_points=True\n",
    ")\n",
    "\n",
    "bo.maximize(init_points=10)"
   ]
  },
  {
   "cell_type": "markdown",
   "id": "a7592a1a-30a3-4aac-9ae7-ecb3a5dc1c75",
   "metadata": {},
   "source": [
    "### Eval"
   ]
  },
  {
   "cell_type": "code",
   "execution_count": 787,
   "id": "c82f4ca1-a804-439f-8ee0-cc47c8038eca",
   "metadata": {
    "tags": []
   },
   "outputs": [],
   "source": [
    "threshold = bo.max[\"params\"][\"threshold\"]\n",
    "agent = rfilter.ExtendedThresholdedKalmanFilter(\n",
    "    lambda x: x,\n",
    "    model.apply,\n",
    "    dynamics_covariance=0.0,\n",
    "    observation_covariance=1.0 * jnp.eye(1),\n",
    "    threshold=threshold,\n",
    ")"
   ]
  },
  {
   "cell_type": "code",
   "execution_count": 788,
   "id": "788d61b2-2691-4c2a-846f-0e6835dd0eb2",
   "metadata": {
    "tags": []
   },
   "outputs": [
    {
     "name": "stdout",
     "output_type": "stream",
     "text": [
      "CPU times: user 3.36 s, sys: 143 ms, total: 3.5 s\n",
      "Wall time: 7.24 s\n"
     ]
    }
   ],
   "source": [
    "%%time\n",
    "bel_init = agent.init_bel(params_init, cov=lr)\n",
    "callback = partial(callback_fn, applyfn=agent.vobs_fn)\n",
    "_, yhat_collection_mekf = jax.vmap(agent.scan, in_axes=(None, 0, 0, None))(bel_init, y_collection, X_collection, callback)\n",
    "yhat_collection_mekf = jax.block_until_ready(yhat_collection_mekf)\n",
    "yhat_collection_mekf = yhat_collection_mekf.squeeze()"
   ]
  },
  {
   "cell_type": "code",
   "execution_count": 789,
   "id": "461d5f3d-3e60-4d92-bd98-92ddaa8f2608",
   "metadata": {
    "tags": []
   },
   "outputs": [],
   "source": [
    "err_collection_mekf = pd.DataFrame(np.power(y_collection - yhat_collection_mekf, 2).T)"
   ]
  },
  {
   "cell_type": "markdown",
   "id": "3fc8bfc9-1ee8-47c9-bc14-9c3bdf511355",
   "metadata": {},
   "source": [
    "## Online SGD"
   ]
  },
  {
   "cell_type": "code",
   "execution_count": 790,
   "id": "dae907a9-6821-4500-89b1-e3b222685f05",
   "metadata": {
    "tags": []
   },
   "outputs": [],
   "source": [
    "def lossfn(params, counter, x, y, applyfn):\n",
    "    yhat = applyfn(params, x)\n",
    "    return jnp.sum(counter * (y - yhat) ** 2) / counter.sum()"
   ]
  },
  {
   "cell_type": "code",
   "execution_count": 811,
   "id": "846a16ec-3403-47b6-a53a-4d9d3a611157",
   "metadata": {
    "tags": []
   },
   "outputs": [
    {
     "data": {
      "text/plain": [
       "Array(2.596912, dtype=float32)"
      ]
     },
     "execution_count": 811,
     "metadata": {},
     "output_type": "execute_result"
    }
   ],
   "source": [
    "agent = replay_sgd.FifoSGD(\n",
    "    model.apply,\n",
    "    lossfn,\n",
    "    optax.adam(0.1),\n",
    "    buffer_size=1,\n",
    "    dim_features=X.shape[-1],\n",
    "    dim_output=1,\n",
    "    n_inner=1\n",
    ")\n",
    "\n",
    "callback = partial(callback_fn, applyfn=model.apply)\n",
    "\n",
    "bel_init = agent.init_bel(params_init)\n",
    "state_final, yhat = agent.scan(bel_init, y, X, callback)\n",
    "yhat = yhat.squeeze()\n",
    "\n",
    "errs = (y - yhat)[ix_clean]\n",
    "jnp.sqrt(jnp.power(errs, 2).mean())"
   ]
  },
  {
   "cell_type": "code",
   "execution_count": 812,
   "id": "36d83a24-3a34-46f5-b0dc-8ae3f454e9e0",
   "metadata": {
    "tags": []
   },
   "outputs": [
    {
     "name": "stdout",
     "output_type": "stream",
     "text": [
      "CPU times: user 776 ms, sys: 25.5 ms, total: 802 ms\n",
      "Wall time: 636 ms\n"
     ]
    }
   ],
   "source": [
    "%%time\n",
    "_, yhat_collection_ogd = jax.vmap(agent.scan, in_axes=(None, 0, 0, None))(bel_init, y_collection, X_collection, callback)\n",
    "yhat_collection_ogd = jax.block_until_ready(yhat_collection_ogd)\n",
    "yhat_collection_ogd = yhat_collection_ogd.squeeze()"
   ]
  },
  {
   "cell_type": "code",
   "execution_count": 813,
   "id": "550563e7-d404-4107-9d17-865a59095edb",
   "metadata": {
    "tags": []
   },
   "outputs": [],
   "source": [
    "err_collection_ogd  = pd.DataFrame(np.power(y_collection - yhat_collection_ogd, 2).T)"
   ]
  },
  {
   "cell_type": "markdown",
   "id": "1affd29f-ed8f-41fb-bc70-b322270ceb67",
   "metadata": {},
   "source": [
    "# Results"
   ]
  },
  {
   "cell_type": "code",
   "execution_count": 814,
   "id": "25024681-3caa-4300-b44e-836e93828f3a",
   "metadata": {
    "tags": []
   },
   "outputs": [],
   "source": [
    "import seaborn as sns"
   ]
  },
  {
   "cell_type": "code",
   "execution_count": 815,
   "id": "b91ef13d-9b94-469a-a735-3b1c35b24847",
   "metadata": {
    "tags": []
   },
   "outputs": [
    {
     "data": {
      "text/html": [
       "<div>\n",
       "<style scoped>\n",
       "    .dataframe tbody tr th:only-of-type {\n",
       "        vertical-align: middle;\n",
       "    }\n",
       "\n",
       "    .dataframe tbody tr th {\n",
       "        vertical-align: top;\n",
       "    }\n",
       "\n",
       "    .dataframe thead th {\n",
       "        text-align: right;\n",
       "    }\n",
       "</style>\n",
       "<table border=\"1\" class=\"dataframe\">\n",
       "  <thead>\n",
       "    <tr style=\"text-align: right;\">\n",
       "      <th></th>\n",
       "      <th>WLF-IMQ</th>\n",
       "      <th>EKF</th>\n",
       "      <th>OGD</th>\n",
       "      <th>M-EKF</th>\n",
       "      <th>E-ANN-1</th>\n",
       "    </tr>\n",
       "  </thead>\n",
       "  <tbody>\n",
       "    <tr>\n",
       "      <th>count</th>\n",
       "      <td>50.000000</td>\n",
       "      <td>50.000000</td>\n",
       "      <td>50.000000</td>\n",
       "      <td>50.000000</td>\n",
       "      <td>50.000000</td>\n",
       "    </tr>\n",
       "    <tr>\n",
       "      <th>mean</th>\n",
       "      <td>0.118218</td>\n",
       "      <td>18.526534</td>\n",
       "      <td>7.095373</td>\n",
       "      <td>0.114904</td>\n",
       "      <td>0.116232</td>\n",
       "    </tr>\n",
       "    <tr>\n",
       "      <th>std</th>\n",
       "      <td>0.009154</td>\n",
       "      <td>10.747904</td>\n",
       "      <td>2.985651</td>\n",
       "      <td>0.008782</td>\n",
       "      <td>0.009117</td>\n",
       "    </tr>\n",
       "    <tr>\n",
       "      <th>min</th>\n",
       "      <td>0.100291</td>\n",
       "      <td>2.840201</td>\n",
       "      <td>2.604806</td>\n",
       "      <td>0.100728</td>\n",
       "      <td>0.097658</td>\n",
       "    </tr>\n",
       "    <tr>\n",
       "      <th>25%</th>\n",
       "      <td>0.112087</td>\n",
       "      <td>11.737072</td>\n",
       "      <td>4.597081</td>\n",
       "      <td>0.109201</td>\n",
       "      <td>0.109748</td>\n",
       "    </tr>\n",
       "    <tr>\n",
       "      <th>50%</th>\n",
       "      <td>0.117724</td>\n",
       "      <td>16.470035</td>\n",
       "      <td>6.631927</td>\n",
       "      <td>0.113724</td>\n",
       "      <td>0.115318</td>\n",
       "    </tr>\n",
       "    <tr>\n",
       "      <th>75%</th>\n",
       "      <td>0.123490</td>\n",
       "      <td>23.885724</td>\n",
       "      <td>8.504703</td>\n",
       "      <td>0.119579</td>\n",
       "      <td>0.120566</td>\n",
       "    </tr>\n",
       "    <tr>\n",
       "      <th>max</th>\n",
       "      <td>0.145687</td>\n",
       "      <td>51.487933</td>\n",
       "      <td>15.797383</td>\n",
       "      <td>0.144559</td>\n",
       "      <td>0.142091</td>\n",
       "    </tr>\n",
       "  </tbody>\n",
       "</table>\n",
       "</div>"
      ],
      "text/plain": [
       "         WLF-IMQ        EKF        OGD      M-EKF    E-ANN-1\n",
       "count  50.000000  50.000000  50.000000  50.000000  50.000000\n",
       "mean    0.118218  18.526534   7.095373   0.114904   0.116232\n",
       "std     0.009154  10.747904   2.985651   0.008782   0.009117\n",
       "min     0.100291   2.840201   2.604806   0.100728   0.097658\n",
       "25%     0.112087  11.737072   4.597081   0.109201   0.109748\n",
       "50%     0.117724  16.470035   6.631927   0.113724   0.115318\n",
       "75%     0.123490  23.885724   8.504703   0.119579   0.120566\n",
       "max     0.145687  51.487933  15.797383   0.144559   0.142091"
      ]
     },
     "execution_count": 815,
     "metadata": {},
     "output_type": "execute_result"
    }
   ],
   "source": [
    "df_results = pd.DataFrame({\n",
    "    \"WLF-IMQ\": err_collection_wlf.mul(mask_clean).sum(axis=0) / mask_clean.sum(axis=0),\n",
    "    \"EKF\": err_collection_ekf.mul(mask_clean).sum(axis=0) / mask_clean.sum(axis=0),\n",
    "    \"OGD\": err_collection_ogd.mul(mask_clean).sum(axis=0) / mask_clean.sum(axis=0),\n",
    "    \"M-EKF\": err_collection_mekf.mul(mask_clean).sum(axis=0) / mask_clean.sum(axis=0),\n",
    "    \"E-ANN-1\": err_collection_ann1.mul(mask_clean).sum(axis=0) / mask_clean.sum(axis=0),\n",
    "})\n",
    "\n",
    "df_results.describe()"
   ]
  },
  {
   "cell_type": "code",
   "execution_count": 816,
   "id": "bce9615c-597c-4626-8725-0e4955d638e7",
   "metadata": {
    "tags": []
   },
   "outputs": [
    {
     "data": {
      "image/png": "[encoded data removed]",
      "text/plain": [
       "<Figure size 640x480 with 1 Axes>"
      ]
     },
     "metadata": {
      "image/png": {
       "height": 432,
       "width": 562
      }
     },
     "output_type": "display_data"
    }
   ],
   "source": [
    "sns.boxenplot(\n",
    "    x=\"variable\",\n",
    "    y=\"value\",\n",
    "    data=df_results.melt(),\n",
    ")\n",
    "plt.grid(alpha=0.1)"
   ]
  }
 ],
 "metadata": {
  "kernelspec": {
   "display_name": "research",
   "language": "python",
   "name": "research"
  },
  "language_info": {
   "codemirror_mode": {
    "name": "ipython",
    "version": 3
   },
   "file_extension": ".py",
   "mimetype": "text/x-python",
   "name": "python",
   "nbconvert_exporter": "python",
   "pygments_lexer": "ipython3",
   "version": "3.10.12"
  }
 },
 "nbformat": 4,
 "nbformat_minor": 5
}
