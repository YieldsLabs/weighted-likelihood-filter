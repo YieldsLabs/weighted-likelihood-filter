{
 "cells": [
  {
   "cell_type": "markdown",
   "id": "373cded5-c68d-49b9-bff5-b7db05001055",
   "metadata": {},
   "source": [
    "# UCI regression eval"
   ]
  },
  {
   "cell_type": "code",
   "execution_count": 36,
   "id": "395861aa-e462-4851-acfb-7b5941fd7c60",
   "metadata": {
    "tags": []
   },
   "outputs": [],
   "source": [
    "import os\n",
    "import pickle\n",
    "import numpy as np\n",
    "import pandas as pd\n",
    "import matplotlib.pyplot as plt"
   ]
  },
  {
   "cell_type": "code",
   "execution_count": 37,
   "id": "a9812c0b-dded-4a84-8722-381fca36b117",
   "metadata": {
    "tags": []
   },
   "outputs": [],
   "source": [
    "%config InlineBackend.figure_format = \"retina\""
   ]
  },
  {
   "cell_type": "code",
   "execution_count": 42,
   "id": "a66c9626-d0c1-4610-bd67-fb419c343457",
   "metadata": {
    "tags": []
   },
   "outputs": [
    {
     "data": {
      "text/plain": [
       "['bostonHousing-target-p-error10.pkl',\n",
       " 'concrete-target-p-error10.pkl',\n",
       " 'energy-target-p-error10.pkl',\n",
       " 'kin8nm-target-p-error10.pkl',\n",
       " 'naval-propulsion-plant-target-p-error10.pkl',\n",
       " 'power-plant-target-p-error10.pkl',\n",
       " 'protein-tertiary-structure-target-p-error10.pkl',\n",
       " 'wine-quality-red-target-p-error10.pkl',\n",
       " 'yacht-target-p-error10.pkl']"
      ]
     },
     "execution_count": 42,
     "metadata": {},
     "output_type": "execute_result"
    }
   ],
   "source": [
    "path_base = \"./results\"\n",
    "# experiment_names = [f for f in os.listdir(path_base) if (\"-target\" in f) and (\"p-error\" not in f)]\n",
    "experiment_names = [f for f in os.listdir(path_base) if (\"-target\" in f) and (\"p-error10\" in f)]\n",
    "sorted(experiment_names)"
   ]
  },
  {
   "cell_type": "code",
   "execution_count": 43,
   "id": "880f3c56-43a4-4df8-b9aa-4f764c6dd6cb",
   "metadata": {
    "tags": []
   },
   "outputs": [],
   "source": [
    "df_results_all = []\n",
    "for file_name in experiment_names:\n",
    "    dataset = file_name.replace(\"-target.pkl\", \"\")\n",
    "    path = os.path.join(path_base, file_name)\n",
    "    with open(path, \"rb\") as f:\n",
    "        experiment = pickle.load(f)\n",
    "\n",
    "    errors = experiment[\"methods\"]\n",
    "\n",
    "    df_results = pd.DataFrame({\n",
    "        name: errors[name].median(axis=0)\n",
    "        for name in errors\n",
    "    })\n",
    "\n",
    "    df_results = df_results.melt()\n",
    "    df_results[\"dataset\"] = dataset\n",
    "    df_results_all.append(df_results)\n",
    "\n",
    "df_results_all = pd.concat(df_results_all, axis=0)\n",
    "\n",
    "# Root median squared error\n",
    "df_results_all[\"value\"] = np.sqrt(df_results_all[\"value\"])\n",
    "df_results_all[\"dataset\"] = df_results_all[\"dataset\"].str.replace(\"-.*\", \"\", regex=True).str.capitalize()"
   ]
  },
  {
   "cell_type": "code",
   "execution_count": 63,
   "id": "209911fd-c31e-42ed-aded-cb656ad67952",
   "metadata": {
    "tags": []
   },
   "outputs": [],
   "source": [
    "def format_entry(entry):\n",
    "    entry = entry[entry < 1000]\n",
    "    mean = entry.mean()\n",
    "    std = entry.std()\n",
    "    if std > 1000:\n",
    "        label = rf\"$-$\"\n",
    "    else:\n",
    "        label = rf\"${mean:0.3f} \\pm {std:0.3f}$\"\n",
    "    return label"
   ]
  },
  {
   "cell_type": "code",
   "execution_count": 71,
   "id": "4bfa3119-ccf1-4144-9cfa-964a7efaaa69",
   "metadata": {
    "tags": []
   },
   "outputs": [
    {
     "data": {
      "text/html": [
       "<div>\n",
       "<style scoped>\n",
       "    .dataframe tbody tr th:only-of-type {\n",
       "        vertical-align: middle;\n",
       "    }\n",
       "\n",
       "    .dataframe tbody tr th {\n",
       "        vertical-align: top;\n",
       "    }\n",
       "\n",
       "    .dataframe thead th {\n",
       "        text-align: right;\n",
       "    }\n",
       "</style>\n",
       "<table border=\"1\" class=\"dataframe\">\n",
       "  <thead>\n",
       "    <tr style=\"text-align: right;\">\n",
       "      <th>variable</th>\n",
       "      <th>E-ANN-1</th>\n",
       "      <th>EKF</th>\n",
       "      <th>OGD</th>\n",
       "      <th>WLF-IMQ</th>\n",
       "      <th>WLF-MD</th>\n",
       "    </tr>\n",
       "    <tr>\n",
       "      <th>dataset</th>\n",
       "      <th></th>\n",
       "      <th></th>\n",
       "      <th></th>\n",
       "      <th></th>\n",
       "      <th></th>\n",
       "    </tr>\n",
       "  </thead>\n",
       "  <tbody>\n",
       "    <tr>\n",
       "      <th>Bostonhousing</th>\n",
       "      <td>$0.063 \\pm 0.007$</td>\n",
       "      <td>$1.557 \\pm 0.533$</td>\n",
       "      <td>$0.799 \\pm 0.417$</td>\n",
       "      <td>$0.077 \\pm 0.008$</td>\n",
       "      <td>$0.071 \\pm 0.006$</td>\n",
       "    </tr>\n",
       "    <tr>\n",
       "      <th>Concrete</th>\n",
       "      <td>$1.330 \\pm 6.964$</td>\n",
       "      <td>$1.150 \\pm 0.358$</td>\n",
       "      <td>$0.501 \\pm 0.147$</td>\n",
       "      <td>$0.097 \\pm 0.009$</td>\n",
       "      <td>$0.093 \\pm 0.008$</td>\n",
       "    </tr>\n",
       "    <tr>\n",
       "      <th>Energy</th>\n",
       "      <td>$0.045 \\pm 0.004$</td>\n",
       "      <td>$2.642 \\pm 0.703$</td>\n",
       "      <td>$0.572 \\pm 0.212$</td>\n",
       "      <td>$0.051 \\pm 0.004$</td>\n",
       "      <td>$0.044 \\pm 0.003$</td>\n",
       "    </tr>\n",
       "    <tr>\n",
       "      <th>Kin8nm</th>\n",
       "      <td>$0.099 \\pm 0.020$</td>\n",
       "      <td>$0.784 \\pm 0.187$</td>\n",
       "      <td>$0.431 \\pm 0.092$</td>\n",
       "      <td>$0.097 \\pm 0.004$</td>\n",
       "      <td>$0.091 \\pm 0.004$</td>\n",
       "    </tr>\n",
       "    <tr>\n",
       "      <th>Naval</th>\n",
       "      <td>$1.198 \\pm 7.010$</td>\n",
       "      <td>$0.947 \\pm 0.211$</td>\n",
       "      <td>$0.376 \\pm 0.056$</td>\n",
       "      <td>$0.178 \\pm 0.006$</td>\n",
       "      <td>$0.120 \\pm 0.005$</td>\n",
       "    </tr>\n",
       "    <tr>\n",
       "      <th>Power</th>\n",
       "      <td>$0.059 \\pm 0.017$</td>\n",
       "      <td>$0.594 \\pm 0.119$</td>\n",
       "      <td>$0.381 \\pm 0.072$</td>\n",
       "      <td>$0.051 \\pm 0.001$</td>\n",
       "      <td>$0.049 \\pm 0.001$</td>\n",
       "    </tr>\n",
       "    <tr>\n",
       "      <th>Protein</th>\n",
       "      <td>$0.217 \\pm 0.013$</td>\n",
       "      <td>$0.488 \\pm 0.076$</td>\n",
       "      <td>$0.330 \\pm 0.030$</td>\n",
       "      <td>$0.203 \\pm 0.002$</td>\n",
       "      <td>$0.192 \\pm 0.002$</td>\n",
       "    </tr>\n",
       "    <tr>\n",
       "      <th>Wine</th>\n",
       "      <td>$11.544 \\pm 76.533$</td>\n",
       "      <td>$0.967 \\pm 0.330$</td>\n",
       "      <td>$0.871 \\pm 0.327$</td>\n",
       "      <td>$0.109 \\pm 0.014$</td>\n",
       "      <td>$0.107 \\pm 0.014$</td>\n",
       "    </tr>\n",
       "    <tr>\n",
       "      <th>Yacht</th>\n",
       "      <td>$0.113 \\pm 0.017$</td>\n",
       "      <td>$1.599 \\pm 0.592$</td>\n",
       "      <td>$1.216 \\pm 0.454$</td>\n",
       "      <td>$0.126 \\pm 0.023$</td>\n",
       "      <td>$0.124 \\pm 0.022$</td>\n",
       "    </tr>\n",
       "  </tbody>\n",
       "</table>\n",
       "</div>"
      ],
      "text/plain": [
       "variable                   E-ANN-1                EKF                OGD  \\\n",
       "dataset                                                                    \n",
       "Bostonhousing    $0.063 \\pm 0.007$  $1.557 \\pm 0.533$  $0.799 \\pm 0.417$   \n",
       "Concrete         $1.330 \\pm 6.964$  $1.150 \\pm 0.358$  $0.501 \\pm 0.147$   \n",
       "Energy           $0.045 \\pm 0.004$  $2.642 \\pm 0.703$  $0.572 \\pm 0.212$   \n",
       "Kin8nm           $0.099 \\pm 0.020$  $0.784 \\pm 0.187$  $0.431 \\pm 0.092$   \n",
       "Naval            $1.198 \\pm 7.010$  $0.947 \\pm 0.211$  $0.376 \\pm 0.056$   \n",
       "Power            $0.059 \\pm 0.017$  $0.594 \\pm 0.119$  $0.381 \\pm 0.072$   \n",
       "Protein          $0.217 \\pm 0.013$  $0.488 \\pm 0.076$  $0.330 \\pm 0.030$   \n",
       "Wine           $11.544 \\pm 76.533$  $0.967 \\pm 0.330$  $0.871 \\pm 0.327$   \n",
       "Yacht            $0.113 \\pm 0.017$  $1.599 \\pm 0.592$  $1.216 \\pm 0.454$   \n",
       "\n",
       "variable                 WLF-IMQ             WLF-MD  \n",
       "dataset                                              \n",
       "Bostonhousing  $0.077 \\pm 0.008$  $0.071 \\pm 0.006$  \n",
       "Concrete       $0.097 \\pm 0.009$  $0.093 \\pm 0.008$  \n",
       "Energy         $0.051 \\pm 0.004$  $0.044 \\pm 0.003$  \n",
       "Kin8nm         $0.097 \\pm 0.004$  $0.091 \\pm 0.004$  \n",
       "Naval          $0.178 \\pm 0.006$  $0.120 \\pm 0.005$  \n",
       "Power          $0.051 \\pm 0.001$  $0.049 \\pm 0.001$  \n",
       "Protein        $0.203 \\pm 0.002$  $0.192 \\pm 0.002$  \n",
       "Wine           $0.109 \\pm 0.014$  $0.107 \\pm 0.014$  \n",
       "Yacht          $0.126 \\pm 0.023$  $0.124 \\pm 0.022$  "
      ]
     },
     "execution_count": 71,
     "metadata": {},
     "output_type": "execute_result"
    }
   ],
   "source": [
    "res = (\n",
    "    df_results_all\n",
    "    .pivot_table(columns=\"variable\", index=\"dataset\", values=\"value\", aggfunc=format_entry)\n",
    ")\n",
    "res"
   ]
  },
  {
   "cell_type": "code",
   "execution_count": 72,
   "id": "2d8de373-69b5-45bc-8682-800ec533e064",
   "metadata": {},
   "outputs": [
    {
     "name": "stdout",
     "output_type": "stream",
     "text": [
      "\\begin{tabular}{llllll}\n",
      "\\toprule\n",
      "variable & E-ANN-1 & EKF & OGD & WLF-IMQ & WLF-MD \\\\\n",
      "dataset &  &  &  &  &  \\\\\n",
      "\\midrule\n",
      "Bostonhousing & $0.063 \\pm 0.007$ & $1.557 \\pm 0.533$ & $0.799 \\pm 0.417$ & $0.077 \\pm 0.008$ & $0.071 \\pm 0.006$ \\\\\n",
      "Concrete & $1.330 \\pm 6.964$ & $1.150 \\pm 0.358$ & $0.501 \\pm 0.147$ & $0.097 \\pm 0.009$ & $0.093 \\pm 0.008$ \\\\\n",
      "Energy & $0.045 \\pm 0.004$ & $2.642 \\pm 0.703$ & $0.572 \\pm 0.212$ & $0.051 \\pm 0.004$ & $0.044 \\pm 0.003$ \\\\\n",
      "Kin8nm & $0.099 \\pm 0.020$ & $0.784 \\pm 0.187$ & $0.431 \\pm 0.092$ & $0.097 \\pm 0.004$ & $0.091 \\pm 0.004$ \\\\\n",
      "Naval & $1.198 \\pm 7.010$ & $0.947 \\pm 0.211$ & $0.376 \\pm 0.056$ & $0.178 \\pm 0.006$ & $0.120 \\pm 0.005$ \\\\\n",
      "Power & $0.059 \\pm 0.017$ & $0.594 \\pm 0.119$ & $0.381 \\pm 0.072$ & $0.051 \\pm 0.001$ & $0.049 \\pm 0.001$ \\\\\n",
      "Protein & $0.217 \\pm 0.013$ & $0.488 \\pm 0.076$ & $0.330 \\pm 0.030$ & $0.203 \\pm 0.002$ & $0.192 \\pm 0.002$ \\\\\n",
      "Wine & $11.544 \\pm 76.533$ & $0.967 \\pm 0.330$ & $0.871 \\pm 0.327$ & $0.109 \\pm 0.014$ & $0.107 \\pm 0.014$ \\\\\n",
      "Yacht & $0.113 \\pm 0.017$ & $1.599 \\pm 0.592$ & $1.216 \\pm 0.454$ & $0.126 \\pm 0.023$ & $0.124 \\pm 0.022$ \\\\\n",
      "\\bottomrule\n",
      "\\end{tabular}\n",
      "\n"
     ]
    }
   ],
   "source": [
    "print(res.style.to_latex(hrules=True).replace(\"_\", \"-\"))"
   ]
  },
  {
   "cell_type": "code",
   "execution_count": 69,
   "id": "eb8362ac-e8dd-48cd-8b7a-e4a4aea9f251",
   "metadata": {
    "tags": []
   },
   "outputs": [
    {
     "data": {
      "text/html": [
       "<div>\n",
       "<style scoped>\n",
       "    .dataframe tbody tr th:only-of-type {\n",
       "        vertical-align: middle;\n",
       "    }\n",
       "\n",
       "    .dataframe tbody tr th {\n",
       "        vertical-align: top;\n",
       "    }\n",
       "\n",
       "    .dataframe thead th {\n",
       "        text-align: right;\n",
       "    }\n",
       "</style>\n",
       "<table border=\"1\" class=\"dataframe\">\n",
       "  <thead>\n",
       "    <tr style=\"text-align: right;\">\n",
       "      <th>variable</th>\n",
       "      <th>E-ANN-1</th>\n",
       "      <th>EKF</th>\n",
       "      <th>OGD</th>\n",
       "      <th>WLF-IMQ</th>\n",
       "      <th>WLF-MD</th>\n",
       "    </tr>\n",
       "    <tr>\n",
       "      <th>dataset</th>\n",
       "      <th></th>\n",
       "      <th></th>\n",
       "      <th></th>\n",
       "      <th></th>\n",
       "      <th></th>\n",
       "    </tr>\n",
       "  </thead>\n",
       "  <tbody>\n",
       "    <tr>\n",
       "      <th>Bostonhousing</th>\n",
       "      <td>0</td>\n",
       "      <td>0</td>\n",
       "      <td>0</td>\n",
       "      <td>0</td>\n",
       "      <td>0</td>\n",
       "    </tr>\n",
       "    <tr>\n",
       "      <th>Concrete</th>\n",
       "      <td>5</td>\n",
       "      <td>0</td>\n",
       "      <td>0</td>\n",
       "      <td>0</td>\n",
       "      <td>0</td>\n",
       "    </tr>\n",
       "    <tr>\n",
       "      <th>Energy</th>\n",
       "      <td>0</td>\n",
       "      <td>0</td>\n",
       "      <td>0</td>\n",
       "      <td>0</td>\n",
       "      <td>0</td>\n",
       "    </tr>\n",
       "    <tr>\n",
       "      <th>Kin8nm</th>\n",
       "      <td>1</td>\n",
       "      <td>0</td>\n",
       "      <td>0</td>\n",
       "      <td>0</td>\n",
       "      <td>0</td>\n",
       "    </tr>\n",
       "    <tr>\n",
       "      <th>Naval</th>\n",
       "      <td>0</td>\n",
       "      <td>0</td>\n",
       "      <td>0</td>\n",
       "      <td>0</td>\n",
       "      <td>0</td>\n",
       "    </tr>\n",
       "    <tr>\n",
       "      <th>Power</th>\n",
       "      <td>1</td>\n",
       "      <td>0</td>\n",
       "      <td>0</td>\n",
       "      <td>0</td>\n",
       "      <td>0</td>\n",
       "    </tr>\n",
       "    <tr>\n",
       "      <th>Protein</th>\n",
       "      <td>0</td>\n",
       "      <td>0</td>\n",
       "      <td>0</td>\n",
       "      <td>0</td>\n",
       "      <td>0</td>\n",
       "    </tr>\n",
       "    <tr>\n",
       "      <th>Wine</th>\n",
       "      <td>8</td>\n",
       "      <td>0</td>\n",
       "      <td>0</td>\n",
       "      <td>0</td>\n",
       "      <td>0</td>\n",
       "    </tr>\n",
       "    <tr>\n",
       "      <th>Yacht</th>\n",
       "      <td>0</td>\n",
       "      <td>0</td>\n",
       "      <td>0</td>\n",
       "      <td>0</td>\n",
       "      <td>0</td>\n",
       "    </tr>\n",
       "  </tbody>\n",
       "</table>\n",
       "</div>"
      ],
      "text/plain": [
       "variable       E-ANN-1  EKF  OGD  WLF-IMQ  WLF-MD\n",
       "dataset                                          \n",
       "Bostonhousing        0    0    0        0       0\n",
       "Concrete             5    0    0        0       0\n",
       "Energy               0    0    0        0       0\n",
       "Kin8nm               1    0    0        0       0\n",
       "Naval                0    0    0        0       0\n",
       "Power                1    0    0        0       0\n",
       "Protein              0    0    0        0       0\n",
       "Wine                 8    0    0        0       0\n",
       "Yacht                0    0    0        0       0"
      ]
     },
     "execution_count": 69,
     "metadata": {},
     "output_type": "execute_result"
    }
   ],
   "source": [
    "res = (\n",
    "    df_results_all\n",
    "    .pivot_table(index=\"variable\", columns=\"dataset\", values=\"value\", aggfunc=lambda x: (x > 1000).sum())\n",
    ")\n",
    "res.T"
   ]
  },
  {
   "cell_type": "markdown",
   "id": "11556d71-d0f6-4e12-8705-5a58d661b930",
   "metadata": {},
   "source": [
    "## Experiments"
   ]
  },
  {
   "cell_type": "code",
   "execution_count": 73,
   "id": "2774d985-7edb-4d23-8e55-3942f80376d2",
   "metadata": {
    "tags": []
   },
   "outputs": [
    {
     "data": {
      "text/plain": [
       "['protein-tertiary-structure-target-p-error10.pkl',\n",
       " 'yacht-target-p-error10.pkl',\n",
       " 'kin8nm-target-p-error10.pkl',\n",
       " 'bostonHousing-target-p-error10.pkl',\n",
       " 'power-plant-target-p-error10.pkl',\n",
       " 'concrete-target-p-error10.pkl',\n",
       " 'wine-quality-red-target-p-error10.pkl',\n",
       " 'energy-target-p-error10.pkl',\n",
       " 'naval-propulsion-plant-target-p-error10.pkl']"
      ]
     },
     "execution_count": 73,
     "metadata": {},
     "output_type": "execute_result"
    }
   ],
   "source": [
    "experiment_names"
   ]
  },
  {
   "cell_type": "code",
   "execution_count": 85,
   "id": "06855b0f-502b-4321-beb8-31d97a6dc3f3",
   "metadata": {
    "tags": []
   },
   "outputs": [],
   "source": [
    "file_name = \"power-plant-target.pkl\"\n",
    "file_name = \"naval-propulsion-plant-target-p-error10.pkl\"\n",
    "dataset = file_name.replace(\"-target-perror10.pkl\", \"\")\n",
    "path = os.path.join(path_base, file_name)\n",
    "with open(path, \"rb\") as f:\n",
    "    experiment = pickle.load(f)\n",
    "\n",
    "errors = experiment[\"methods\"]"
   ]
  },
  {
   "cell_type": "code",
   "execution_count": 89,
   "id": "e78814b5-77a3-4626-818b-a28f1e2da9c6",
   "metadata": {
    "tags": []
   },
   "outputs": [
    {
     "data": {
      "image/png": "[encoded data removed]",
      "text/plain": [
       "<Figure size 640x480 with 1 Axes>"
      ]
     },
     "metadata": {
      "image/png": {
       "height": 413,
       "width": 557
      }
     },
     "output_type": "display_data"
    }
   ],
   "source": [
    "for method in errors:\n",
    "    errors[method][10:].expanding().median().median(axis=1).plot(label=method)\n",
    "    plt.yscale(\"log\")\n",
    "    plt.legend()\n",
    "    plt.grid(alpha=0.3)"
   ]
  }
 ],
 "metadata": {
  "kernelspec": {
   "display_name": "research",
   "language": "python",
   "name": "research"
  },
  "language_info": {
   "codemirror_mode": {
    "name": "ipython",
    "version": 3
   },
   "file_extension": ".py",
   "mimetype": "text/x-python",
   "name": "python",
   "nbconvert_exporter": "python",
   "pygments_lexer": "ipython3",
   "version": "3.10.12"
  }
 },
 "nbformat": 4,
 "nbformat_minor": 5
}
